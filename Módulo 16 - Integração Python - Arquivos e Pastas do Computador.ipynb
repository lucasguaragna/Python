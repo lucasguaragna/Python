{
 "cells": [
  {
   "cell_type": "markdown",
   "id": "8808c798",
   "metadata": {},
   "source": [
    "# Python e Arquivos do Computador\n",
    "\n",
    "### Módulo os e pathlib\n",
    "\n",
    "Os módulos os e pathlib são uns dos melhores módulos/bibliotecas para controlar as pastas e arquivos do seu computador. Existem alguns outros módulos que podem auxiliar dependendo do que você está querendo fazer, mas em essência conseguiremos usar esses módulos para resolver nossos desafios.\n",
    "\n",
    "Usaremos aqui o pathlib por ele funcionar bem independente do sistema operacional que você está usando.\n",
    "\n",
    "### Atenção Especial\n",
    "\n",
    "Normalmente os caminhos em computadores Windows, Mac ou Linux são diferentes, mas isso é algo que o pathlib vai resolver para a gente\n",
    "\n",
    "### Módulo shutil\n",
    "\n",
    "Para as ações de copiar e colar arquivo, até conseguimos fazer com os módulos os e pathlib, mas é mais difícil e com maior margem de erro. MAS, existe o módulo shutil para ajudar nisso"
   ]
  },
  {
   "cell_type": "markdown",
   "id": "9a8d1923",
   "metadata": {},
   "source": [
    "- Importando os Módulos"
   ]
  },
  {
   "cell_type": "raw",
   "id": "caed796b",
   "metadata": {},
   "source": [
    "from pathlib import Path"
   ]
  },
  {
   "cell_type": "markdown",
   "id": "2cec2825",
   "metadata": {},
   "source": [
    "- Descobrindo onde está o nosso arquivo"
   ]
  },
  {
   "cell_type": "raw",
   "id": "0b72ba2e",
   "metadata": {},
   "source": [
    "caminho = Path.cwd()"
   ]
  },
  {
   "cell_type": "markdown",
   "id": "fa6ccf48",
   "metadata": {},
   "source": [
    "- Navegando até uma pasta específica"
   ]
  },
  {
   "cell_type": "raw",
   "id": "068947fb",
   "metadata": {},
   "source": [
    "caminho = Path('pasta1/pasta2/pasta3/')"
   ]
  },
  {
   "cell_type": "markdown",
   "id": "195472fb",
   "metadata": {},
   "source": [
    "- Listando todos os arquivos da Pasta Atual"
   ]
  },
  {
   "cell_type": "raw",
   "id": "7dec1944",
   "metadata": {},
   "source": [
    "arquivos = Path.iterdir()"
   ]
  },
  {
   "cell_type": "markdown",
   "id": "ab4fdc80",
   "metadata": {},
   "source": [
    "- Criando uma pasta"
   ]
  },
  {
   "cell_type": "raw",
   "id": "5c57c424",
   "metadata": {},
   "source": [
    "Path('pasta/nova_pasta').mkdir()"
   ]
  },
  {
   "cell_type": "markdown",
   "id": "ccaf002b",
   "metadata": {},
   "source": [
    "- Verificando se um Arquivo Existe"
   ]
  },
  {
   "cell_type": "raw",
   "id": "77f461c1",
   "metadata": {},
   "source": [
    "arquivo = Path('pasta/arquivo.extensao')\n",
    "arquivo.exists()"
   ]
  },
  {
   "cell_type": "markdown",
   "id": "e2e57baa",
   "metadata": {},
   "source": [
    "- Copiando um Arquivo"
   ]
  },
  {
   "cell_type": "raw",
   "id": "7159d399",
   "metadata": {},
   "source": [
    "import shutil\n",
    "shutil.copy2('arquivo_para_copiar.extensao', 'nome_da_copia_criada.extensao')"
   ]
  },
  {
   "cell_type": "markdown",
   "id": "1fa98581",
   "metadata": {},
   "source": [
    "- Movendo um Arquivo"
   ]
  },
  {
   "cell_type": "raw",
   "id": "14d65fc9",
   "metadata": {},
   "source": [
    "2 formas:\n",
    "\n",
    "Path('caminho/arquivo.extensao').rename('caminho_novo/arquivo.extensao')<br>\n",
    "\n",
    "ou\n",
    "\n",
    "shutil.move(Path('caminho/arquivo.extensao'), Path('caminho_novo/arquivo.extensao'))"
   ]
  },
  {
   "cell_type": "markdown",
   "id": "a0d36a44",
   "metadata": {},
   "source": [
    "### Vamos listar todos os arquivos de uma pasta"
   ]
  },
  {
   "cell_type": "code",
   "execution_count": 10,
   "id": "a0899d9a",
   "metadata": {},
   "outputs": [
    {
     "name": "stdout",
     "output_type": "stream",
     "text": [
      "C:\\Users\\lucas\\OneDrive\\Documentos\\Cursos\\Hashtag Treinamentos- Python Impressionador\\Programas\n",
      "C:\\Users\\lucas\\OneDrive\\Documentos\\Cursos\\Hashtag Treinamentos- Python Impressionador\\Programas\\Arquivos_Lojas\n",
      "C:\\Users\\lucas\\OneDrive\\Documentos\\Cursos\\Hashtag Treinamentos- Python Impressionador\\Programas\\Arquivos_Lojas\\201801_Amazonas Shopping_AM.csv\n",
      "C:\\Users\\lucas\\OneDrive\\Documentos\\Cursos\\Hashtag Treinamentos- Python Impressionador\\Programas\\Arquivos_Lojas\\201801_Barra Shopping_RJ.csv\n",
      "C:\\Users\\lucas\\OneDrive\\Documentos\\Cursos\\Hashtag Treinamentos- Python Impressionador\\Programas\\Arquivos_Lojas\\201801_BH Shopping_MG.csv\n",
      "C:\\Users\\lucas\\OneDrive\\Documentos\\Cursos\\Hashtag Treinamentos- Python Impressionador\\Programas\\Arquivos_Lojas\\201801_Bourbon_SP.csv\n",
      "C:\\Users\\lucas\\OneDrive\\Documentos\\Cursos\\Hashtag Treinamentos- Python Impressionador\\Programas\\Arquivos_Lojas\\201801_Buriti Shopping_GO.csv\n",
      "C:\\Users\\lucas\\OneDrive\\Documentos\\Cursos\\Hashtag Treinamentos- Python Impressionador\\Programas\\Arquivos_Lojas\\201801_Cidade de Sao Paulo_SP.csv\n",
      "C:\\Users\\lucas\\OneDrive\\Documentos\\Cursos\\Hashtag Treinamentos- Python Impressionador\\Programas\\Arquivos_Lojas\\201801_Goiania Shopping_GO.csv\n",
      "C:\\Users\\lucas\\OneDrive\\Documentos\\Cursos\\Hashtag Treinamentos- Python Impressionador\\Programas\\Arquivos_Lojas\\201801_Ibirapuera_SP.csv\n",
      "C:\\Users\\lucas\\OneDrive\\Documentos\\Cursos\\Hashtag Treinamentos- Python Impressionador\\Programas\\Arquivos_Lojas\\201801_Iguatemi_SP.csv\n",
      "C:\\Users\\lucas\\OneDrive\\Documentos\\Cursos\\Hashtag Treinamentos- Python Impressionador\\Programas\\Arquivos_Lojas\\201801_Independência Shopping_MG.csv\n",
      "C:\\Users\\lucas\\OneDrive\\Documentos\\Cursos\\Hashtag Treinamentos- Python Impressionador\\Programas\\Arquivos_Lojas\\201801_JK Iguatemi_SP.csv\n",
      "C:\\Users\\lucas\\OneDrive\\Documentos\\Cursos\\Hashtag Treinamentos- Python Impressionador\\Programas\\Arquivos_Lojas\\201801_Minas Shopping_MG.csv\n",
      "C:\\Users\\lucas\\OneDrive\\Documentos\\Cursos\\Hashtag Treinamentos- Python Impressionador\\Programas\\Arquivos_Lojas\\201801_Morumbi_SP.csv\n",
      "C:\\Users\\lucas\\OneDrive\\Documentos\\Cursos\\Hashtag Treinamentos- Python Impressionador\\Programas\\Arquivos_Lojas\\201801_Plaza Shopping_RJ.csv\n",
      "C:\\Users\\lucas\\OneDrive\\Documentos\\Cursos\\Hashtag Treinamentos- Python Impressionador\\Programas\\Arquivos_Lojas\\201801_Rio Sul_RJ.csv\n",
      "C:\\Users\\lucas\\OneDrive\\Documentos\\Cursos\\Hashtag Treinamentos- Python Impressionador\\Programas\\Arquivos_Lojas\\201801_Shopping Cidade_MG.csv\n",
      "C:\\Users\\lucas\\OneDrive\\Documentos\\Cursos\\Hashtag Treinamentos- Python Impressionador\\Programas\\Arquivos_Lojas\\201801_Shopping Leblon_RJ.csv\n",
      "C:\\Users\\lucas\\OneDrive\\Documentos\\Cursos\\Hashtag Treinamentos- Python Impressionador\\Programas\\Arquivos_Lojas\\201801_Shopping Tijuca_RJ.csv\n",
      "C:\\Users\\lucas\\OneDrive\\Documentos\\Cursos\\Hashtag Treinamentos- Python Impressionador\\Programas\\Arquivos_Lojas\\201802_Amazonas Shopping_AM.csv\n",
      "C:\\Users\\lucas\\OneDrive\\Documentos\\Cursos\\Hashtag Treinamentos- Python Impressionador\\Programas\\Arquivos_Lojas\\201802_Barra Shopping_RJ.csv\n",
      "C:\\Users\\lucas\\OneDrive\\Documentos\\Cursos\\Hashtag Treinamentos- Python Impressionador\\Programas\\Arquivos_Lojas\\201802_BH Shopping_MG.csv\n",
      "C:\\Users\\lucas\\OneDrive\\Documentos\\Cursos\\Hashtag Treinamentos- Python Impressionador\\Programas\\Arquivos_Lojas\\201802_Bourbon_SP.csv\n",
      "C:\\Users\\lucas\\OneDrive\\Documentos\\Cursos\\Hashtag Treinamentos- Python Impressionador\\Programas\\Arquivos_Lojas\\201802_Buriti Shopping_GO.csv\n",
      "C:\\Users\\lucas\\OneDrive\\Documentos\\Cursos\\Hashtag Treinamentos- Python Impressionador\\Programas\\Arquivos_Lojas\\201802_Cidade de Sao Paulo_SP.csv\n",
      "C:\\Users\\lucas\\OneDrive\\Documentos\\Cursos\\Hashtag Treinamentos- Python Impressionador\\Programas\\Arquivos_Lojas\\201802_Goiania Shopping_GO.csv\n",
      "C:\\Users\\lucas\\OneDrive\\Documentos\\Cursos\\Hashtag Treinamentos- Python Impressionador\\Programas\\Arquivos_Lojas\\201802_Ibirapuera_SP.csv\n",
      "C:\\Users\\lucas\\OneDrive\\Documentos\\Cursos\\Hashtag Treinamentos- Python Impressionador\\Programas\\Arquivos_Lojas\\201802_Iguatemi_SP.csv\n",
      "C:\\Users\\lucas\\OneDrive\\Documentos\\Cursos\\Hashtag Treinamentos- Python Impressionador\\Programas\\Arquivos_Lojas\\201802_Independência Shopping_MG.csv\n",
      "C:\\Users\\lucas\\OneDrive\\Documentos\\Cursos\\Hashtag Treinamentos- Python Impressionador\\Programas\\Arquivos_Lojas\\201802_JK Iguatemi_SP.csv\n",
      "C:\\Users\\lucas\\OneDrive\\Documentos\\Cursos\\Hashtag Treinamentos- Python Impressionador\\Programas\\Arquivos_Lojas\\201802_Minas Shopping_MG.csv\n",
      "C:\\Users\\lucas\\OneDrive\\Documentos\\Cursos\\Hashtag Treinamentos- Python Impressionador\\Programas\\Arquivos_Lojas\\201802_Morumbi_SP.csv\n",
      "C:\\Users\\lucas\\OneDrive\\Documentos\\Cursos\\Hashtag Treinamentos- Python Impressionador\\Programas\\Arquivos_Lojas\\201802_Plaza Shopping_RJ.csv\n",
      "C:\\Users\\lucas\\OneDrive\\Documentos\\Cursos\\Hashtag Treinamentos- Python Impressionador\\Programas\\Arquivos_Lojas\\201802_Rio Sul_RJ.csv\n",
      "C:\\Users\\lucas\\OneDrive\\Documentos\\Cursos\\Hashtag Treinamentos- Python Impressionador\\Programas\\Arquivos_Lojas\\201802_Shopping Cidade_MG.csv\n",
      "C:\\Users\\lucas\\OneDrive\\Documentos\\Cursos\\Hashtag Treinamentos- Python Impressionador\\Programas\\Arquivos_Lojas\\201802_Shopping Leblon_RJ.csv\n",
      "C:\\Users\\lucas\\OneDrive\\Documentos\\Cursos\\Hashtag Treinamentos- Python Impressionador\\Programas\\Arquivos_Lojas\\201802_Shopping Tijuca_RJ.csv\n",
      "C:\\Users\\lucas\\OneDrive\\Documentos\\Cursos\\Hashtag Treinamentos- Python Impressionador\\Programas\\Arquivos_Lojas\\201803_Amazonas Shopping_AM.csv\n",
      "C:\\Users\\lucas\\OneDrive\\Documentos\\Cursos\\Hashtag Treinamentos- Python Impressionador\\Programas\\Arquivos_Lojas\\201803_Barra Shopping_RJ.csv\n",
      "C:\\Users\\lucas\\OneDrive\\Documentos\\Cursos\\Hashtag Treinamentos- Python Impressionador\\Programas\\Arquivos_Lojas\\201803_BH Shopping_MG.csv\n",
      "C:\\Users\\lucas\\OneDrive\\Documentos\\Cursos\\Hashtag Treinamentos- Python Impressionador\\Programas\\Arquivos_Lojas\\201803_Bourbon_SP.csv\n",
      "C:\\Users\\lucas\\OneDrive\\Documentos\\Cursos\\Hashtag Treinamentos- Python Impressionador\\Programas\\Arquivos_Lojas\\201803_Buriti Shopping_GO.csv\n",
      "C:\\Users\\lucas\\OneDrive\\Documentos\\Cursos\\Hashtag Treinamentos- Python Impressionador\\Programas\\Arquivos_Lojas\\201803_Cidade de Sao Paulo_SP.csv\n",
      "C:\\Users\\lucas\\OneDrive\\Documentos\\Cursos\\Hashtag Treinamentos- Python Impressionador\\Programas\\Arquivos_Lojas\\201803_Goiania Shopping_GO.csv\n",
      "C:\\Users\\lucas\\OneDrive\\Documentos\\Cursos\\Hashtag Treinamentos- Python Impressionador\\Programas\\Arquivos_Lojas\\201803_Ibirapuera_SP.csv\n",
      "C:\\Users\\lucas\\OneDrive\\Documentos\\Cursos\\Hashtag Treinamentos- Python Impressionador\\Programas\\Arquivos_Lojas\\201803_Iguatemi_SP.csv\n",
      "C:\\Users\\lucas\\OneDrive\\Documentos\\Cursos\\Hashtag Treinamentos- Python Impressionador\\Programas\\Arquivos_Lojas\\201803_Independência Shopping_MG.csv\n",
      "C:\\Users\\lucas\\OneDrive\\Documentos\\Cursos\\Hashtag Treinamentos- Python Impressionador\\Programas\\Arquivos_Lojas\\201803_JK Iguatemi_SP.csv\n",
      "C:\\Users\\lucas\\OneDrive\\Documentos\\Cursos\\Hashtag Treinamentos- Python Impressionador\\Programas\\Arquivos_Lojas\\201803_Minas Shopping_MG.csv\n",
      "C:\\Users\\lucas\\OneDrive\\Documentos\\Cursos\\Hashtag Treinamentos- Python Impressionador\\Programas\\Arquivos_Lojas\\201803_Morumbi_SP.csv\n",
      "C:\\Users\\lucas\\OneDrive\\Documentos\\Cursos\\Hashtag Treinamentos- Python Impressionador\\Programas\\Arquivos_Lojas\\201803_Plaza Shopping_RJ.csv\n",
      "C:\\Users\\lucas\\OneDrive\\Documentos\\Cursos\\Hashtag Treinamentos- Python Impressionador\\Programas\\Arquivos_Lojas\\201803_Rio Sul_RJ.csv\n",
      "C:\\Users\\lucas\\OneDrive\\Documentos\\Cursos\\Hashtag Treinamentos- Python Impressionador\\Programas\\Arquivos_Lojas\\201803_Shopping Cidade_MG.csv\n",
      "C:\\Users\\lucas\\OneDrive\\Documentos\\Cursos\\Hashtag Treinamentos- Python Impressionador\\Programas\\Arquivos_Lojas\\201803_Shopping Leblon_RJ.csv\n",
      "C:\\Users\\lucas\\OneDrive\\Documentos\\Cursos\\Hashtag Treinamentos- Python Impressionador\\Programas\\Arquivos_Lojas\\201803_Shopping Tijuca_RJ.csv\n",
      "C:\\Users\\lucas\\OneDrive\\Documentos\\Cursos\\Hashtag Treinamentos- Python Impressionador\\Programas\\Arquivos_Lojas\\201804_Amazonas Shopping_AM.csv\n",
      "C:\\Users\\lucas\\OneDrive\\Documentos\\Cursos\\Hashtag Treinamentos- Python Impressionador\\Programas\\Arquivos_Lojas\\201804_Barra Shopping_RJ.csv\n",
      "C:\\Users\\lucas\\OneDrive\\Documentos\\Cursos\\Hashtag Treinamentos- Python Impressionador\\Programas\\Arquivos_Lojas\\201804_BH Shopping_MG.csv\n",
      "C:\\Users\\lucas\\OneDrive\\Documentos\\Cursos\\Hashtag Treinamentos- Python Impressionador\\Programas\\Arquivos_Lojas\\201804_Bourbon_SP.csv\n",
      "C:\\Users\\lucas\\OneDrive\\Documentos\\Cursos\\Hashtag Treinamentos- Python Impressionador\\Programas\\Arquivos_Lojas\\201804_Buriti Shopping_GO.csv\n",
      "C:\\Users\\lucas\\OneDrive\\Documentos\\Cursos\\Hashtag Treinamentos- Python Impressionador\\Programas\\Arquivos_Lojas\\201804_Cidade de Sao Paulo_SP.csv\n",
      "C:\\Users\\lucas\\OneDrive\\Documentos\\Cursos\\Hashtag Treinamentos- Python Impressionador\\Programas\\Arquivos_Lojas\\201804_Goiania Shopping_GO.csv\n",
      "C:\\Users\\lucas\\OneDrive\\Documentos\\Cursos\\Hashtag Treinamentos- Python Impressionador\\Programas\\Arquivos_Lojas\\201804_Ibirapuera_SP.csv\n",
      "C:\\Users\\lucas\\OneDrive\\Documentos\\Cursos\\Hashtag Treinamentos- Python Impressionador\\Programas\\Arquivos_Lojas\\201804_Iguatemi_SP.csv\n",
      "C:\\Users\\lucas\\OneDrive\\Documentos\\Cursos\\Hashtag Treinamentos- Python Impressionador\\Programas\\Arquivos_Lojas\\201804_Independência Shopping_MG.csv\n",
      "C:\\Users\\lucas\\OneDrive\\Documentos\\Cursos\\Hashtag Treinamentos- Python Impressionador\\Programas\\Arquivos_Lojas\\201804_JK Iguatemi_SP.csv\n",
      "C:\\Users\\lucas\\OneDrive\\Documentos\\Cursos\\Hashtag Treinamentos- Python Impressionador\\Programas\\Arquivos_Lojas\\201804_Minas Shopping_MG.csv\n",
      "C:\\Users\\lucas\\OneDrive\\Documentos\\Cursos\\Hashtag Treinamentos- Python Impressionador\\Programas\\Arquivos_Lojas\\201804_Morumbi_SP.csv\n",
      "C:\\Users\\lucas\\OneDrive\\Documentos\\Cursos\\Hashtag Treinamentos- Python Impressionador\\Programas\\Arquivos_Lojas\\201804_Plaza Shopping_RJ.csv\n",
      "C:\\Users\\lucas\\OneDrive\\Documentos\\Cursos\\Hashtag Treinamentos- Python Impressionador\\Programas\\Arquivos_Lojas\\201804_Rio Sul_RJ.csv\n",
      "C:\\Users\\lucas\\OneDrive\\Documentos\\Cursos\\Hashtag Treinamentos- Python Impressionador\\Programas\\Arquivos_Lojas\\201804_Shopping Cidade_MG.csv\n",
      "C:\\Users\\lucas\\OneDrive\\Documentos\\Cursos\\Hashtag Treinamentos- Python Impressionador\\Programas\\Arquivos_Lojas\\201804_Shopping Leblon_RJ.csv\n",
      "C:\\Users\\lucas\\OneDrive\\Documentos\\Cursos\\Hashtag Treinamentos- Python Impressionador\\Programas\\Arquivos_Lojas\\201804_Shopping Tijuca_RJ.csv\n",
      "C:\\Users\\lucas\\OneDrive\\Documentos\\Cursos\\Hashtag Treinamentos- Python Impressionador\\Programas\\Arquivos_Lojas\\201901_Amazonas Shopping_AM.csv\n",
      "C:\\Users\\lucas\\OneDrive\\Documentos\\Cursos\\Hashtag Treinamentos- Python Impressionador\\Programas\\Arquivos_Lojas\\201901_Barra Shopping_RJ.csv\n",
      "C:\\Users\\lucas\\OneDrive\\Documentos\\Cursos\\Hashtag Treinamentos- Python Impressionador\\Programas\\Arquivos_Lojas\\201901_BH Shopping_MG.csv\n",
      "C:\\Users\\lucas\\OneDrive\\Documentos\\Cursos\\Hashtag Treinamentos- Python Impressionador\\Programas\\Arquivos_Lojas\\201901_Bourbon_SP.csv\n",
      "C:\\Users\\lucas\\OneDrive\\Documentos\\Cursos\\Hashtag Treinamentos- Python Impressionador\\Programas\\Arquivos_Lojas\\201901_Buriti Shopping_GO.csv\n",
      "C:\\Users\\lucas\\OneDrive\\Documentos\\Cursos\\Hashtag Treinamentos- Python Impressionador\\Programas\\Arquivos_Lojas\\201901_Cidade de Sao Paulo_SP.csv\n",
      "C:\\Users\\lucas\\OneDrive\\Documentos\\Cursos\\Hashtag Treinamentos- Python Impressionador\\Programas\\Arquivos_Lojas\\201901_Goiania Shopping_GO.csv\n",
      "C:\\Users\\lucas\\OneDrive\\Documentos\\Cursos\\Hashtag Treinamentos- Python Impressionador\\Programas\\Arquivos_Lojas\\201901_Ibirapuera_SP.csv\n",
      "C:\\Users\\lucas\\OneDrive\\Documentos\\Cursos\\Hashtag Treinamentos- Python Impressionador\\Programas\\Arquivos_Lojas\\201901_Iguatemi_SP.csv\n",
      "C:\\Users\\lucas\\OneDrive\\Documentos\\Cursos\\Hashtag Treinamentos- Python Impressionador\\Programas\\Arquivos_Lojas\\201901_Independência Shopping_MG.csv\n",
      "C:\\Users\\lucas\\OneDrive\\Documentos\\Cursos\\Hashtag Treinamentos- Python Impressionador\\Programas\\Arquivos_Lojas\\201901_JK Iguatemi_SP.csv\n",
      "C:\\Users\\lucas\\OneDrive\\Documentos\\Cursos\\Hashtag Treinamentos- Python Impressionador\\Programas\\Arquivos_Lojas\\201901_Minas Shopping_MG.csv\n",
      "C:\\Users\\lucas\\OneDrive\\Documentos\\Cursos\\Hashtag Treinamentos- Python Impressionador\\Programas\\Arquivos_Lojas\\201901_Morumbi_SP.csv\n",
      "C:\\Users\\lucas\\OneDrive\\Documentos\\Cursos\\Hashtag Treinamentos- Python Impressionador\\Programas\\Arquivos_Lojas\\201901_Plaza Shopping_RJ.csv\n",
      "C:\\Users\\lucas\\OneDrive\\Documentos\\Cursos\\Hashtag Treinamentos- Python Impressionador\\Programas\\Arquivos_Lojas\\201901_Rio Sul_RJ.csv\n",
      "C:\\Users\\lucas\\OneDrive\\Documentos\\Cursos\\Hashtag Treinamentos- Python Impressionador\\Programas\\Arquivos_Lojas\\201901_Shopping Cidade_MG.csv\n",
      "C:\\Users\\lucas\\OneDrive\\Documentos\\Cursos\\Hashtag Treinamentos- Python Impressionador\\Programas\\Arquivos_Lojas\\201901_Shopping Leblon_RJ.csv\n",
      "C:\\Users\\lucas\\OneDrive\\Documentos\\Cursos\\Hashtag Treinamentos- Python Impressionador\\Programas\\Arquivos_Lojas\\201901_Shopping Tijuca_RJ.csv\n",
      "C:\\Users\\lucas\\OneDrive\\Documentos\\Cursos\\Hashtag Treinamentos- Python Impressionador\\Programas\\Arquivos_Lojas\\201902_Amazonas Shopping_AM.csv\n",
      "C:\\Users\\lucas\\OneDrive\\Documentos\\Cursos\\Hashtag Treinamentos- Python Impressionador\\Programas\\Arquivos_Lojas\\201902_Barra Shopping_RJ.csv\n",
      "C:\\Users\\lucas\\OneDrive\\Documentos\\Cursos\\Hashtag Treinamentos- Python Impressionador\\Programas\\Arquivos_Lojas\\201902_BH Shopping_MG.csv\n",
      "C:\\Users\\lucas\\OneDrive\\Documentos\\Cursos\\Hashtag Treinamentos- Python Impressionador\\Programas\\Arquivos_Lojas\\201902_Bourbon_SP.csv\n",
      "C:\\Users\\lucas\\OneDrive\\Documentos\\Cursos\\Hashtag Treinamentos- Python Impressionador\\Programas\\Arquivos_Lojas\\201902_Buriti Shopping_GO.csv\n",
      "C:\\Users\\lucas\\OneDrive\\Documentos\\Cursos\\Hashtag Treinamentos- Python Impressionador\\Programas\\Arquivos_Lojas\\201902_Cidade de Sao Paulo_SP.csv\n",
      "C:\\Users\\lucas\\OneDrive\\Documentos\\Cursos\\Hashtag Treinamentos- Python Impressionador\\Programas\\Arquivos_Lojas\\201902_Goiania Shopping_GO.csv\n",
      "C:\\Users\\lucas\\OneDrive\\Documentos\\Cursos\\Hashtag Treinamentos- Python Impressionador\\Programas\\Arquivos_Lojas\\201902_Ibirapuera_SP.csv\n",
      "C:\\Users\\lucas\\OneDrive\\Documentos\\Cursos\\Hashtag Treinamentos- Python Impressionador\\Programas\\Arquivos_Lojas\\201902_Iguatemi_SP.csv\n",
      "C:\\Users\\lucas\\OneDrive\\Documentos\\Cursos\\Hashtag Treinamentos- Python Impressionador\\Programas\\Arquivos_Lojas\\201902_Independência Shopping_MG.csv\n",
      "C:\\Users\\lucas\\OneDrive\\Documentos\\Cursos\\Hashtag Treinamentos- Python Impressionador\\Programas\\Arquivos_Lojas\\201902_JK Iguatemi_SP.csv\n",
      "C:\\Users\\lucas\\OneDrive\\Documentos\\Cursos\\Hashtag Treinamentos- Python Impressionador\\Programas\\Arquivos_Lojas\\201902_Minas Shopping_MG.csv\n",
      "C:\\Users\\lucas\\OneDrive\\Documentos\\Cursos\\Hashtag Treinamentos- Python Impressionador\\Programas\\Arquivos_Lojas\\201902_Morumbi_SP.csv\n",
      "C:\\Users\\lucas\\OneDrive\\Documentos\\Cursos\\Hashtag Treinamentos- Python Impressionador\\Programas\\Arquivos_Lojas\\201902_Plaza Shopping_RJ.csv\n",
      "C:\\Users\\lucas\\OneDrive\\Documentos\\Cursos\\Hashtag Treinamentos- Python Impressionador\\Programas\\Arquivos_Lojas\\201902_Rio Sul_RJ.csv\n",
      "C:\\Users\\lucas\\OneDrive\\Documentos\\Cursos\\Hashtag Treinamentos- Python Impressionador\\Programas\\Arquivos_Lojas\\201902_Shopping Cidade_MG.csv\n",
      "C:\\Users\\lucas\\OneDrive\\Documentos\\Cursos\\Hashtag Treinamentos- Python Impressionador\\Programas\\Arquivos_Lojas\\201902_Shopping Leblon_RJ.csv\n",
      "C:\\Users\\lucas\\OneDrive\\Documentos\\Cursos\\Hashtag Treinamentos- Python Impressionador\\Programas\\Arquivos_Lojas\\201902_Shopping Tijuca_RJ.csv\n",
      "C:\\Users\\lucas\\OneDrive\\Documentos\\Cursos\\Hashtag Treinamentos- Python Impressionador\\Programas\\Arquivos_Lojas\\201903_Amazonas Shopping_AM.csv\n",
      "C:\\Users\\lucas\\OneDrive\\Documentos\\Cursos\\Hashtag Treinamentos- Python Impressionador\\Programas\\Arquivos_Lojas\\201903_Barra Shopping_RJ.csv\n",
      "C:\\Users\\lucas\\OneDrive\\Documentos\\Cursos\\Hashtag Treinamentos- Python Impressionador\\Programas\\Arquivos_Lojas\\201903_BH Shopping_MG.csv\n",
      "C:\\Users\\lucas\\OneDrive\\Documentos\\Cursos\\Hashtag Treinamentos- Python Impressionador\\Programas\\Arquivos_Lojas\\201903_Bourbon_SP.csv\n",
      "C:\\Users\\lucas\\OneDrive\\Documentos\\Cursos\\Hashtag Treinamentos- Python Impressionador\\Programas\\Arquivos_Lojas\\201903_Buriti Shopping_GO.csv\n",
      "C:\\Users\\lucas\\OneDrive\\Documentos\\Cursos\\Hashtag Treinamentos- Python Impressionador\\Programas\\Arquivos_Lojas\\201903_Cidade de Sao Paulo_SP.csv\n",
      "C:\\Users\\lucas\\OneDrive\\Documentos\\Cursos\\Hashtag Treinamentos- Python Impressionador\\Programas\\Arquivos_Lojas\\201903_Goiania Shopping_GO.csv\n",
      "C:\\Users\\lucas\\OneDrive\\Documentos\\Cursos\\Hashtag Treinamentos- Python Impressionador\\Programas\\Arquivos_Lojas\\201903_Ibirapuera_SP.csv\n",
      "C:\\Users\\lucas\\OneDrive\\Documentos\\Cursos\\Hashtag Treinamentos- Python Impressionador\\Programas\\Arquivos_Lojas\\201903_Iguatemi_SP.csv\n",
      "C:\\Users\\lucas\\OneDrive\\Documentos\\Cursos\\Hashtag Treinamentos- Python Impressionador\\Programas\\Arquivos_Lojas\\201903_Independência Shopping_MG.csv\n",
      "C:\\Users\\lucas\\OneDrive\\Documentos\\Cursos\\Hashtag Treinamentos- Python Impressionador\\Programas\\Arquivos_Lojas\\201903_JK Iguatemi_SP.csv\n",
      "C:\\Users\\lucas\\OneDrive\\Documentos\\Cursos\\Hashtag Treinamentos- Python Impressionador\\Programas\\Arquivos_Lojas\\201903_Minas Shopping_MG.csv\n",
      "C:\\Users\\lucas\\OneDrive\\Documentos\\Cursos\\Hashtag Treinamentos- Python Impressionador\\Programas\\Arquivos_Lojas\\201903_Morumbi_SP.csv\n",
      "C:\\Users\\lucas\\OneDrive\\Documentos\\Cursos\\Hashtag Treinamentos- Python Impressionador\\Programas\\Arquivos_Lojas\\201903_Plaza Shopping_RJ.csv\n",
      "C:\\Users\\lucas\\OneDrive\\Documentos\\Cursos\\Hashtag Treinamentos- Python Impressionador\\Programas\\Arquivos_Lojas\\201903_Rio Sul_RJ.csv\n",
      "C:\\Users\\lucas\\OneDrive\\Documentos\\Cursos\\Hashtag Treinamentos- Python Impressionador\\Programas\\Arquivos_Lojas\\201903_Shopping Cidade_MG.csv\n",
      "C:\\Users\\lucas\\OneDrive\\Documentos\\Cursos\\Hashtag Treinamentos- Python Impressionador\\Programas\\Arquivos_Lojas\\201903_Shopping Leblon_RJ.csv\n",
      "C:\\Users\\lucas\\OneDrive\\Documentos\\Cursos\\Hashtag Treinamentos- Python Impressionador\\Programas\\Arquivos_Lojas\\201903_Shopping Tijuca_RJ.csv\n",
      "C:\\Users\\lucas\\OneDrive\\Documentos\\Cursos\\Hashtag Treinamentos- Python Impressionador\\Programas\\Arquivos_Lojas\\201904_Amazonas Shopping_AM.csv\n",
      "C:\\Users\\lucas\\OneDrive\\Documentos\\Cursos\\Hashtag Treinamentos- Python Impressionador\\Programas\\Arquivos_Lojas\\201904_Barra Shopping_RJ.csv\n",
      "C:\\Users\\lucas\\OneDrive\\Documentos\\Cursos\\Hashtag Treinamentos- Python Impressionador\\Programas\\Arquivos_Lojas\\201904_BH Shopping_MG.csv\n",
      "C:\\Users\\lucas\\OneDrive\\Documentos\\Cursos\\Hashtag Treinamentos- Python Impressionador\\Programas\\Arquivos_Lojas\\201904_Bourbon_SP.csv\n",
      "C:\\Users\\lucas\\OneDrive\\Documentos\\Cursos\\Hashtag Treinamentos- Python Impressionador\\Programas\\Arquivos_Lojas\\201904_Buriti Shopping_GO.csv\n",
      "C:\\Users\\lucas\\OneDrive\\Documentos\\Cursos\\Hashtag Treinamentos- Python Impressionador\\Programas\\Arquivos_Lojas\\201904_Cidade de Sao Paulo_SP.csv\n",
      "C:\\Users\\lucas\\OneDrive\\Documentos\\Cursos\\Hashtag Treinamentos- Python Impressionador\\Programas\\Arquivos_Lojas\\201904_Goiania Shopping_GO.csv\n",
      "C:\\Users\\lucas\\OneDrive\\Documentos\\Cursos\\Hashtag Treinamentos- Python Impressionador\\Programas\\Arquivos_Lojas\\201904_Ibirapuera_SP.csv\n",
      "C:\\Users\\lucas\\OneDrive\\Documentos\\Cursos\\Hashtag Treinamentos- Python Impressionador\\Programas\\Arquivos_Lojas\\201904_Iguatemi_SP.csv\n",
      "C:\\Users\\lucas\\OneDrive\\Documentos\\Cursos\\Hashtag Treinamentos- Python Impressionador\\Programas\\Arquivos_Lojas\\201904_Independência Shopping_MG.csv\n",
      "C:\\Users\\lucas\\OneDrive\\Documentos\\Cursos\\Hashtag Treinamentos- Python Impressionador\\Programas\\Arquivos_Lojas\\201904_JK Iguatemi_SP.csv\n",
      "C:\\Users\\lucas\\OneDrive\\Documentos\\Cursos\\Hashtag Treinamentos- Python Impressionador\\Programas\\Arquivos_Lojas\\201904_Minas Shopping_MG.csv\n",
      "C:\\Users\\lucas\\OneDrive\\Documentos\\Cursos\\Hashtag Treinamentos- Python Impressionador\\Programas\\Arquivos_Lojas\\201904_Morumbi_SP.csv\n",
      "C:\\Users\\lucas\\OneDrive\\Documentos\\Cursos\\Hashtag Treinamentos- Python Impressionador\\Programas\\Arquivos_Lojas\\201904_Plaza Shopping_RJ.csv\n",
      "C:\\Users\\lucas\\OneDrive\\Documentos\\Cursos\\Hashtag Treinamentos- Python Impressionador\\Programas\\Arquivos_Lojas\\201904_Rio Sul_RJ.csv\n",
      "C:\\Users\\lucas\\OneDrive\\Documentos\\Cursos\\Hashtag Treinamentos- Python Impressionador\\Programas\\Arquivos_Lojas\\201904_Shopping Cidade_MG.csv\n",
      "C:\\Users\\lucas\\OneDrive\\Documentos\\Cursos\\Hashtag Treinamentos- Python Impressionador\\Programas\\Arquivos_Lojas\\201904_Shopping Leblon_RJ.csv\n",
      "C:\\Users\\lucas\\OneDrive\\Documentos\\Cursos\\Hashtag Treinamentos- Python Impressionador\\Programas\\Arquivos_Lojas\\201904_Shopping Tijuca_RJ.csv\n",
      "C:\\Users\\lucas\\OneDrive\\Documentos\\Cursos\\Hashtag Treinamentos- Python Impressionador\\Programas\\Arquivos_Lojas\\202001_Amazonas Shopping_AM.csv\n",
      "C:\\Users\\lucas\\OneDrive\\Documentos\\Cursos\\Hashtag Treinamentos- Python Impressionador\\Programas\\Arquivos_Lojas\\202001_Barra Shopping_RJ.csv\n",
      "C:\\Users\\lucas\\OneDrive\\Documentos\\Cursos\\Hashtag Treinamentos- Python Impressionador\\Programas\\Arquivos_Lojas\\202001_BH Shopping_MG.csv\n",
      "C:\\Users\\lucas\\OneDrive\\Documentos\\Cursos\\Hashtag Treinamentos- Python Impressionador\\Programas\\Arquivos_Lojas\\202001_Bourbon_SP.csv\n",
      "C:\\Users\\lucas\\OneDrive\\Documentos\\Cursos\\Hashtag Treinamentos- Python Impressionador\\Programas\\Arquivos_Lojas\\202001_Buriti Shopping_GO.csv\n",
      "C:\\Users\\lucas\\OneDrive\\Documentos\\Cursos\\Hashtag Treinamentos- Python Impressionador\\Programas\\Arquivos_Lojas\\202001_Cidade de Sao Paulo_SP.csv\n",
      "C:\\Users\\lucas\\OneDrive\\Documentos\\Cursos\\Hashtag Treinamentos- Python Impressionador\\Programas\\Arquivos_Lojas\\202001_Goiania Shopping_GO.csv\n",
      "C:\\Users\\lucas\\OneDrive\\Documentos\\Cursos\\Hashtag Treinamentos- Python Impressionador\\Programas\\Arquivos_Lojas\\202001_Ibirapuera_SP.csv\n",
      "C:\\Users\\lucas\\OneDrive\\Documentos\\Cursos\\Hashtag Treinamentos- Python Impressionador\\Programas\\Arquivos_Lojas\\202001_Iguatemi_SP.csv\n",
      "C:\\Users\\lucas\\OneDrive\\Documentos\\Cursos\\Hashtag Treinamentos- Python Impressionador\\Programas\\Arquivos_Lojas\\202001_Independência Shopping_MG.csv\n",
      "C:\\Users\\lucas\\OneDrive\\Documentos\\Cursos\\Hashtag Treinamentos- Python Impressionador\\Programas\\Arquivos_Lojas\\202001_JK Iguatemi_SP.csv\n",
      "C:\\Users\\lucas\\OneDrive\\Documentos\\Cursos\\Hashtag Treinamentos- Python Impressionador\\Programas\\Arquivos_Lojas\\202001_Minas Shopping_MG.csv\n",
      "C:\\Users\\lucas\\OneDrive\\Documentos\\Cursos\\Hashtag Treinamentos- Python Impressionador\\Programas\\Arquivos_Lojas\\202001_Morumbi_SP.csv\n",
      "C:\\Users\\lucas\\OneDrive\\Documentos\\Cursos\\Hashtag Treinamentos- Python Impressionador\\Programas\\Arquivos_Lojas\\202001_Plaza Shopping_RJ.csv\n",
      "C:\\Users\\lucas\\OneDrive\\Documentos\\Cursos\\Hashtag Treinamentos- Python Impressionador\\Programas\\Arquivos_Lojas\\202001_Rio Sul_RJ.csv\n",
      "C:\\Users\\lucas\\OneDrive\\Documentos\\Cursos\\Hashtag Treinamentos- Python Impressionador\\Programas\\Arquivos_Lojas\\202001_Shopping Cidade_MG.csv\n",
      "C:\\Users\\lucas\\OneDrive\\Documentos\\Cursos\\Hashtag Treinamentos- Python Impressionador\\Programas\\Arquivos_Lojas\\202001_Shopping Leblon_RJ.csv\n",
      "C:\\Users\\lucas\\OneDrive\\Documentos\\Cursos\\Hashtag Treinamentos- Python Impressionador\\Programas\\Arquivos_Lojas\\202001_Shopping Tijuca_RJ.csv\n",
      "C:\\Users\\lucas\\OneDrive\\Documentos\\Cursos\\Hashtag Treinamentos- Python Impressionador\\Programas\\Arquivos_Lojas\\202002_Amazonas Shopping_AM.csv\n",
      "C:\\Users\\lucas\\OneDrive\\Documentos\\Cursos\\Hashtag Treinamentos- Python Impressionador\\Programas\\Arquivos_Lojas\\202002_Barra Shopping_RJ.csv\n",
      "C:\\Users\\lucas\\OneDrive\\Documentos\\Cursos\\Hashtag Treinamentos- Python Impressionador\\Programas\\Arquivos_Lojas\\202002_BH Shopping_MG.csv\n",
      "C:\\Users\\lucas\\OneDrive\\Documentos\\Cursos\\Hashtag Treinamentos- Python Impressionador\\Programas\\Arquivos_Lojas\\202002_Bourbon_SP.csv\n",
      "C:\\Users\\lucas\\OneDrive\\Documentos\\Cursos\\Hashtag Treinamentos- Python Impressionador\\Programas\\Arquivos_Lojas\\202002_Buriti Shopping_GO.csv\n",
      "C:\\Users\\lucas\\OneDrive\\Documentos\\Cursos\\Hashtag Treinamentos- Python Impressionador\\Programas\\Arquivos_Lojas\\202002_Cidade de Sao Paulo_SP.csv\n",
      "C:\\Users\\lucas\\OneDrive\\Documentos\\Cursos\\Hashtag Treinamentos- Python Impressionador\\Programas\\Arquivos_Lojas\\202002_Goiania Shopping_GO.csv\n",
      "C:\\Users\\lucas\\OneDrive\\Documentos\\Cursos\\Hashtag Treinamentos- Python Impressionador\\Programas\\Arquivos_Lojas\\202002_Ibirapuera_SP.csv\n",
      "C:\\Users\\lucas\\OneDrive\\Documentos\\Cursos\\Hashtag Treinamentos- Python Impressionador\\Programas\\Arquivos_Lojas\\202002_Iguatemi_SP.csv\n",
      "C:\\Users\\lucas\\OneDrive\\Documentos\\Cursos\\Hashtag Treinamentos- Python Impressionador\\Programas\\Arquivos_Lojas\\202002_Independência Shopping_MG.csv\n",
      "C:\\Users\\lucas\\OneDrive\\Documentos\\Cursos\\Hashtag Treinamentos- Python Impressionador\\Programas\\Arquivos_Lojas\\202002_JK Iguatemi_SP.csv\n",
      "C:\\Users\\lucas\\OneDrive\\Documentos\\Cursos\\Hashtag Treinamentos- Python Impressionador\\Programas\\Arquivos_Lojas\\202002_Minas Shopping_MG.csv\n",
      "C:\\Users\\lucas\\OneDrive\\Documentos\\Cursos\\Hashtag Treinamentos- Python Impressionador\\Programas\\Arquivos_Lojas\\202002_Morumbi_SP.csv\n",
      "C:\\Users\\lucas\\OneDrive\\Documentos\\Cursos\\Hashtag Treinamentos- Python Impressionador\\Programas\\Arquivos_Lojas\\202002_Plaza Shopping_RJ.csv\n",
      "C:\\Users\\lucas\\OneDrive\\Documentos\\Cursos\\Hashtag Treinamentos- Python Impressionador\\Programas\\Arquivos_Lojas\\202002_Rio Sul_RJ.csv\n",
      "C:\\Users\\lucas\\OneDrive\\Documentos\\Cursos\\Hashtag Treinamentos- Python Impressionador\\Programas\\Arquivos_Lojas\\202002_Shopping Cidade_MG.csv\n",
      "C:\\Users\\lucas\\OneDrive\\Documentos\\Cursos\\Hashtag Treinamentos- Python Impressionador\\Programas\\Arquivos_Lojas\\202002_Shopping Leblon_RJ.csv\n",
      "C:\\Users\\lucas\\OneDrive\\Documentos\\Cursos\\Hashtag Treinamentos- Python Impressionador\\Programas\\Arquivos_Lojas\\202002_Shopping Tijuca_RJ.csv\n",
      "C:\\Users\\lucas\\OneDrive\\Documentos\\Cursos\\Hashtag Treinamentos- Python Impressionador\\Programas\\Arquivos_Lojas\\202003_Amazonas Shopping_AM.csv\n",
      "C:\\Users\\lucas\\OneDrive\\Documentos\\Cursos\\Hashtag Treinamentos- Python Impressionador\\Programas\\Arquivos_Lojas\\202003_Barra Shopping_RJ.csv\n",
      "C:\\Users\\lucas\\OneDrive\\Documentos\\Cursos\\Hashtag Treinamentos- Python Impressionador\\Programas\\Arquivos_Lojas\\202003_BH Shopping_MG.csv\n",
      "C:\\Users\\lucas\\OneDrive\\Documentos\\Cursos\\Hashtag Treinamentos- Python Impressionador\\Programas\\Arquivos_Lojas\\202003_Bourbon_SP.csv\n",
      "C:\\Users\\lucas\\OneDrive\\Documentos\\Cursos\\Hashtag Treinamentos- Python Impressionador\\Programas\\Arquivos_Lojas\\202003_Buriti Shopping_GO.csv\n",
      "C:\\Users\\lucas\\OneDrive\\Documentos\\Cursos\\Hashtag Treinamentos- Python Impressionador\\Programas\\Arquivos_Lojas\\202003_Cidade de Sao Paulo_SP.csv\n",
      "C:\\Users\\lucas\\OneDrive\\Documentos\\Cursos\\Hashtag Treinamentos- Python Impressionador\\Programas\\Arquivos_Lojas\\202003_Goiania Shopping_GO.csv\n",
      "C:\\Users\\lucas\\OneDrive\\Documentos\\Cursos\\Hashtag Treinamentos- Python Impressionador\\Programas\\Arquivos_Lojas\\202003_Ibirapuera_SP.csv\n",
      "C:\\Users\\lucas\\OneDrive\\Documentos\\Cursos\\Hashtag Treinamentos- Python Impressionador\\Programas\\Arquivos_Lojas\\202003_Iguatemi_SP.csv\n",
      "C:\\Users\\lucas\\OneDrive\\Documentos\\Cursos\\Hashtag Treinamentos- Python Impressionador\\Programas\\Arquivos_Lojas\\202003_Independência Shopping_MG.csv\n",
      "C:\\Users\\lucas\\OneDrive\\Documentos\\Cursos\\Hashtag Treinamentos- Python Impressionador\\Programas\\Arquivos_Lojas\\202003_JK Iguatemi_SP.csv\n",
      "C:\\Users\\lucas\\OneDrive\\Documentos\\Cursos\\Hashtag Treinamentos- Python Impressionador\\Programas\\Arquivos_Lojas\\202003_Minas Shopping_MG.csv\n",
      "C:\\Users\\lucas\\OneDrive\\Documentos\\Cursos\\Hashtag Treinamentos- Python Impressionador\\Programas\\Arquivos_Lojas\\202003_Morumbi_SP.csv\n",
      "C:\\Users\\lucas\\OneDrive\\Documentos\\Cursos\\Hashtag Treinamentos- Python Impressionador\\Programas\\Arquivos_Lojas\\202003_Plaza Shopping_RJ.csv\n",
      "C:\\Users\\lucas\\OneDrive\\Documentos\\Cursos\\Hashtag Treinamentos- Python Impressionador\\Programas\\Arquivos_Lojas\\202003_Rio Sul_RJ.csv\n",
      "C:\\Users\\lucas\\OneDrive\\Documentos\\Cursos\\Hashtag Treinamentos- Python Impressionador\\Programas\\Arquivos_Lojas\\202003_Shopping Cidade_MG.csv\n",
      "C:\\Users\\lucas\\OneDrive\\Documentos\\Cursos\\Hashtag Treinamentos- Python Impressionador\\Programas\\Arquivos_Lojas\\202003_Shopping Leblon_RJ.csv\n",
      "C:\\Users\\lucas\\OneDrive\\Documentos\\Cursos\\Hashtag Treinamentos- Python Impressionador\\Programas\\Arquivos_Lojas\\202003_Shopping Tijuca_RJ.csv\n",
      "C:\\Users\\lucas\\OneDrive\\Documentos\\Cursos\\Hashtag Treinamentos- Python Impressionador\\Programas\\Arquivos_Lojas\\202004_Amazonas Shopping_AM.csv\n",
      "C:\\Users\\lucas\\OneDrive\\Documentos\\Cursos\\Hashtag Treinamentos- Python Impressionador\\Programas\\Arquivos_Lojas\\202004_Barra Shopping_RJ.csv\n",
      "C:\\Users\\lucas\\OneDrive\\Documentos\\Cursos\\Hashtag Treinamentos- Python Impressionador\\Programas\\Arquivos_Lojas\\202004_BH Shopping_MG.csv\n",
      "C:\\Users\\lucas\\OneDrive\\Documentos\\Cursos\\Hashtag Treinamentos- Python Impressionador\\Programas\\Arquivos_Lojas\\202004_Bourbon_SP.csv\n",
      "C:\\Users\\lucas\\OneDrive\\Documentos\\Cursos\\Hashtag Treinamentos- Python Impressionador\\Programas\\Arquivos_Lojas\\202004_Buriti Shopping_GO.csv\n",
      "C:\\Users\\lucas\\OneDrive\\Documentos\\Cursos\\Hashtag Treinamentos- Python Impressionador\\Programas\\Arquivos_Lojas\\202004_Cidade de Sao Paulo_SP.csv\n",
      "C:\\Users\\lucas\\OneDrive\\Documentos\\Cursos\\Hashtag Treinamentos- Python Impressionador\\Programas\\Arquivos_Lojas\\202004_Goiania Shopping_GO.csv\n",
      "C:\\Users\\lucas\\OneDrive\\Documentos\\Cursos\\Hashtag Treinamentos- Python Impressionador\\Programas\\Arquivos_Lojas\\202004_Ibirapuera_SP.csv\n",
      "C:\\Users\\lucas\\OneDrive\\Documentos\\Cursos\\Hashtag Treinamentos- Python Impressionador\\Programas\\Arquivos_Lojas\\202004_Iguatemi_SP.csv\n",
      "C:\\Users\\lucas\\OneDrive\\Documentos\\Cursos\\Hashtag Treinamentos- Python Impressionador\\Programas\\Arquivos_Lojas\\202004_Independência Shopping_MG.csv\n",
      "C:\\Users\\lucas\\OneDrive\\Documentos\\Cursos\\Hashtag Treinamentos- Python Impressionador\\Programas\\Arquivos_Lojas\\202004_JK Iguatemi_SP.csv\n",
      "C:\\Users\\lucas\\OneDrive\\Documentos\\Cursos\\Hashtag Treinamentos- Python Impressionador\\Programas\\Arquivos_Lojas\\202004_Minas Shopping_MG.csv\n",
      "C:\\Users\\lucas\\OneDrive\\Documentos\\Cursos\\Hashtag Treinamentos- Python Impressionador\\Programas\\Arquivos_Lojas\\202004_Morumbi_SP.csv\n",
      "C:\\Users\\lucas\\OneDrive\\Documentos\\Cursos\\Hashtag Treinamentos- Python Impressionador\\Programas\\Arquivos_Lojas\\202004_Plaza Shopping_RJ.csv\n",
      "C:\\Users\\lucas\\OneDrive\\Documentos\\Cursos\\Hashtag Treinamentos- Python Impressionador\\Programas\\Arquivos_Lojas\\202004_Rio Sul_RJ.csv\n",
      "C:\\Users\\lucas\\OneDrive\\Documentos\\Cursos\\Hashtag Treinamentos- Python Impressionador\\Programas\\Arquivos_Lojas\\202004_Shopping Cidade_MG.csv\n",
      "C:\\Users\\lucas\\OneDrive\\Documentos\\Cursos\\Hashtag Treinamentos- Python Impressionador\\Programas\\Arquivos_Lojas\\202004_Shopping Leblon_RJ.csv\n",
      "C:\\Users\\lucas\\OneDrive\\Documentos\\Cursos\\Hashtag Treinamentos- Python Impressionador\\Programas\\Arquivos_Lojas\\202004_Shopping Tijuca_RJ.csv\n"
     ]
    }
   ],
   "source": [
    "from pathlib import Path\n",
    "print(Path.cwd())\n",
    "\n",
    "# Definindo o caminho da pasta\n",
    "## Repare que as barras devem ser \"/\" e não \"\\\"\n",
    "caminho = Path('C:/Users/lucas/OneDrive/Documentos/Cursos/Hashtag Treinamentos- Python Impressionador/Programas/Arquivos_Lojas')\n",
    "# caminho = Path('Arquivos_Lojas') ##tbm daria certo\n",
    "print(caminho)\n",
    "\n",
    "# iterdir() lista todos os arquivos da pasta atual - iteração\n",
    "arquivos = caminho.iterdir()\n",
    "## Printando os arquivos\n",
    "for arquivo in arquivos:\n",
    "    print(arquivo)"
   ]
  },
  {
   "cell_type": "markdown",
   "id": "23dd6cfd",
   "metadata": {},
   "source": [
    "### Agora, vamos verificar se um arquivo que estamos procurando existe na pasta"
   ]
  },
  {
   "cell_type": "code",
   "execution_count": 13,
   "id": "1b881818",
   "metadata": {},
   "outputs": [
    {
     "name": "stdout",
     "output_type": "stream",
     "text": [
      "Existe\n",
      "Existe\n"
     ]
    }
   ],
   "source": [
    "# opção 1 - usando o caminho do arquivo\n",
    "if Path('C:/Users/lucas/OneDrive/Documentos/Cursos/Hashtag Treinamentos- Python Impressionador/Programas/Arquivos_Lojas/202003_JK Iguatemi_SP.csv').exists():\n",
    "    print('Existe')\n",
    "    \n",
    "# opção 2 - usando somente o nome do arquivo e o caminho já declarado como variável\n",
    "if (caminho / Path('202003_JK Iguatemi_SP.csv')).exists(): # a barra junta o caminho com o Path\n",
    "    print('Existe')"
   ]
  },
  {
   "cell_type": "markdown",
   "id": "b6d795cf",
   "metadata": {},
   "source": [
    "### Criando uma nova pasta"
   ]
  },
  {
   "cell_type": "code",
   "execution_count": 17,
   "id": "81367373",
   "metadata": {},
   "outputs": [],
   "source": [
    "Path('Pasta Auxiliar/Pasta2').mkdir()"
   ]
  },
  {
   "cell_type": "markdown",
   "id": "23740a99",
   "metadata": {},
   "source": [
    "### Criando uma cópia do nosso arquivo na nova pasta que criamos"
   ]
  },
  {
   "cell_type": "code",
   "execution_count": 18,
   "id": "9d023046",
   "metadata": {},
   "outputs": [
    {
     "data": {
      "text/plain": [
       "WindowsPath('Pasta Auxiliar/201801_Amazonas Shopping_AM_versao2.csv')"
      ]
     },
     "execution_count": 18,
     "metadata": {},
     "output_type": "execute_result"
    }
   ],
   "source": [
    "import shutil as sh\n",
    "arquivo_copiar = Path('Arquivos_Lojas/201801_Amazonas Shopping_AM.csv')\n",
    "arquivo_colar = Path('Pasta Auxiliar/201801_Amazonas Shopping_AM_versao2.csv')\n",
    "\n",
    "sh.copy2(arquivo_copiar, arquivo_colar)"
   ]
  },
  {
   "cell_type": "markdown",
   "id": "084fc8a0",
   "metadata": {},
   "source": [
    "### Movendo um arquivo de um lugar para o outro"
   ]
  },
  {
   "cell_type": "code",
   "execution_count": 19,
   "id": "8d80868f",
   "metadata": {},
   "outputs": [
    {
     "data": {
      "text/plain": [
       "WindowsPath('Pasta Auxiliar/Pasta2/201801_Amazonas Shopping_AM_versao2.csv')"
      ]
     },
     "execution_count": 19,
     "metadata": {},
     "output_type": "execute_result"
    }
   ],
   "source": [
    "arquivo_para_mover = Path('Pasta Auxiliar/201801_Amazonas Shopping_AM_versao2.csv')\n",
    "arquivo_onde_colar = Path(Path('Pasta Auxiliar/Pasta2/201801_Amazonas Shopping_AM_versao2.csv'))\n",
    "# Somos obrigados a colocar o nome do arquivo final no 'arquivo_onde_colar'.\n",
    "# Podemos mudar o nome dele se quisermos tbm\n",
    "sh.move(arquivo_para_mover, arquivo_onde_colar)"
   ]
  },
  {
   "cell_type": "markdown",
   "id": "a06f88c3",
   "metadata": {},
   "source": [
    "### Desafio\n",
    "\n",
    "Você trabalha em uma empresa que tem 18 lojas espalhadas por todo o Brasil e divididas em 5 estados diferentes:\n",
    "- RJ\n",
    "- SP\n",
    "- MG\n",
    "- GO\n",
    "- AM\n",
    "\n",
    "Todo trimestre, são calculados os indicadores de cada funcionário de cada loja e esses indicadores são armazenados em um arquivo em Excel.\n",
    "\n",
    "Cada estado tem 1 Gerente Geral responsável por todas as lojas daqueles estados.\n",
    "\n",
    "Pediram para você enviar para cada Gerente Geral todas as bases de indicadores correspondentes às lojas que ele é responsável, porque a equipe deles precisa desses indicadores.\n",
    "\n",
    "Obs: Não vamos enviar por e-mail porque ainda não aprendemos a fazer isso, mas vamos deixar todos os arquivos em uma pasta única para cada gerente, ou seja, para cada estado.\n",
    "\n",
    "Então o seu desafio é separar todos os arquivos de forma que cada arquivo esteja na pasta do estado correspondente aquele arquivo.\n",
    "\n",
    "Obs: Para pegar o nome de um arquivo como um texto no pathlib, você pode usar Path.name ou arquivo.name:<br>\n",
    "caminho = Path('Pasta/Arquivo.csv')<br>\n",
    "print(caminho.name) -> resposta: 'Arquivo.csv'"
   ]
  },
  {
   "cell_type": "markdown",
   "id": "d2e5d14e",
   "metadata": {},
   "source": [
    "- Meu jeito:"
   ]
  },
  {
   "cell_type": "code",
   "execution_count": 55,
   "id": "66525ff3",
   "metadata": {},
   "outputs": [],
   "source": [
    "from pathlib import Path\n",
    "import shutil as sh\n",
    "\n",
    "# Definindo o caminho do arquivo\n",
    "caminho = Path('Arquivos_Lojas')\n",
    "\n",
    "# Definindo a lista de arquivos:\n",
    "arquivos = caminho.iterdir()\n",
    "\n",
    "# Criando as pastas por estado:\n",
    "(caminho / Path('RJ')).mkdir()\n",
    "(caminho / Path('SP')).mkdir()\n",
    "(caminho / Path('MG')).mkdir()\n",
    "(caminho / Path('GO')).mkdir()\n",
    "(caminho / Path('AM')).mkdir()"
   ]
  },
  {
   "cell_type": "code",
   "execution_count": 60,
   "id": "a0190c5b",
   "metadata": {},
   "outputs": [],
   "source": [
    "# Definindo o caminho das novas pastas\n",
    "caminho_RJ = (caminho / Path('RJ'))\n",
    "caminho_SP = (caminho / Path('SP'))\n",
    "caminho_MG = (caminho / Path('MG'))\n",
    "caminho_GO = (caminho / Path('GO'))\n",
    "caminho_AM = (caminho / Path('AM'))\n",
    "\n",
    "# Percorrendo os arquivos:\n",
    "for arquivo in arquivos:\n",
    "    # Movendo os arquivos para as novas pastas\n",
    "    if '_RJ' in arquivo.name:\n",
    "        sh.move(arquivo, (caminho_RJ / Path(arquivo.name)))\n",
    "    if '_SP' in arquivo.name:\n",
    "        sh.move(arquivo, (caminho_SP / Path(arquivo.name)))\n",
    "    if '_MG' in arquivo.name:\n",
    "        sh.move(arquivo, (caminho_MG / Path(arquivo.name)))\n",
    "    if '_GO' in arquivo.name:\n",
    "        sh.move(arquivo, (caminho_GO / Path(arquivo.name)))\n",
    "    if '_AM' in arquivo.name:\n",
    "        sh.move(arquivo, (caminho_AM / Path(arquivo.name)))"
   ]
  },
  {
   "cell_type": "markdown",
   "id": "a2a4909c",
   "metadata": {},
   "source": [
    "- Jeito do Lira (Professor)"
   ]
  },
  {
   "cell_type": "code",
   "execution_count": null,
   "id": "1abcb60f",
   "metadata": {},
   "outputs": [],
   "source": [
    "from pathlib import Path\n",
    "import shutil\n",
    "\n",
    "# Criando as pastas dos estados\n",
    "## Criando uma lista com os nomes dos estados\n",
    "estados = ['RJ', 'SP', 'MG', 'GO', 'AM']\n",
    "for estado in estados:\n",
    "    Path('Arquivos_Lojas/{}'.format(estado)).mkdir()\n",
    "\n",
    "# Definindo o caminho da pasta\n",
    "caminho = Path('Arquivos_Lojas')\n",
    "# Definindo os arquivos da pasta\n",
    "arquivos = caminho.iterdir()\n",
    "# Percorrendo o arquivo\n",
    "for arquivo in arquivos:\n",
    "    # Definindo o nome do arquivo\n",
    "    nome_arquivo = arquivo.name\n",
    "    # Só iremos rodar o código se for uma planilha em .csv\n",
    "    if nome_arquivo[-3:] == 'csv': # pegando os 3 últimos caracteres do arquivo e comparando com csv\n",
    "        # Definindo o estado de cada arquivo por sua posição\n",
    "        estado = nome_arquivo[-6:-4]\n",
    "        # Definindo aonde serão salvos os arquivos\n",
    "        local_final = caminho / Path('{}/{}'.format(estado, nome_arquivo))\n",
    "        # Movendo os arquivos para o local final\n",
    "        shutil.move(arquivo, local_final)"
   ]
  },
  {
   "cell_type": "markdown",
   "id": "12cc6ffa",
   "metadata": {},
   "source": [
    "## Gravação Mentoria RPA com Python - Automatizando Processos e Sistemas"
   ]
  },
  {
   "cell_type": "markdown",
   "id": "a28fdf34",
   "metadata": {},
   "source": [
    "https://hashtag.eadplataforma.com/lesson/detail/15/3834/"
   ]
  }
 ],
 "metadata": {
  "kernelspec": {
   "display_name": "Python 3",
   "language": "python",
   "name": "python3"
  },
  "language_info": {
   "codemirror_mode": {
    "name": "ipython",
    "version": 3
   },
   "file_extension": ".py",
   "mimetype": "text/x-python",
   "name": "python",
   "nbconvert_exporter": "python",
   "pygments_lexer": "ipython3",
   "version": "3.8.8"
  }
 },
 "nbformat": 4,
 "nbformat_minor": 5
}
