{
 "cells": [
  {
   "cell_type": "markdown",
   "id": "de8d48c6",
   "metadata": {},
   "source": [
    "# Estrutura de Repetição: for\n",
    "## Funcionamento:"
   ]
  },
  {
   "cell_type": "markdown",
   "id": "dfe4a9f2",
   "metadata": {},
   "source": [
    "for i in range(n):\n",
    "    repetir o código n vezes"
   ]
  },
  {
   "cell_type": "code",
   "execution_count": 4,
   "id": "b7504882",
   "metadata": {},
   "outputs": [
    {
     "name": "stdout",
     "output_type": "stream",
     "text": [
      "0\n",
      "1\n",
      "2\n",
      "3\n",
      "4\n"
     ]
    }
   ],
   "source": [
    "for i in range(5):\n",
    "    print(i)"
   ]
  },
  {
   "cell_type": "markdown",
   "id": "d318fe7c",
   "metadata": {},
   "source": [
    "- Imagine que você está construindo uma automação para enviar e-mails todo dia com o resumo da produção de uma fábrica. Construa um código que exiba a quantidade produzida de cada produto nesse email."
   ]
  },
  {
   "cell_type": "code",
   "execution_count": 6,
   "id": "871a9131",
   "metadata": {},
   "outputs": [
    {
     "name": "stdout",
     "output_type": "stream",
     "text": [
      "15000 unidades produzidas de coca\n",
      "12000 unidades produzidas de pepsi\n",
      "13000 unidades produzidas de guarana\n",
      "5000 unidades produzidas de sprite\n",
      "250 unidades produzidas de fanta\n"
     ]
    }
   ],
   "source": [
    "produtos = ['coca', 'pepsi', 'guarana', 'sprite', 'fanta']\n",
    "producao = [15000, 12000, 13000, 5000, 250]\n",
    "\n",
    "for i in range(len(produtos)):\n",
    "    print('{} unidades produzidas de {}'.format(producao[i], produtos[i]))"
   ]
  },
  {
   "cell_type": "markdown",
   "id": "c037a84e",
   "metadata": {},
   "source": [
    "# For \"each\"\n",
    "### Estrutura:\n",
    "O for no Python consegue percorrer uma lista e a cada loop retornar o valor do item"
   ]
  },
  {
   "cell_type": "code",
   "execution_count": 7,
   "id": "78cd7425",
   "metadata": {},
   "outputs": [
    {
     "name": "stdout",
     "output_type": "stream",
     "text": [
      "0\n",
      "1\n",
      "2\n",
      "3\n",
      "4\n"
     ]
    }
   ],
   "source": [
    "for i in range(5):\n",
    "    print(i)\n",
    "#range(5) é na verdade uma lista do tipo: [0, 1, 2, 3, 4]"
   ]
  },
  {
   "cell_type": "markdown",
   "id": "2115791d",
   "metadata": {},
   "source": [
    "### Usando para listas:"
   ]
  },
  {
   "cell_type": "markdown",
   "id": "525f7939",
   "metadata": {},
   "source": [
    "for item in lista:\n",
    "    print(item)\n",
    "    \n",
    "ou então para string:\n",
    "for ch in texto:\n",
    "    print(ch)"
   ]
  },
  {
   "cell_type": "code",
   "execution_count": 11,
   "id": "ec46d5e1",
   "metadata": {},
   "outputs": [
    {
     "name": "stdout",
     "output_type": "stream",
     "text": [
      "coca\n",
      "pepsi\n",
      "guarana\n",
      "sprite\n",
      "fanta\n",
      "coca\n",
      "pepsi\n",
      "guarana\n",
      "sprite\n",
      "fanta\n",
      "l\n",
      "u\n",
      "c\n",
      "a\n",
      "s\n",
      "@\n",
      "g\n",
      "m\n",
      "a\n",
      "i\n",
      "l\n",
      ".\n",
      "c\n",
      "o\n",
      "m\n"
     ]
    }
   ],
   "source": [
    "produtos = ['coca', 'pepsi', 'guarana', 'sprite', 'fanta']\n",
    "texto = 'lucas@gmail.com'\n",
    "\n",
    "for i in range(len(produtos)):\n",
    "    print(produtos[i])\n",
    "    \n",
    "# Forma mais direta:\n",
    "for item in produtos:\n",
    "    print(item)\n",
    "\n",
    "# podemos fazer isso com strings também:\n",
    "for ch in texto:\n",
    "    print(ch)"
   ]
  },
  {
   "cell_type": "markdown",
   "id": "f66127d4",
   "metadata": {},
   "source": [
    "# For + if\n",
    "### Estrutura:"
   ]
  },
  {
   "cell_type": "markdown",
   "id": "70b0ff3b",
   "metadata": {},
   "source": [
    "for item in lista:\n",
    "    if condicao:\n",
    "        faca alguma coisa\n",
    "    else:\n",
    "        faca outra coisa"
   ]
  },
  {
   "cell_type": "markdown",
   "id": "b9ad77cd",
   "metadata": {},
   "source": [
    "Digamos que a gente esteja analisando a meta de vendas de vários funcionários de uma empresa. A meta de vendas é de 1000 reais em 1 dia. Temos uma lista com as vendas de todos os funcionários e quereos calcular qual a % de pessoas que bateram a meta."
   ]
  },
  {
   "cell_type": "code",
   "execution_count": 20,
   "id": "e4152927",
   "metadata": {},
   "outputs": [
    {
     "name": "stdout",
     "output_type": "stream",
     "text": [
      "1200\n",
      "1500\n",
      "1900\n",
      "2750\n",
      "1100\n",
      "1111\n",
      "6 pessoas bateram a meta (26.09% do total)\n"
     ]
    }
   ],
   "source": [
    "vendas = [1200, 300, 800, 1500, 1900, 2750, 400, 20, 23, 70, 90, 80, 1100, 999, 900, 880, 870, 50, 1111, 120, 300, 450, 800]\n",
    "meta = 1000\n",
    "\n",
    "qtdd_bateu_meta = 0 #contador\n",
    "\n",
    "for venda in vendas:\n",
    "    if venda >= meta:\n",
    "        qtdd_bateu_meta += 1\n",
    "        print(venda)\n",
    "qtde_funcionários = len(vendas)\n",
    "\n",
    "print('{} pessoas bateram a meta ({:.2%} do total)'.format(qtdd_bateu_meta, qtdd_bateu_meta/qtde_funcionários))"
   ]
  },
  {
   "cell_type": "markdown",
   "id": "603b6de9",
   "metadata": {},
   "source": [
    "# Enumerate\n",
    "### Estrutura:\n",
    "   O enumerate permite que você percorra uma lista e ao mesmo tempo tenha em uma variável o índice daquele item"
   ]
  },
  {
   "cell_type": "markdown",
   "id": "9b9f7381",
   "metadata": {},
   "source": [
    "for item in lista:\n",
    "    resto do código"
   ]
  },
  {
   "cell_type": "code",
   "execution_count": 25,
   "id": "9e0eede6",
   "metadata": {},
   "outputs": [
    {
     "name": "stdout",
     "output_type": "stream",
     "text": [
      "Maria\n",
      "José\n",
      "Antônio\n",
      "João\n",
      "Francisco\n",
      "Ana\n",
      "Luiz\n",
      "Paulo\n",
      "Carlos\n",
      "Manoel\n",
      "Pedro\n",
      "Francisca\n",
      "Marcos\n",
      "Raimundo\n",
      "Sebastião\n",
      "Antônia\n",
      "Marcelo\n",
      "Jorge\n",
      "Márcia\n",
      "Geraldo\n",
      "Adriana\n",
      "Sandra\n",
      "Luis\n"
     ]
    }
   ],
   "source": [
    "funcionarios = ['Maria', 'José', 'Antônio', 'João', 'Francisco', 'Ana', 'Luiz', 'Paulo', 'Carlos', 'Manoel', 'Pedro', 'Francisca', 'Marcos', 'Raimundo', 'Sebastião', 'Antônia', 'Marcelo', 'Jorge', 'Márcia', 'Geraldo', 'Adriana', 'Sandra', 'Luis']\n",
    "for funcionario in funcionarios:\n",
    "    print(funcionario)"
   ]
  },
  {
   "cell_type": "markdown",
   "id": "a5967a89",
   "metadata": {},
   "source": [
    "for i, item in enumerate(lista):\n",
    "    resto do código"
   ]
  },
  {
   "cell_type": "code",
   "execution_count": 27,
   "id": "bc687189",
   "metadata": {},
   "outputs": [
    {
     "name": "stdout",
     "output_type": "stream",
     "text": [
      "0 é o funcionário Maria\n",
      "1 é o funcionário José\n",
      "2 é o funcionário Antônio\n",
      "3 é o funcionário João\n",
      "4 é o funcionário Francisco\n",
      "5 é o funcionário Ana\n",
      "6 é o funcionário Luiz\n",
      "7 é o funcionário Paulo\n",
      "8 é o funcionário Carlos\n",
      "9 é o funcionário Manoel\n",
      "10 é o funcionário Pedro\n",
      "11 é o funcionário Francisca\n",
      "12 é o funcionário Marcos\n",
      "13 é o funcionário Raimundo\n",
      "14 é o funcionário Sebastião\n",
      "15 é o funcionário Antônia\n",
      "16 é o funcionário Marcelo\n",
      "17 é o funcionário Jorge\n",
      "18 é o funcionário Márcia\n",
      "19 é o funcionário Geraldo\n",
      "20 é o funcionário Adriana\n",
      "21 é o funcionário Sandra\n",
      "22 é o funcionário Luis\n"
     ]
    }
   ],
   "source": [
    "funcionarios = ['Maria', 'José', 'Antônio', 'João', 'Francisco', 'Ana', 'Luiz', 'Paulo', 'Carlos', 'Manoel', 'Pedro', 'Francisca', 'Marcos', 'Raimundo', 'Sebastião', 'Antônia', 'Marcelo', 'Jorge', 'Márcia', 'Geraldo', 'Adriana', 'Sandra', 'Luis']\n",
    "\n",
    "for i, funcionario in enumerate(funcionarios):\n",
    "    print('{} é o funcionário {}'.format(i, funcionario))"
   ]
  },
  {
   "cell_type": "markdown",
   "id": "bfe61d12",
   "metadata": {},
   "source": [
    "### Exemplo Prático\n",
    "\n",
    "Vamos pegar um exemplo de nível mínimo de estoque. Em uma fábrica você tem vários produtos e não pode deixar que os produtos fiquem em falta. Para isso, foi definido uma quantidade mínima de estoque que os produtos precisam ter:\n",
    "\n",
    "Identifique quais produtos estão abaixo do nível mínimo de estoque."
   ]
  },
  {
   "cell_type": "code",
   "execution_count": 31,
   "id": "7e7a3528",
   "metadata": {},
   "outputs": [
    {
     "name": "stdout",
     "output_type": "stream",
     "text": [
      "O produto dolly está abaixo do estoque mínimo (20 unidades no estoque)\n",
      "O produto red bull está abaixo do estoque mínimo (23 unidades no estoque)\n"
     ]
    }
   ],
   "source": [
    "estoque = [1200, 300, 800, 1500, 1900, 2750, 400, 20, 23, 70, 90, 80, 1100, 999, 900, 880, 870, 50, 1111, 120, 300, 450, 800]\n",
    "produtos = ['coca', 'pepsi', 'guarana', 'skol', 'brahma', 'agua', 'del valle', 'dolly', 'red bull', 'cachaça', 'vinho tinto', 'vodka', 'vinho branco', 'tequila', 'champagne', 'gin', 'guaracamp', 'matte', 'leite de castanha', 'leite', 'jurupinga', 'sprite', 'fanta']\n",
    "nivel_minimo = 50\n",
    "\n",
    "for i, qtde in enumerate(estoque):\n",
    "    if qtde < nivel_minimo:\n",
    "        print('O produto {} está abaixo do estoque mínimo ({} unidades no estoque)'.format(produtos[i], qtde))"
   ]
  },
  {
   "cell_type": "markdown",
   "id": "fc96a3ac",
   "metadata": {},
   "source": [
    "# Exercícios\n",
    "\n",
    "## 1. Criando um Registro de Hóspedes\n",
    "\n",
    "Digamos que você está criando o sistema para registrar a chegada de hóspedes em um hotel. No hotel, os hóspedes podem ter quartos com 1, 2, 3 e 4 pessoas. Seu sistema deve conseguir:\n",
    "\n",
    "1. Identificar quantas pessoas o hóspede que acabou de chegar vai ter no quarto (perguntando por meio de input)\n",
    "2. De acordo com a quantidade de pessoas do hóspede, ele deve fazer um for para perguntar o cpf e o nome de cada pessoa, a fim de registrá-la no quarto (2 inputs para cada pessoa, 1 para o cpf e outro para o nome)\n",
    "3. O seu programa então deve gerar uma lista com todas as pessoas que ficarão no quarto em que cada item dessa lista é o nome da pessoa e o cpf da pessoa, assim:"
   ]
  },
  {
   "cell_type": "code",
   "execution_count": null,
   "id": "76fd1354",
   "metadata": {},
   "outputs": [],
   "source": [
    "quarto = [\n",
    "    ['João', 'cpf:00000000000'],\n",
    "    ['Julia', 'cpf:11111111111'],\n",
    "    ['Marcus', 'cpf:22222222222'],\n",
    "    ['Maria', 'cpf:33333333333'],\n",
    "]"
   ]
  },
  {
   "cell_type": "markdown",
   "id": "f4082fd0",
   "metadata": {},
   "source": [
    "- Para simplificar, não vamos nos preocupar com possibilidades de \"tentar colocar mais de 1 hóspede, digitar o cpf errado, etc. Nosso objetivo é treinar a criação de uma rotina de cadastro"
   ]
  },
  {
   "cell_type": "code",
   "execution_count": 38,
   "id": "a3169389",
   "metadata": {},
   "outputs": [
    {
     "name": "stdout",
     "output_type": "stream",
     "text": [
      "Quantas pessoas terão no quarto?1\n",
      "Qual o nome?Lucas\n",
      "Qual cpf?49841251876\n",
      "[['Lucas', '49841251876']]\n"
     ]
    }
   ],
   "source": [
    "qtde_pessoas = int(input('Quantas pessoas terão no quarto?')) # devemos transformar string em numero\n",
    "quarto = [] # quarto será uma lista\n",
    "\n",
    "for i in range(qtde_pessoas):\n",
    "    nome = input('Qual o nome?')\n",
    "    cpf = input('Qual cpf?')\n",
    "    hospede = [nome, cpf]\n",
    "    quarto.append(hospede)\n",
    "\n",
    "print(quarto)\n"
   ]
  },
  {
   "cell_type": "markdown",
   "id": "1583cb07",
   "metadata": {},
   "source": [
    "## 2. Análise de Vendas\n",
    "\n",
    "Nesse exercício vamos fazer uma \"análise simples\" de atingimento de Meta.\n",
    "\n",
    "Temos uma lista com os vendedores e os valores de vendas e queremos identificar (printar) quais os vendedores que bateram a meta e qual foi o valor que eles venderam."
   ]
  },
  {
   "cell_type": "code",
   "execution_count": 47,
   "id": "e8f10b90",
   "metadata": {},
   "outputs": [
    {
     "name": "stdout",
     "output_type": "stream",
     "text": [
      "Vendedor João bateu a meta. Fez 15000 vendas\n",
      "Vendedor Julia bateu a meta. Fez 27000 vendas\n",
      "Vendedor Marcus não bateu a meta. Fez 9900 vendas\n",
      "Vendedor Maria não bateu a meta. Fez 3750 vendas\n",
      "Vendedor Ana bateu a meta. Fez 10300 vendas\n",
      "Vendedor Alon não bateu a meta. Fez 7870 vendas\n"
     ]
    }
   ],
   "source": [
    "meta = 10000\n",
    "vendas = [\n",
    "    ['João', 15000],\n",
    "    ['Julia', 27000],\n",
    "    ['Marcus', 9900],\n",
    "    ['Maria', 3750],\n",
    "    ['Ana', 10300],\n",
    "    ['Alon', 7870],\n",
    "]\n",
    "for item in vendas:\n",
    "    if item[1] >= meta:\n",
    "        print('Vendedor {} bateu a meta. Fez {} vendas'.format(item[0], item[1]))\n",
    "    elif item[1] < meta:\n",
    "        print('Vendedor {} não bateu a meta. Fez {} vendas'.format(item[0], item[1]))"
   ]
  },
  {
   "cell_type": "markdown",
   "id": "d482dbd5",
   "metadata": {},
   "source": [
    "## 3. Comparação com Ano Anterior\n",
    "\n",
    "Digamos que você está analisando as vendas de produtos de um ecommerce e quer identificar quais produtos tiveram no ano de 2020 mais vendas do que no ano de 2019, para reportar isso para a diretoria.\n",
    "\n",
    "Sua resposta pode ser um print de cada produto, qual foi a venda de 2019, a venda de 2020 e o % de crescimento de 2020 para 2019.\n",
    "\n",
    "Lembrando, para calcular o % de crescimento de um produto de um ano para o outro, podemos fazer: (vendas_produto2020/vendas_produto2019 - 1)\n",
    "\n",
    "Dica: lembre do enumerate, ele pode facilitar seu \"for\""
   ]
  },
  {
   "cell_type": "code",
   "execution_count": 63,
   "id": "b21c06a5",
   "metadata": {},
   "outputs": [
    {
     "name": "stdout",
     "output_type": "stream",
     "text": [
      "iphone vendeu R$558_147 em 2019, 951,642 em 2020 e teve -41.3% de crescimento\n",
      "tv vendeu R$405_252 em 2019, 787,604 em 2020 e teve -48.5% de crescimento\n",
      "máquina de café vendeu R$718_654 em 2019, 867,660 em 2020 e teve -17.2% de crescimento\n",
      "notebook dell vendeu R$422_760 em 2019, 694,913 em 2020 e teve -39.2% de crescimento\n",
      "notebook hp vendeu R$154_753 em 2019, 539,704 em 2020 e teve -71.3% de crescimento\n",
      "microsoft surface vendeu R$438_508 em 2019, 667,179 em 2020 e teve -34.3% de crescimento\n",
      "webcam vendeu R$237_467 em 2019, 295,633 em 2020 e teve -19.7% de crescimento\n",
      "caixa de som vendeu R$489_705 em 2019, 725,316 em 2020 e teve -32.5% de crescimento\n",
      "microfone vendeu R$328_311 em 2019, 644,622 em 2020 e teve -49.1% de crescimento\n",
      "câmera canon vendeu R$591_120 em 2019, 994,303 em 2020 e teve -40.5% de crescimento\n"
     ]
    }
   ],
   "source": [
    "produtos = ['iphone', 'galaxy', 'ipad', 'tv', 'máquina de café', 'kindle', 'geladeira', 'adega', 'notebook dell', 'notebook hp', 'notebook asus', 'microsoft surface', 'webcam', 'caixa de som', 'microfone', 'câmera canon']\n",
    "vendas2019 = [558147,712350,573823,405252,718654,531580,973139,892292,422760,154753,887061,438508,237467,489705,328311,591120]\n",
    "vendas2020 = [951642,244295,26964,787604,867660,78830,710331,646016,694913,539704,324831,667179,295633,725316,644622,994303]\n",
    "\n",
    "#for i, valor20 in enumerate(vendas2020): \n",
    "    #if valor20 > vendas2019[i]:\n",
    "        #print('{} teve {} vendas em 2019 e {} em 2020 ({:.2%} a mais do que 2019)'.format(produtos[i],vendas2019[i], vendas2020[i], vendas2020[i]/vendas2019[i] - 1))\n",
    "\n",
    "# OUTRA MANEIRA:\n",
    "for i, produto in enumerate(produtos):\n",
    "    if vendas2020[i] > vendas2019[i]:\n",
    "        print('{} vendeu R${:_} em 2019, {:,} em 2020 e teve {:.1%} de crescimento'.format(produto, vendas2019[i], vendas2020[i], vendas2019[i]/vendas2020[i] - 1))"
   ]
  },
  {
   "cell_type": "markdown",
   "id": "38363c17",
   "metadata": {},
   "source": [
    "# For dentro de For\n",
    "\n",
    "Quando temos listas dentro de listas, às vezes precisamos fazer um \"for dentro de for\""
   ]
  },
  {
   "cell_type": "markdown",
   "id": "46576cbe",
   "metadata": {},
   "source": [
    "for item in lista: \n",
    "    for item2 in lista2:\n",
    "        codigo aqui"
   ]
  },
  {
   "cell_type": "markdown",
   "id": "71b80263",
   "metadata": {},
   "source": [
    "Vamos pegar um exemplo de nível mínimo de estoque. Em uma fábrica você tem vários produtos e não pode deixar que os produtos fiquem em falta. Para isso, foi definido uma quantidade mínima de estoque que os produtos precisam ter:\n",
    "\n",
    "Identifique quais fábricas tem algum produto abaixo do nível de estoque\n",
    "\n",
    "- Agora ao invés de analisar o estoque de apenas 1 fábrica, vamos analisar o estoque de várias fábricas"
   ]
  },
  {
   "cell_type": "code",
   "execution_count": 73,
   "id": "5ce4767e",
   "metadata": {},
   "outputs": [
    {
     "name": "stdout",
     "output_type": "stream",
     "text": [
      "Lira Manufacturing\n",
      "Fábrica Hashtag\n",
      "Python Manufaturas\n"
     ]
    }
   ],
   "source": [
    "estoque = [\n",
    "    [294, 125, 269, 208, 783, 852, 259, 371, 47, 102, 386, 87, 685, 686, 697, 941, 163, 631, 7, 714, 218, 670, 453],\n",
    "    [648, 816, 310, 555, 992, 643, 226, 319, 501, 23, 239, 42, 372, 441, 126, 645, 927, 911, 761, 445, 974, 2, 549],\n",
    "    [832, 683, 784, 449, 977, 705, 198, 937, 729, 327, 339, 10, 975, 310, 95, 689, 137, 795, 211, 538, 933, 751, 522],\n",
    "    [837, 168, 570, 397, 53, 297, 966, 714, 72, 737, 259, 629, 625, 469, 922, 305, 782, 243, 841, 848, 372, 621, 362],\n",
    "    [429, 242, 53, 985, 406, 186, 198, 50, 501, 870, 781, 632, 781, 105, 644, 509, 401, 88, 961, 765, 422, 340, 654],\n",
    "]\n",
    "fabricas = ['Lira Manufacturing', 'Fábrica Hashtag', 'Python Manufaturas', 'Produções e Cia', 'Manufatura e Cia']\n",
    "nivel_minimo = 50\n",
    "\n",
    "fabricas_abaixo_nivel = []\n",
    "\n",
    "for i, lista in enumerate(estoque):\n",
    "    # se dentro da lista, tem alguém abaixo do nível mínimo\n",
    "    for qtde in lista:\n",
    "        if qtde < nivel_minimo:\n",
    "            if fabricas[i] in fabricas_abaixo_nivel:\n",
    "                pass\n",
    "            else:\n",
    "                fabricas_abaixo_nivel.append(fabricas[i])\n",
    "for fabrica in fabricas_abaixo_nivel:\n",
    "    print(fabrica)\n",
    "        \n",
    "    "
   ]
  },
  {
   "cell_type": "markdown",
   "id": "979ec827",
   "metadata": {},
   "source": [
    "# Exercícios\n",
    "\n",
    "## 1. Calculando % de uma lista\n",
    "\n",
    "Faremos algo parecido com \"filtrar\" uma lista. Mais pra frente no curso aprenderemos outras formas de fazer isso, mas com o nosso conhecimentoa atual já conseguimos resolver o desafio.\n",
    "\n",
    "Digamos que a gente tenha uma lista de vendedores e ao invés de saber todos os vendedores que bateram a meta, eu quero conseguir calcular o % de vendedores que bateram a meta. Ou seja, se temos 10 vendedores e 3 bateram a meta, temos 30% dos vendedores que bateram a meta."
   ]
  },
  {
   "cell_type": "code",
   "execution_count": 76,
   "id": "17c4bb8c",
   "metadata": {},
   "outputs": [],
   "source": [
    "meta = 10000\n",
    "vendas = [\n",
    "    ['João', 15000],\n",
    "    ['Julia', 27000],\n",
    "    ['Marcus', 9900],\n",
    "    ['Maria', 3750],\n",
    "    ['Ana', 10300],\n",
    "    ['Alon', 7870],\n",
    "]"
   ]
  },
  {
   "cell_type": "markdown",
   "id": "984492e0",
   "metadata": {},
   "source": [
    "- Vamos resolver de 2 formas:\n",
    "    1. Criando uma lista auxiliar apenas com os vendedores que bateram a meta\n",
    "    2. Fazendo o cálculo diretamente na lista que já temos"
   ]
  },
  {
   "cell_type": "code",
   "execution_count": 82,
   "id": "6dfc570b",
   "metadata": {},
   "outputs": [
    {
     "name": "stdout",
     "output_type": "stream",
     "text": [
      "50.0% dos vendedores bateram a meta\n"
     ]
    }
   ],
   "source": [
    "# Criando lista auxiliar\n",
    "acima_meta = []\n",
    "for lista in vendas:\n",
    "    if lista[1] >= meta:\n",
    "        acima_meta.append(lista)\n",
    "print('{:.1%} dos vendedores bateram a meta'.format(len(acima_meta)/ len(vendas)))"
   ]
  },
  {
   "cell_type": "code",
   "execution_count": 83,
   "id": "ff2e802a",
   "metadata": {},
   "outputs": [
    {
     "name": "stdout",
     "output_type": "stream",
     "text": [
      "50.0% dos vendedores bateram a meta\n"
     ]
    }
   ],
   "source": [
    "# Cálculo diretamente na lista\n",
    "qtde_vendedores_acima = 0\n",
    "\n",
    "for lista in vendas:\n",
    "    if lista[1] >= meta:\n",
    "        qtde_vendedores_acima += 1\n",
    "print('{:.1%} dos vendedores bateram a meta'.format(qtde_vendedores_acima/ len(vendas)))"
   ]
  },
  {
   "cell_type": "markdown",
   "id": "c26fc1d3",
   "metadata": {},
   "source": [
    "#### Para treinar uma estrutura parecida, crie um código para responder: quem foi o vendedor que mais vendeu?"
   ]
  },
  {
   "cell_type": "code",
   "execution_count": 84,
   "id": "1ee4390a",
   "metadata": {},
   "outputs": [
    {
     "name": "stdout",
     "output_type": "stream",
     "text": [
      "O melhor vendedor foi Alon com 7870 vendas\n"
     ]
    }
   ],
   "source": [
    "melhor_vendedor = ''\n",
    "maior_vendas = 0\n",
    "\n",
    "for venda in vendas:\n",
    "    if venda[1] > maior_vendas:\n",
    "        maior_vendas = venda[1]\n",
    "        melhor_vendedor = venda[0]\n",
    "\n",
    "print('O melhor vendedor foi {} com {} vendas'.format(venda[0], venda[1]))"
   ]
  },
  {
   "cell_type": "markdown",
   "id": "4cb60206",
   "metadata": {},
   "source": [
    "# Formas de interromper um for\n",
    "### 2 opções:\n",
    "- break -> interrompe e finaliza o for\n",
    "- continue -> interrompe e vai para o próximo item do for"
   ]
  },
  {
   "cell_type": "code",
   "execution_count": 85,
   "id": "a99b6e00",
   "metadata": {},
   "outputs": [],
   "source": [
    "vendas = [100, 150, 1500, 2000, 120]"
   ]
  },
  {
   "cell_type": "markdown",
   "id": "687edcb9",
   "metadata": {},
   "source": [
    "- Caso 1: se todas as vendas forem acima da meta, a loja ganha um bônus"
   ]
  },
  {
   "cell_type": "code",
   "execution_count": 90,
   "id": "018c2c47",
   "metadata": {},
   "outputs": [
    {
     "name": "stdout",
     "output_type": "stream",
     "text": [
      "A loja não ganha bônus\n"
     ]
    }
   ],
   "source": [
    "meta = 110\n",
    "for venda in vendas:\n",
    "    if venda < meta:\n",
    "        print('A loja não ganha bônus')\n",
    "        break # identifica desde a primeira venda menor do que a meta e sai do for (acelera o código)"
   ]
  },
  {
   "cell_type": "markdown",
   "id": "0d5cb583",
   "metadata": {},
   "source": [
    "- Caso 2: Exiba quem bateu a meta"
   ]
  },
  {
   "cell_type": "code",
   "execution_count": 94,
   "id": "ff39da20",
   "metadata": {},
   "outputs": [
    {
     "name": "stdout",
     "output_type": "stream",
     "text": [
      "Julia bateu a meta (150 vendas)\n",
      "Ana bateu a meta (1500 vendas)\n",
      "José bateu a meta (2000 vendas)\n"
     ]
    }
   ],
   "source": [
    "vendedores = ['João', 'Julia', 'Ana', 'José', 'Maria']\n",
    "meta = 130\n",
    "\n",
    "for i, venda in enumerate(vendas):\n",
    "    if venda < meta:\n",
    "        continue # se venda < meta, o for reinicia sem passar para o código abaixo\n",
    "    print('{} bateu a meta ({} vendas)'.format(vendedores[i], venda))"
   ]
  },
  {
   "cell_type": "markdown",
   "id": "02347ccc",
   "metadata": {},
   "source": [
    "# Estrutura While:\n",
    "### Funcionamento\n",
    "Usamos o while quando queremos repetir um código de forma indeterminada até uma condição se tornar verdadeira/falsa. <br>\n",
    "A lógica é: enquanto a condição for verdadeira, o while executa o código. Assim que ela deixar de ser verdadeira, o código \"sai\" do While."
   ]
  },
  {
   "cell_type": "markdown",
   "id": "b4832c5a",
   "metadata": {},
   "source": [
    "while condicao:\n",
    "    repete esse código"
   ]
  },
  {
   "cell_type": "markdown",
   "id": "6ffbc817",
   "metadata": {},
   "source": [
    "- Exemplo: Quando ciramos automações na internet\n",
    "- Exemplo2: Crie um programa que funcione como o registro de vendas de uma empresa\n",
    "Nele, a pessoa deve inserir o nome do produto e o produto deve ser adicionado na lista de venda. <br> <br>\n",
    "Enquanto o usuário não encerrar o programa, significa que ele está registrando novos produtos, então o programa deve permitir a entrada de quantos produtos o usuário quiser."
   ]
  },
  {
   "cell_type": "code",
   "execution_count": 7,
   "id": "4c97e5c4",
   "metadata": {},
   "outputs": [
    {
     "name": "stdout",
     "output_type": "stream",
     "text": [
      "Registre um produto. Para cancelar o registro de um produto novo, basta apertar enter com a caixa vaziaarroz\n",
      "Registre um produto. Para cancelar o registro de um produto novo, basta apertar enter com a caixa vaziafeijão\n",
      "Registre um produto. Para cancelar o registro de um produto novo, basta apertar enter com a caixa vazia\n",
      "Registro finalizado. As vendas cadastradas foram: ['arroz', 'feijão']\n"
     ]
    }
   ],
   "source": [
    "#Exemplo 2\n",
    "venda = input('Registre um produto. Para cancelar o registro de um produto novo, basta apertar enter com a caixa vazia')\n",
    "vendas = []\n",
    "while venda != '':\n",
    "    vendas.append(venda)\n",
    "    venda = input('Registre um produto. Para cancelar o registro de um produto novo, basta apertar enter com a caixa vazia')\n",
    "    \n",
    "print('Registro finalizado. As vendas cadastradas foram: {}'.format(vendas))"
   ]
  },
  {
   "cell_type": "markdown",
   "id": "6d928b66",
   "metadata": {},
   "source": [
    "# Cuidado com o while -> Loop Infinito\n",
    "\n",
    "Sempre que for usar o comando while, lembre-se de ter certeza que o programa vai terminar em algum momento\n",
    "\n",
    "### Exemplo\n",
    "\n",
    "Digamos que temos uma lista de vendedores e as quantidades vendidas e queremos identificar todos os vendedores que bateram a meta de 50 vendas."
   ]
  },
  {
   "cell_type": "code",
   "execution_count": 9,
   "id": "3c64d81c",
   "metadata": {},
   "outputs": [
    {
     "name": "stdout",
     "output_type": "stream",
     "text": [
      "Maria bateu a meta. Vendas: 941\n",
      "José bateu a meta. Vendas: 852\n",
      "Antônio bateu a meta. Vendas: 783\n",
      "João bateu a meta. Vendas: 714\n",
      "Francisco bateu a meta. Vendas: 697\n",
      "Ana bateu a meta. Vendas: 686\n",
      "Luiz bateu a meta. Vendas: 685\n",
      "Paulo bateu a meta. Vendas: 670\n",
      "Carlos bateu a meta. Vendas: 631\n",
      "Manoel bateu a meta. Vendas: 453\n",
      "Pedro bateu a meta. Vendas: 386\n",
      "Francisca bateu a meta. Vendas: 371\n",
      "Marcos bateu a meta. Vendas: 294\n",
      "Raimundo bateu a meta. Vendas: 269\n",
      "Sebastião bateu a meta. Vendas: 259\n",
      "Antônia bateu a meta. Vendas: 218\n",
      "Marcelo bateu a meta. Vendas: 208\n",
      "Jorge bateu a meta. Vendas: 163\n",
      "Márcia bateu a meta. Vendas: 125\n",
      "Geraldo bateu a meta. Vendas: 102\n",
      "Adriana bateu a meta. Vendas: 87\n"
     ]
    }
   ],
   "source": [
    "vendas = [941, 852, 783, 714, 697, 686, 685, 670, 631, 453, 386, 371, 294, 269, 259, 218, 208, 163, 125, 102, 87, 47, 7]\n",
    "vendedores = ['Maria', 'José', 'Antônio', 'João', 'Francisco', 'Ana', 'Luiz', 'Paulo', 'Carlos', 'Manoel', 'Pedro', 'Francisca', 'Marcos', 'Raimundo', 'Sebastião', 'Antônia', 'Marcelo', 'Jorge', 'Márcia', 'Geraldo', 'Adriana', 'Sandra', 'Luis']\n",
    "meta = 50\n",
    "# vendas está formatado em ordem decrescente\n",
    "i = 0\n",
    "while vendas[i] > meta:\n",
    "    print('{} bateu a meta. Vendas: {}'.format(vendedores[i], vendas[i]))\n",
    "    i += 1 # Caso o índice não seja aumentado, cairemos em um loop infinito"
   ]
  },
  {
   "cell_type": "markdown",
   "id": "39ae5d3f",
   "metadata": {},
   "source": [
    "# Exercícios\n",
    "\n",
    "## 1. Input até o usuário parar\n",
    "\n",
    "Vamos criar um sistema de vendas. Nosso programa deve registrar os produtos e as quantidades (2 inputs) e adicionar em uma lista.\n",
    "\n",
    "O programa deve continuar rodando até o input ser vazio, ou seja, o usuário apertar enter sem digitar nenhum produto ou quantidade.\n",
    "\n",
    "Ao final do programa, ele deve printar todos os produtos e quantidades vendidas.\n",
    "\n",
    "Obs: Caso queira, para o print ficar mais visual, pode usar o join para cada item ser printado em uma linha.\n",
    "Sugestão para sua lista de produtos vendidos:"
   ]
  },
  {
   "cell_type": "markdown",
   "id": "99b53c7f",
   "metadata": {},
   "source": [
    "vendas = [\n",
    "    ['maçã', 5],\n",
    "    ['banana', 15],\n",
    "    ['azeite', 1],\n",
    "    ['vinho', 3],\n",
    "]"
   ]
  },
  {
   "cell_type": "markdown",
   "id": "e738d5f9",
   "metadata": {},
   "source": [
    "### Obs: Podemos fazer o While de 2 maneiras:\n",
    "\n",
    "1. While com a condição que finalize o programa\n",
    "2. While rodando para sempre, mas com uma condição dentro do while que dê um break no código.\n",
    "\n",
    "Vamos mostrar as 2 opções"
   ]
  },
  {
   "cell_type": "code",
   "execution_count": 2,
   "id": "47bee9b3",
   "metadata": {},
   "outputs": [
    {
     "name": "stdout",
     "output_type": "stream",
     "text": [
      "Qual o produto?a\n",
      "Qual a quantidade?12\n",
      "Qual o produto?\n",
      "[['a', 12]]\n"
     ]
    }
   ],
   "source": [
    "vendas = []\n",
    "\n",
    "while True:\n",
    "    produto = input('Qual o produto?')\n",
    "    if not produto:\n",
    "        break\n",
    "    qtde = int(input('Qual a quantidade?'))\n",
    "    vendas.append([produto, qtde])\n",
    "            \n",
    "print(vendas)"
   ]
  },
  {
   "cell_type": "code",
   "execution_count": null,
   "id": "eeec4179",
   "metadata": {},
   "outputs": [],
   "source": []
  }
 ],
 "metadata": {
  "kernelspec": {
   "display_name": "Python 3",
   "language": "python",
   "name": "python3"
  },
  "language_info": {
   "codemirror_mode": {
    "name": "ipython",
    "version": 3
   },
   "file_extension": ".py",
   "mimetype": "text/x-python",
   "name": "python",
   "nbconvert_exporter": "python",
   "pygments_lexer": "ipython3",
   "version": "3.8.8"
  }
 },
 "nbformat": 4,
 "nbformat_minor": 5
}
