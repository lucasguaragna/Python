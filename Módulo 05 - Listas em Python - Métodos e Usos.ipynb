{
 "cells": [
  {
   "cell_type": "markdown",
   "id": "3a564434",
   "metadata": {},
   "source": [
    "# Listas em Python\n",
    "### Estrutura\n",
    "lista = [valor, valor, valor, valor] <br>\n",
    "- Lista é um dos objetos mais importantes do Python, por isso vamos trabalhar bastante neles\n",
    "- Quando importamos uma base de dados para o Python, normalmente ele é lido como uma \"lista\" ou como alguma \"variação de lista\"\n",
    "- Listas em Python foram feitas para serem homogêneas, apesar de aceitarem valores heterogêneos\n",
    "<br>\n",
    "*Exemplo de Lista* <br>\n",
    "\n",
    "lista[i] -> é o valor de índice i da lista. <br>\n",
    "Obs: Lembre que no python o índice começa em 0, então o primeiro item de uma lista é o item lista[0]\n",
    "\n",
    "Para substituir um valor de uma lista você pode fazer:<br>\n",
    "lista[i] = novo_valor\n",
    "\n",
    "### Lista de produtos em uma loja"
   ]
  },
  {
   "cell_type": "code",
   "execution_count": 14,
   "id": "95a83e0a",
   "metadata": {},
   "outputs": [
    {
     "name": "stdout",
     "output_type": "stream",
     "text": [
      "['tv', 'celular', 'mouse', 'teclado', 'tablet']\n"
     ]
    }
   ],
   "source": [
    "produtos = ['tv', 'celular', 'mouse', 'teclado', 'tablet']\n",
    "print(produtos)\n",
    "\n",
    "# As listas podem ser preenchidas com string, int, variáveis, entre outros."
   ]
  },
  {
   "cell_type": "markdown",
   "id": "c22bb1da",
   "metadata": {},
   "source": [
    "### Lista de unidades vendidas de cada produto da loja"
   ]
  },
  {
   "cell_type": "code",
   "execution_count": 2,
   "id": "b1a8105e",
   "metadata": {},
   "outputs": [],
   "source": [
    "vendas = [1000, 1500, 350, 270, 900]"
   ]
  },
  {
   "cell_type": "code",
   "execution_count": 6,
   "id": "a9bcde98",
   "metadata": {},
   "outputs": [
    {
     "name": "stdout",
     "output_type": "stream",
     "text": [
      "tv\n"
     ]
    }
   ],
   "source": [
    "print (produtos[0])"
   ]
  },
  {
   "cell_type": "markdown",
   "id": "7b62ba14",
   "metadata": {},
   "source": [
    "### Nesse caso, as listas funcionam da seguinte forma:"
   ]
  },
  {
   "cell_type": "code",
   "execution_count": null,
   "id": "5e659812",
   "metadata": {},
   "outputs": [],
   "source": [
    "produtos = ['tv', 'celular', 'mouse', 'teclado', 'tablet']\n",
    "              0 ,      1   ,    2   ,     3    ,     4   \n",
    "vendas = [  1000,    1500  ,   350  ,    270   ,    900  ]"
   ]
  },
  {
   "cell_type": "code",
   "execution_count": 7,
   "id": "3cfd408d",
   "metadata": {},
   "outputs": [
    {
     "name": "stdout",
     "output_type": "stream",
     "text": [
      "Vendas do produto celular foram de 1500 unidades\n"
     ]
    }
   ],
   "source": [
    "print('Vendas do produto {} foram de {} unidades'.format(produtos[1], vendas[1]))"
   ]
  },
  {
   "cell_type": "code",
   "execution_count": 9,
   "id": "d3854dd0",
   "metadata": {},
   "outputs": [
    {
     "name": "stdout",
     "output_type": "stream",
     "text": [
      "Vendas do produto teclado foram de 300 unidades\n"
     ]
    }
   ],
   "source": [
    "# Os itens das listas são MUTÁVEIS, ou seja, podemos mudar o valor\n",
    "vendas[3] = 300\n",
    "print('Vendas do produto {} foram de {} unidades'.format(produtos[3], vendas[3]))"
   ]
  },
  {
   "cell_type": "code",
   "execution_count": 12,
   "id": "dce931d3",
   "metadata": {},
   "outputs": [
    {
     "name": "stdout",
     "output_type": "stream",
     "text": [
      "u\n"
     ]
    }
   ],
   "source": [
    "# As strings são listas:\n",
    "texto = 'lucas@gmail.com'\n",
    "print(texto[1])"
   ]
  },
  {
   "cell_type": "code",
   "execution_count": 13,
   "id": "30c8f517",
   "metadata": {},
   "outputs": [
    {
     "ename": "TypeError",
     "evalue": "'str' object does not support item assignment",
     "output_type": "error",
     "traceback": [
      "\u001b[1;31m---------------------------------------------------------------------------\u001b[0m",
      "\u001b[1;31mTypeError\u001b[0m                                 Traceback (most recent call last)",
      "\u001b[1;32m<ipython-input-13-672971047ae7>\u001b[0m in \u001b[0;36m<module>\u001b[1;34m\u001b[0m\n\u001b[0;32m      1\u001b[0m \u001b[1;31m# Porém, as strings são IMUTÁVEIS\u001b[0m\u001b[1;33m\u001b[0m\u001b[1;33m\u001b[0m\u001b[1;33m\u001b[0m\u001b[0m\n\u001b[0;32m      2\u001b[0m \u001b[0mtexto\u001b[0m \u001b[1;33m=\u001b[0m \u001b[1;34m'lucas@gmail.com'\u001b[0m\u001b[1;33m\u001b[0m\u001b[1;33m\u001b[0m\u001b[0m\n\u001b[1;32m----> 3\u001b[1;33m \u001b[0mtexto\u001b[0m\u001b[1;33m[\u001b[0m\u001b[1;36m1\u001b[0m\u001b[1;33m]\u001b[0m \u001b[1;33m=\u001b[0m \u001b[1;34m't'\u001b[0m\u001b[1;33m\u001b[0m\u001b[1;33m\u001b[0m\u001b[0m\n\u001b[0m",
      "\u001b[1;31mTypeError\u001b[0m: 'str' object does not support item assignment"
     ]
    }
   ],
   "source": [
    "# Porém, as strings são IMUTÁVEIS\n",
    "texto = 'lucas@gmail.com'\n",
    "texto[1] = 't'"
   ]
  },
  {
   "cell_type": "markdown",
   "id": "29c1efcc",
   "metadata": {},
   "source": [
    "# Como descobrir o índice de um item de uma lista\n",
    "i = lista.index('item') <br>\n",
    "### Exemplo\n",
    "Digamos que você puxou do Banco de Dados de sua empresa uma lista com todos os produtos que a empresa vende e a quantidade em estoque de todos eles"
   ]
  },
  {
   "cell_type": "code",
   "execution_count": 3,
   "id": "f6a90067",
   "metadata": {},
   "outputs": [],
   "source": [
    "produtos = ['tv', 'celular', 'mouse', 'teclado', 'geladeira', 'firno']\n",
    "estoque = [100, 150, 100, 120, 70, 90, 80]"
   ]
  },
  {
   "cell_type": "markdown",
   "id": "0057d0e6",
   "metadata": {},
   "source": [
    "Nesse caso, a lista é \"pequena\" para fins didáticos, porém essa lista poderia ter dezenas de milhares de produtos diferentes. <br>\n",
    "E agora, como eu faço para descobrir a quantiadde em estoque do produto geladeira?"
   ]
  },
  {
   "cell_type": "code",
   "execution_count": 4,
   "id": "9a263069",
   "metadata": {},
   "outputs": [
    {
     "name": "stdout",
     "output_type": "stream",
     "text": [
      "Temos 70 geladeiras no estoque\n"
     ]
    }
   ],
   "source": [
    "i = produtos.index('geladeira')\n",
    "print('Temos {} geladeiras no estoque'.format(estoque[i]))"
   ]
  },
  {
   "cell_type": "markdown",
   "id": "0a8f9453",
   "metadata": {},
   "source": [
    "## Crie um programa de consulta de Estoque"
   ]
  },
  {
   "cell_type": "code",
   "execution_count": 12,
   "id": "03d6a590",
   "metadata": {},
   "outputs": [
    {
     "name": "stdout",
     "output_type": "stream",
     "text": [
      "qual item você gostaria de pesquisar no estoque?n\n",
      "n não existe no estoque. Digite corretamente\n"
     ]
    }
   ],
   "source": [
    "#Se quisermos pesquisar qual produtos queremos encontrar no estoque. Caso o item não exista, o usuário deve ser avisado\n",
    "\n",
    "pesquisa = input('qual item você gostaria de pesquisar no estoque?')\n",
    "\n",
    "if pesquisa and (pesquisa in produtos): # Se pesquisa foi preenchido e se a pesquisa existe na lista de produtos\n",
    "    i = produtos.index(pesquisa)\n",
    "    print('Temos {} {}s no estoque'.format(estoque[i], produtos[i]))\n",
    "else:\n",
    "    print('{} não existe no estoque. Digite corretamente'.format(pesquisa))"
   ]
  },
  {
   "cell_type": "markdown",
   "id": "3db5ac50",
   "metadata": {},
   "source": [
    "# Adicionar ou remover produtos de uma lista\n",
    "**Adicionar:** <br>\n",
    "- lista.append(item) <br> <br>\n",
    "\n",
    "\n",
    "**Remover:** <br>\n",
    "- item_removido = lista.pop(indice) <br>\n",
    "- lista.remove(item) <br> <br>\n",
    "\n",
    "\n",
    "Digamos que você está construindo o controle de produtos da Apple e ela lançou o IPhone 11 e irá tirar dos seus estoques o IPhone X"
   ]
  },
  {
   "cell_type": "code",
   "execution_count": 21,
   "id": "3d236369",
   "metadata": {},
   "outputs": [
    {
     "name": "stdout",
     "output_type": "stream",
     "text": [
      "['apple tv', 'mac', 'iphone x', 'ipad', 'apple watch', 'macbook', 'airpods', 'iphone 11']\n",
      "['apple tv', 'mac', 'ipad', 'apple watch', 'macbook', 'airpods', 'iphone 11']\n",
      "['apple tv', 'ipad', 'apple watch', 'macbook', 'airpods', 'iphone 11']\n"
     ]
    }
   ],
   "source": [
    "produtos = ['apple tv', 'mac', 'iphone x', 'ipad', 'apple watch', 'macbook', 'airpods']\n",
    "\n",
    "#Adicionar o iphone 11\n",
    "produtos.append('iphone 11')\n",
    "print(produtos)\n",
    "\n",
    "#Remover o iphone x\n",
    "produtos.remove('iphone x')\n",
    "print(produtos)\n",
    "\n",
    "#Remover o mac por outro método\n",
    "item_removido = produtos.pop(1)\n",
    "print(produtos)"
   ]
  },
  {
   "cell_type": "code",
   "execution_count": 22,
   "id": "39980750",
   "metadata": {},
   "outputs": [
    {
     "ename": "ValueError",
     "evalue": "list.remove(x): x not in list",
     "output_type": "error",
     "traceback": [
      "\u001b[1;31m---------------------------------------------------------------------------\u001b[0m",
      "\u001b[1;31mValueError\u001b[0m                                Traceback (most recent call last)",
      "\u001b[1;32m<ipython-input-22-de6b5ccc7b6e>\u001b[0m in \u001b[0;36m<module>\u001b[1;34m\u001b[0m\n\u001b[0;32m      1\u001b[0m \u001b[1;31m# Exemplo de erro possível\u001b[0m\u001b[1;33m\u001b[0m\u001b[1;33m\u001b[0m\u001b[1;33m\u001b[0m\u001b[0m\n\u001b[0;32m      2\u001b[0m \u001b[1;31m#Remover o iphone x\u001b[0m\u001b[1;33m\u001b[0m\u001b[1;33m\u001b[0m\u001b[1;33m\u001b[0m\u001b[0m\n\u001b[1;32m----> 3\u001b[1;33m \u001b[0mprodutos\u001b[0m\u001b[1;33m.\u001b[0m\u001b[0mremove\u001b[0m\u001b[1;33m(\u001b[0m\u001b[1;34m'iphonex'\u001b[0m\u001b[1;33m)\u001b[0m\u001b[1;33m\u001b[0m\u001b[1;33m\u001b[0m\u001b[0m\n\u001b[0m\u001b[0;32m      4\u001b[0m \u001b[0mprint\u001b[0m\u001b[1;33m(\u001b[0m\u001b[0mprodutos\u001b[0m\u001b[1;33m)\u001b[0m\u001b[1;33m\u001b[0m\u001b[1;33m\u001b[0m\u001b[0m\n",
      "\u001b[1;31mValueError\u001b[0m: list.remove(x): x not in list"
     ]
    }
   ],
   "source": [
    "# Exemplo de erro possível\n",
    "#Remover o iphone x\n",
    "produtos.remove('iphonex')\n",
    "print(produtos)"
   ]
  },
  {
   "cell_type": "markdown",
   "id": "4814952f",
   "metadata": {},
   "source": [
    "Como tratar o erro:"
   ]
  },
  {
   "cell_type": "code",
   "execution_count": 24,
   "id": "8a54316f",
   "metadata": {},
   "outputs": [
    {
     "name": "stdout",
     "output_type": "stream",
     "text": [
      "o produto iphonex não está na lista\n"
     ]
    }
   ],
   "source": [
    "#Criar um if para evitar que aconteça\n",
    "produto_remover = 'iphonex'\n",
    "if produto_remover in produtos:\n",
    "    produtos.remove('iphonex')\n",
    "    print(produtos)\n",
    "else:\n",
    "    print('o produto {} não está na lista'.format(produto_remover))\n",
    "        "
   ]
  },
  {
   "cell_type": "markdown",
   "id": "4a67f3b7",
   "metadata": {},
   "source": [
    "### Try e Except"
   ]
  },
  {
   "cell_type": "code",
   "execution_count": 25,
   "id": "0a538ee2",
   "metadata": {},
   "outputs": [
    {
     "name": "stdout",
     "output_type": "stream",
     "text": [
      "o produto iphonex não está na lista\n"
     ]
    }
   ],
   "source": [
    "# Esperar que ele possa acontecer e tratar caso o erro aconteça\n",
    "try:\n",
    "    produtos.remove('iphonex')\n",
    "except:\n",
    "    print('o produto {} não está na lista'.format(produto_remover))\n",
    "#podemos usar o \"pass\" para simplesmente não acontecer nada"
   ]
  },
  {
   "cell_type": "markdown",
   "id": "d23ed41e",
   "metadata": {},
   "source": [
    "# Algumas funções básicas de Lista\n",
    "## Tamanho da lista\n",
    "tamanho = len(lista)"
   ]
  },
  {
   "cell_type": "code",
   "execution_count": 27,
   "id": "69ef5db4",
   "metadata": {},
   "outputs": [
    {
     "name": "stdout",
     "output_type": "stream",
     "text": [
      "6\n",
      "temos 6 produtos à venda\n"
     ]
    }
   ],
   "source": [
    "tamanho = len(produtos)\n",
    "print(tamanho)\n",
    "\n",
    "# Podemos saber quantos produtos temos à venda:\n",
    "print('temos {} produtos à venda'.format(tamanho))"
   ]
  },
  {
   "cell_type": "markdown",
   "id": "335fe698",
   "metadata": {},
   "source": [
    "## Maior e menor\n",
    "maior = max(lista) <br>\n",
    "menor = min(lista) "
   ]
  },
  {
   "cell_type": "code",
   "execution_count": 28,
   "id": "cd4cc8cb",
   "metadata": {},
   "outputs": [],
   "source": [
    "vendas = [1000, 1500, 15000, 270, 900, 100, 1200]"
   ]
  },
  {
   "cell_type": "markdown",
   "id": "812dbd7e",
   "metadata": {},
   "source": [
    "- Qual o item mais vendido?\n",
    "- Qual o item menos vendido?"
   ]
  },
  {
   "cell_type": "code",
   "execution_count": 31,
   "id": "94e2e3e4",
   "metadata": {},
   "outputs": [
    {
     "name": "stdout",
     "output_type": "stream",
     "text": [
      "O produto mais vendido teve 15000 unidades vendidas e o menos vendido teve 100 unidades vendidas\n"
     ]
    }
   ],
   "source": [
    "mais_vendido = max(vendas)\n",
    "menos_vendido = min(vendas)\n",
    "\n",
    "print('O produto mais vendido teve {} unidades vendidas e o menos vendido teve {} unidades vendidas'.format(mais_vendido,menos_vendido))"
   ]
  },
  {
   "cell_type": "code",
   "execution_count": 34,
   "id": "b38ff06a",
   "metadata": {},
   "outputs": [
    {
     "name": "stdout",
     "output_type": "stream",
     "text": [
      "O produto mais vendido (apple watch) teve 15000 unidades vendidas e o produto menos vendido (iphone 11) teve 100 unidades vendidas\n"
     ]
    }
   ],
   "source": [
    "i_mais_vendido = vendas.index(mais_vendido)\n",
    "produto_mais_vendido = produtos[i_mais_vendido]\n",
    "\n",
    "i_menos_vendido = vendas.index(menos_vendido)\n",
    "produto_menos_vendido = produtos[i_menos_vendido]\n",
    "\n",
    "print('O produto mais vendido ({}) teve {} unidades vendidas e o produto menos vendido ({}) teve {} unidades vendidas'\n",
    "     .format(produto_mais_vendido, mais_vendido, produto_menos_vendido, menos_vendido))"
   ]
  },
  {
   "cell_type": "markdown",
   "id": "30f38a08",
   "metadata": {},
   "source": [
    "# Juntar Listas, Ordenar e Cuidados especiais\n",
    "### 2 Formas de jutar:\n",
    "- lista1.extend(lista2)\n",
    "- lista_nova = lista1 + lista2\n",
    "\n",
    "Obs: o método . append não junta listas, mas adiciona um valor no final da lista\n"
   ]
  },
  {
   "cell_type": "code",
   "execution_count": 15,
   "id": "d657d1a7",
   "metadata": {},
   "outputs": [
    {
     "name": "stdout",
     "output_type": "stream",
     "text": [
      "['apple tv', 'mac', 'iphone x', 'ipad', 'apple watch', 'macbook', 'airpods', 'iphone 12', 'ioculos']\n",
      "['apple tv', 'mac', 'iphone x', 'ipad', 'apple watch', 'macbook', 'airpods', 'iphone 12', 'ioculos', 'iphone 12', 'ioculos']\n",
      "['apple tv', 'mac', 'iphone x', 'ipad', 'apple watch', 'macbook', 'airpods', 'iphone 12', 'ioculos', ['iphone 12', 'ioculos']]\n"
     ]
    }
   ],
   "source": [
    "produtos = ['apple tv', 'mac', 'iphone x', 'ipad', 'apple watch', 'macbook', 'airpods']\n",
    "novos_produtos = ['iphone 12', 'ioculos']\n",
    "\n",
    "produtos.extend(novos_produtos)\n",
    "print(produtos)\n",
    "\n",
    " #outra forma:\n",
    "todos_produtos = produtos + novos_produtos\n",
    "print(todos_produtos)\n",
    "\n",
    "# por que não podemos usar o .append: \n",
    "produtos.append(novos_produtos)\n",
    "print(produtos)\n"
   ]
  },
  {
   "cell_type": "markdown",
   "id": "70c2447b",
   "metadata": {},
   "source": [
    "### Cuidado:\n",
    "- [1] + [2] não é a mesma coisa que 1 + 2, então cuidado sempre com o formato dos valores na hora de fazer operações"
   ]
  },
  {
   "cell_type": "code",
   "execution_count": 16,
   "id": "cee052f8",
   "metadata": {},
   "outputs": [
    {
     "name": "stdout",
     "output_type": "stream",
     "text": [
      "[1, 2]\n",
      "3\n",
      "35000\n",
      "35000\n"
     ]
    }
   ],
   "source": [
    "vendas = [1000, 2000, 15000, 20000, 123546]\n",
    "vendas_iphonex = [15000]\n",
    "vendas_iphone11 = [20000]\n",
    "\n",
    "#[1] + [2] != 1 + 2\n",
    "print([1] + [2])\n",
    "print(1 + 2)\n",
    "\n",
    "total_iphone = vendas[2] + vendas[3]\n",
    "total_iphone_listas = vendas_iphonex + vendas_iphone11\n",
    "\n",
    "# Se quisermos somar os itens das listas em questão:\n",
    "total_iphone_listas = vendas_iphonex[0] + vendas_iphone11[0]\n",
    "print(total_iphone)\n",
    "print(total_iphone_listas)\n"
   ]
  },
  {
   "cell_type": "markdown",
   "id": "e69dd25a",
   "metadata": {},
   "source": [
    "### Ordenar Listas\n",
    "lista.sort()"
   ]
  },
  {
   "cell_type": "code",
   "execution_count": 21,
   "id": "2de57b91",
   "metadata": {},
   "outputs": [
    {
     "name": "stdout",
     "output_type": "stream",
     "text": [
      "[1000, 2000, 15000, 20000, 123546]\n",
      "[123546, 20000, 15000, 2000, 1000]\n"
     ]
    }
   ],
   "source": [
    "vendas.sort()\n",
    "print(vendas)\n",
    "\n",
    "vendas.sort(reverse = True)\n",
    "print(vendas)"
   ]
  },
  {
   "cell_type": "markdown",
   "id": "27fdf3f1",
   "metadata": {},
   "source": [
    "# Print de Listas\n",
    "2 opções:\n",
    "- print \"normal\"\n",
    "- método join -> 'delimitador'.join(lista)"
   ]
  },
  {
   "cell_type": "code",
   "execution_count": 22,
   "id": "a4795764",
   "metadata": {},
   "outputs": [
    {
     "name": "stdout",
     "output_type": "stream",
     "text": [
      "['apple tv', 'mac', 'iphone x', 'ipad', 'apple watch', 'macbook', 'airpods']\n"
     ]
    }
   ],
   "source": [
    "produtos = ['apple tv', 'mac', 'iphone x', 'ipad', 'apple watch', 'macbook', 'airpods']\n",
    "print(produtos)"
   ]
  },
  {
   "cell_type": "code",
   "execution_count": 24,
   "id": "3f6dd508",
   "metadata": {},
   "outputs": [
    {
     "name": "stdout",
     "output_type": "stream",
     "text": [
      "apple tv\n",
      "mac\n",
      "iphone x\n",
      "ipad\n",
      "apple watch\n",
      "macbook\n",
      "airpods\n"
     ]
    }
   ],
   "source": [
    "print('\\n'.join(produtos))"
   ]
  },
  {
   "cell_type": "markdown",
   "id": "05b3088f",
   "metadata": {},
   "source": [
    "**Lembrando o método split de strings:** <br>\n",
    "lista = texto.split(separador)"
   ]
  },
  {
   "cell_type": "code",
   "execution_count": 25,
   "id": "0ef6e316",
   "metadata": {},
   "outputs": [
    {
     "ename": "AttributeError",
     "evalue": "'tuple' object has no attribute 'split'",
     "output_type": "error",
     "traceback": [
      "\u001b[1;31m---------------------------------------------------------------------------\u001b[0m",
      "\u001b[1;31mAttributeError\u001b[0m                            Traceback (most recent call last)",
      "\u001b[1;32m<ipython-input-25-ab7ccb803881>\u001b[0m in \u001b[0;36m<module>\u001b[1;34m\u001b[0m\n\u001b[0;32m      1\u001b[0m \u001b[0mprodutos\u001b[0m \u001b[1;33m=\u001b[0m \u001b[1;34m'apple tv'\u001b[0m\u001b[1;33m,\u001b[0m \u001b[1;34m'mac'\u001b[0m\u001b[1;33m,\u001b[0m \u001b[1;34m'iphone x'\u001b[0m\u001b[1;33m,\u001b[0m \u001b[1;34m'ipad'\u001b[0m\u001b[1;33m,\u001b[0m \u001b[1;34m'apple watch'\u001b[0m\u001b[1;33m,\u001b[0m \u001b[1;34m'macbook'\u001b[0m\u001b[1;33m,\u001b[0m \u001b[1;34m'airpods'\u001b[0m\u001b[1;33m\u001b[0m\u001b[1;33m\u001b[0m\u001b[0m\n\u001b[1;32m----> 2\u001b[1;33m \u001b[0mlista\u001b[0m \u001b[1;33m=\u001b[0m \u001b[0mprodutos\u001b[0m\u001b[1;33m.\u001b[0m\u001b[0msplit\u001b[0m\u001b[1;33m(\u001b[0m\u001b[1;34m', '\u001b[0m\u001b[1;33m)\u001b[0m\u001b[1;33m\u001b[0m\u001b[1;33m\u001b[0m\u001b[0m\n\u001b[0m\u001b[0;32m      3\u001b[0m \u001b[0mprint\u001b[0m\u001b[1;33m(\u001b[0m\u001b[0mlista\u001b[0m\u001b[1;33m)\u001b[0m\u001b[1;33m\u001b[0m\u001b[1;33m\u001b[0m\u001b[0m\n",
      "\u001b[1;31mAttributeError\u001b[0m: 'tuple' object has no attribute 'split'"
     ]
    }
   ],
   "source": [
    "produtos = 'apple tv, mac', 'iphone x', 'ipad', 'apple watch', 'macbook', 'airpods'\n",
    "lista = produtos.split(', ')\n",
    "print(lista)"
   ]
  },
  {
   "cell_type": "markdown",
   "id": "f4bae059",
   "metadata": {},
   "source": [
    "# Métodos Específicos de Lista em Python"
   ]
  },
  {
   "cell_type": "markdown",
   "id": "321b2d28",
   "metadata": {},
   "source": [
    "- list.append(valor)<br>\n",
    "Adiciona um valor ao final de uma lista\n",
    "\n",
    "Uso:\n",
    "    vendas = [150, 320]\n",
    "    vendas.append(110)\n",
    "Resultado:\n",
    "    vendas = [150, 320, 110]\n",
    "\n",
    "- list.extend(lista2)<br>\n",
    "Adiciona todos os valores da lista2 na lista original\n",
    "\n",
    "Uso:\n",
    "    vendas = [150, 320, 110, 450, 390, 370]\n",
    "    vendas_2semestre = [440, 470, 900, 1000, 1100, 1050]\n",
    "    vendas.extend(vendas_2semestre)\n",
    "Resultado:\n",
    "    vendas = [150, 320, 110, 450, 390, 370, 440, 470, 900, 1000, 1100, 1050]\n",
    "\n",
    "- list.insert(posicao, valor)<br>\n",
    "Adiciona um valor em uma posição específica em uma lista. Não é recomendado usar a não ser que seja realmente necessário inserir em uma posição específica, porque o método append é mais eficiente.\n",
    "\n",
    "Uso:\n",
    "    vendas = [150, 320]\n",
    "    vendas.insert(1, 110)\n",
    "Resultado:\n",
    "    vendas = [150, 110, 320]\n",
    "Obs:\n",
    "    Compare com o caso do list.append para ver a diferença\n",
    "\n",
    "- list.remove(valor)<br>\n",
    "Remove o valor da lista (apenas a 1ª ocorrência, então caso haja 2 vezes o valor na lista, apenas a 1ª será removida). Além disso, dá um erro caso valor não exista dentro da lista.\n",
    "\n",
    "Uso:\n",
    "    vendedores = ['João', 'Julia', 'Maria', 'Ana', 'Paulo', 'Marcus']\n",
    "    vendedores.remove('Maria')\n",
    "Resultado:\n",
    "    vendedores = ['João', 'Julia', 'Ana', 'Paulo', 'Marcus']\n",
    "\n",
    "- list.pop(posicao)<br>\n",
    "Remove o item que está na posicao (índice) passado. Além disso, esse item é dado como resultado do pop, portanto pode ser armazenado em uma variável ou usado para outra coisa na mesma linha de código.\n",
    "\n",
    "Uso:<br>\n",
    "    vendedores = ['João', 'Julia', 'Maria', 'Ana', 'Paulo', 'Marcus']<br>\n",
    "    vendedores.pop(2)<br>\n",
    "Resultado:<br>\n",
    "    vendedores = ['João', 'Julia', 'Ana', 'Paulo', 'Marcus']\n",
    "\n",
    "- list.clear()<br>\n",
    "Remove todos os itens de uma lista\n",
    "\n",
    "Uso:\n",
    "    vendedores = ['João', 'Julia', 'Maria', 'Ana', 'Paulo', 'Marcus']\n",
    "    vendedores.clear()\n",
    "Resultado:\n",
    "    vendedores = []\n",
    "\n",
    "- list.index(valor)<br>\n",
    "Retorna a posição do valor dentro da lista (em qual índice está o valor). Dá erro caso não haja o valor dentro da lista.\n",
    "\n",
    "Uso:\n",
    "    vendedores = ['João', 'Julia', 'Maria', 'Ana', 'Paulo', 'Marcus']\n",
    "    posicao_Joao = vendedores.index('João')\n",
    "Resultado:\n",
    "    posicao_Joao = 0\n",
    "\n",
    "- list.count(valor)<br>\n",
    "Retorna a quantidade de vezes que o valor aparece na lista\n",
    "\n",
    "Uso:\n",
    "    vendedores = ['João', 'Julia', 'Maria', 'Ana', 'Paulo', 'Marcus', 'João']\n",
    "    qtde_Joao = vendedores.count('João')\n",
    "Resultado:\n",
    "    qtde_Joao = 2\n",
    "\n",
    "- list.sort(reverse=False)<br>\n",
    "Ordena os valores da lista em ordem crescente, ou alfabética, (reverse=False) ou decrescente (reverse=True).\n",
    "\n",
    "Uso:\n",
    "    vendas = [150, 300, 190, 480]\n",
    "    vendas.sort(reverse=True)\n",
    "Resultado:\n",
    "    vendas = [480, 300, 190, 150]\n",
    "\n",
    "- list.reverse()<br>\n",
    "Inverte a ordem dos elementos de uma lista.\n",
    "\n",
    "Uso:\n",
    "    vendas = [150, 300, 190, 480]\n",
    "    vendas.reverse()\n",
    "Resultado:\n",
    "    vendas = [480, 190, 300, 150]\n",
    "\n",
    "- list.copy()<br>\n",
    "Cria uma cópia da lista original. Outra opção é fazer lista2 = lista1[:]\n",
    "\n",
    "Uso:\n",
    "    vendas = [150, 300, 190, 480]\n",
    "    vendas2 = vendas.copy()\n",
    "Resultado:\n",
    "    vendas2 = [150, 300, 190, 480]"
   ]
  },
  {
   "cell_type": "markdown",
   "id": "1da37665",
   "metadata": {},
   "source": [
    "# Exercícios\n",
    "### 1. Faturamento do melhor e do pior mês do ano\n",
    "Qual foi o valor de vendas do melhor mês do ano? e do pior?"
   ]
  },
  {
   "cell_type": "code",
   "execution_count": 48,
   "id": "a8bebe43",
   "metadata": {},
   "outputs": [
    {
     "name": "stdout",
     "output_type": "stream",
     "text": [
      "[25000, 29000, 22200, 17750, 15870, 19900, 19850, 20120, 17540, 15555, 49051, 9650]\n",
      "O melhor valor foi de 49051 e o pior foi de 9650 vendas\n"
     ]
    }
   ],
   "source": [
    "meses = ['jan', 'fev', 'mar', 'abril', 'mai', 'jun', 'jul', 'ago', 'set', 'out', 'nov', 'dez']\n",
    "vendas_1sem = [25000, 29000, 22200, 17750, 15870, 19900]\n",
    "vendas_2sem = [19850, 20120, 17540, 15555, 49051, 9650]\n",
    "\n",
    "#juntando as duas listas em uma só\n",
    "vendas_ano =  vendas_1sem + vendas_2sem \n",
    "print(vendas_ano)\n",
    "\n",
    "# Descobrindo o melhor e o pior mês do ano em vendas (valor)\n",
    "melhor_valor = max(vendas_ano)\n",
    "pior_valor = min(vendas_ano)\n",
    "\n",
    "# Printando os valores\n",
    "print('O melhor valor foi de {} e o pior foi de {} vendas'.format(melhor_valor, pior_valor))\n"
   ]
  },
  {
   "cell_type": "markdown",
   "id": "7b3a09bd",
   "metadata": {},
   "source": [
    "### 2. Continuação\n",
    "Agora relacione as duas listas para printar 'O melhor mês do ano foi {} com {} vendas' e o mesmo para o pior mês do ano. <br>\n",
    "Calcule também o faturamento total do ano e quanto que o melhor mês representou no faturamento total; <br>\n",
    "Obs: para o faturamento total, pode usar a função sum(lista) que soma todos os itens de uma lista."
   ]
  },
  {
   "cell_type": "code",
   "execution_count": 52,
   "id": "63d7b1b9",
   "metadata": {},
   "outputs": [
    {
     "name": "stdout",
     "output_type": "stream",
     "text": [
      "O melhor mês do ano foi nov com 49051 vendas; Já o pior mês do ano foi dez com 9650 vendas. O faturamento anual total foi de 261486\n",
      "o melhor mês representou 18.76% das vendas do ano todo\n"
     ]
    }
   ],
   "source": [
    "# Descobrindo a posição do máx e min de vendas\n",
    "i = vendas_ano.index(melhor_valor)\n",
    "j = vendas_ano.index(pior_valor)\n",
    "\n",
    "# Sabendo da posição, e sabendo que as listas \"meses\" e \"vendas_ano\" estão diretamente relacionadas, podemos descobrir:\n",
    "melhor_mes = meses[i]\n",
    "pior_mes =  meses[j]\n",
    "\n",
    "# cálculo do faturamento total\n",
    "faturamento_total = sum(vendas_ano)\n",
    "\n",
    "# quanto que o melhor mês representou no faturamento total\n",
    "relacao_fat = melhor_valor / faturamento_total\n",
    "\n",
    "# Printando os valores:\n",
    "print('O melhor mês do ano foi {} com {} vendas; Já o pior mês do ano foi {} com {} vendas. O faturamento anual total foi de {}'.format(melhor_mes, melhor_valor, pior_mes, pior_valor, faturamento_total))\n",
    "print('o melhor mês representou {:.2%} das vendas do ano todo'.format(relacao_fat))"
   ]
  },
  {
   "cell_type": "markdown",
   "id": "60bf7b97",
   "metadata": {},
   "source": [
    "### 3. Crie uma lista com o top 3 valores de vendas do ano (sem fazer \"no olho\")\n",
    "dica: o método pop retira um item da lista e retorna, em uma variável, o valor desse item."
   ]
  },
  {
   "cell_type": "code",
   "execution_count": 46,
   "id": "93d227b1",
   "metadata": {},
   "outputs": [
    {
     "name": "stdout",
     "output_type": "stream",
     "text": [
      "[49051, 29000, 25000]\n"
     ]
    }
   ],
   "source": [
    "# Adicionar o maior à nova lista\n",
    "maior = max(vendas_ano)\n",
    "imaior = vendas_ano.index(maior)\n",
    "\n",
    "# Excluir o maior da lista de valores e adiciona-lo a lista nova\n",
    "lista_top3 = vendas_ano.pop(imaior)\n",
    "\n",
    "# Adicionar o segundo maior à nova lista\n",
    "maior = max(vendas_ano)\n",
    "imaior = vendas_ano.index(maior)\n",
    "\n",
    "# Excluir o segundo maior e adiciona-lo a lista nova\n",
    "a = vendas_ano.pop(imaior) #exclui e armazena o excluido na variavel\n",
    "\n",
    "# Adicionar o terceiro maior à nova lista\n",
    "maior = max(vendas_ano)\n",
    "imaior = vendas_ano.index(maior)\n",
    "\n",
    "# Excluir o terceiro maior e adiciona-lo a lista nova\n",
    "b = vendas_ano.pop(imaior) #exclui e armazena o excluido na variavel\n",
    "\n",
    "# Printando a lista top 3\n",
    "lista_top3 = [lista_top3] + [a] + [b]\n",
    "print(lista_top3)\n"
   ]
  },
  {
   "cell_type": "markdown",
   "id": "4de1cf68",
   "metadata": {},
   "source": [
    "# Alterações \"Incrementais\" de Variáveis\n",
    "Estrutura:\n",
    "- variavel = variavel + outro_valor\n",
    "ou então:\n",
    "- variavel += outro_valor\n",
    "\n",
    "Exemplo: vamos adicionar às variáveis criadas, o produto Ipad (500 vendas nesse mês)\n"
   ]
  },
  {
   "cell_type": "code",
   "execution_count": 63,
   "id": "690b0044",
   "metadata": {},
   "outputs": [
    {
     "name": "stdout",
     "output_type": "stream",
     "text": [
      "['mac', 'iphone', 'ipad']\n"
     ]
    }
   ],
   "source": [
    "lista = ['mac', 'iphone']\n",
    "vendas = [100, 200]\n",
    "\n",
    "#adicionando IPad na lista\n",
    "lista += ['ipad']\n",
    "print(lista)\n"
   ]
  },
  {
   "cell_type": "code",
   "execution_count": 64,
   "id": "e7d420e4",
   "metadata": {},
   "outputs": [
    {
     "name": "stdout",
     "output_type": "stream",
     "text": [
      "800\n"
     ]
    }
   ],
   "source": [
    "soma_vendas = 300 #antigo\n",
    "#adicionando, na soma, a quantidade de ipads\n",
    "soma_vendas += 500\n",
    "print(soma_vendas)"
   ]
  },
  {
   "cell_type": "code",
   "execution_count": 65,
   "id": "dbaab224",
   "metadata": {},
   "outputs": [
    {
     "name": "stdout",
     "output_type": "stream",
     "text": [
      "Nesse mês, vendemos um total de 800 produtos, sendo:\n",
      "100 unidades de mac\n",
      "200 unidades de iphone\n",
      "500 unidades de Ipad\n"
     ]
    }
   ],
   "source": [
    "email = 'Nesse mês, vendemos um total de {} produtos, sendo:\\n{} unidades de {}\\n{} unidades de {}'.format(soma_vendas, vendas[0], lista[0], vendas[1], lista[1])\n",
    "\n",
    "#Adicionando no fim do texto o Ipad\n",
    "email += '\\n{} unidades de Ipad'.format(500)\n",
    "\n",
    "print(email)"
   ]
  },
  {
   "cell_type": "markdown",
   "id": "2d4a2784",
   "metadata": {},
   "source": [
    "# Copiar e \"Igualdade\" de Listas\n",
    "### Estrutura:\n",
    "Quando fazemos:\n",
    "- lista2 = lista1 -> não estamos criando uma lista nova, mas estamos atribuindo outra variável à mesma lista.\n",
    "\n",
    "Se quisermos copiar uma lista, devemos fazer:\n",
    "\n",
    "- lista2 = lista1.copy(). ou:\n",
    "- lista2 = lista1[:]\n",
    "<br>\n",
    "\n",
    "Para entender bem isso, vamos ver na prática:"
   ]
  },
  {
   "cell_type": "code",
   "execution_count": 69,
   "id": "97672684",
   "metadata": {},
   "outputs": [
    {
     "name": "stdout",
     "output_type": "stream",
     "text": [
      "['ipad', 'iphone x', 'apple tv']\n",
      "['ipad', 'iphone x', 'apple tv']\n"
     ]
    }
   ],
   "source": [
    "lista = ['ipad', 'iphone x', 'apple tv']\n",
    "lista2 = lista\n",
    "\n",
    "lista[1] = 'iphone x' #modificando o item da lista original\n",
    "print(lista)\n",
    "print(lista2)\n",
    "\n",
    "# ambas as listas foram alteradas. Portanto, se modificarmos a lista 1, modificaremos a lista 2 (o contrário tbm é válido)"
   ]
  },
  {
   "cell_type": "markdown",
   "id": "c5f791b2",
   "metadata": {},
   "source": [
    "### Agora copiando:"
   ]
  },
  {
   "cell_type": "code",
   "execution_count": 73,
   "id": "c612e5af",
   "metadata": {},
   "outputs": [
    {
     "name": "stdout",
     "output_type": "stream",
     "text": [
      "['ipad', 'iphone 11', 'apple tv']\n",
      "['ipad', 'iphone x', 'apple tv']\n"
     ]
    }
   ],
   "source": [
    "# podemos copiar as listas e tornar a nova lista independente da primeira:\n",
    "lista = ['ipad', 'iphone x', 'apple tv']\n",
    "lista2 = lista.copy()\n",
    "\n",
    "lista[1] = 'iphone 11'\n",
    "\n",
    "print(lista)\n",
    "print(lista2)\n",
    "\n",
    "# Agora, as listas são independentes. Assim, podemos modifica-las independentemente."
   ]
  },
  {
   "cell_type": "markdown",
   "id": "39143eaf",
   "metadata": {},
   "source": [
    "# Listas de Listas\n",
    "### Estrutura:\n",
    "Cada item de uma lista pode ser qualquer tipo de variável, inclusive uma lista.\n",
    "\n",
    "Quando dentro de uma lista temos cada item como sendo uma outra lista, temos uma **nested list**, ou seja, uma lista de listas.\n",
    "\n",
    "Tpdas as regras de lista e tudo o que vimos até agora funciona exatamante igual, mas vamos ver como isso funciona na prática:"
   ]
  },
  {
   "cell_type": "code",
   "execution_count": 74,
   "id": "af8e4e9b",
   "metadata": {},
   "outputs": [],
   "source": [
    "vendedores = ['Lira', 'João', 'Diego', 'Alon']\n",
    "produtos = ['ipad', 'iphone']\n",
    "vendas = [\n",
    "    [100, 200],\n",
    "    [300, 500],\n",
    "    [50, 1000],\n",
    "    [900,10],\n",
    "]"
   ]
  },
  {
   "cell_type": "markdown",
   "id": "2c6d24c1",
   "metadata": {},
   "source": [
    "- Quanto João vendeu de IPad?\n",
    "- Quanto Diego vendeu de IPhone?\n",
    "- Qual o total de vendas de IPhone?"
   ]
  },
  {
   "cell_type": "code",
   "execution_count": 76,
   "id": "4fb8f550",
   "metadata": {},
   "outputs": [
    {
     "name": "stdout",
     "output_type": "stream",
     "text": [
      "300\n",
      "1000\n",
      "1710\n"
     ]
    }
   ],
   "source": [
    "vendas_ipad_joao = vendas[1][0]\n",
    "print(vendas_ipad_joao)\n",
    "\n",
    "vendas_iphone_diego = vendas[2][1]\n",
    "print(vendas_iphone_diego)\n",
    "\n",
    "vendas_iphone = vendas[0][1] + vendas[1][1] + vendas[2][1] + vendas[3][1]\n",
    "print(vendas_iphone)"
   ]
  },
  {
   "cell_type": "markdown",
   "id": "8230829e",
   "metadata": {},
   "source": [
    "- E se Lira na verdade fez apenas 50 vendas de Iphone, como eu modifico na minha lista o valor de vendas dele?"
   ]
  },
  {
   "cell_type": "code",
   "execution_count": 77,
   "id": "cc6aa9cb",
   "metadata": {},
   "outputs": [
    {
     "name": "stdout",
     "output_type": "stream",
     "text": [
      "[[100, 50], [300, 500], [50, 1000], [900, 10]]\n"
     ]
    }
   ],
   "source": [
    "vendas[0][1] = 50\n",
    "print(vendas)"
   ]
  },
  {
   "cell_type": "markdown",
   "id": "689c993b",
   "metadata": {},
   "source": [
    "- E se agora eu tenho um novo produto (mac), como eu adiciono a venda em cada um dos vendedores?"
   ]
  },
  {
   "cell_type": "code",
   "execution_count": 78,
   "id": "fef15721",
   "metadata": {},
   "outputs": [
    {
     "name": "stdout",
     "output_type": "stream",
     "text": [
      "[[100, 50, 10], [300, 500, 15], [50, 1000, 6], [900, 10, 70]]\n"
     ]
    }
   ],
   "source": [
    "vendas_mac = [10, 15, 6, 70]\n",
    "\n",
    "vendas[0].append(vendas_mac[0])\n",
    "vendas[1].append(vendas_mac[1])\n",
    "vendas[2].append(vendas_mac[2])\n",
    "vendas[3].append(vendas_mac[3])\n",
    "\n",
    "print(vendas)"
   ]
  },
  {
   "cell_type": "markdown",
   "id": "b2284885",
   "metadata": {},
   "source": [
    "# Exercícios\n",
    "\n",
    "## 1. Mudança de Carga Tributária\n",
    "\n",
    "- Reformas e mudanças de cargas tributárias são bem comuns no Brasil.\n",
    "\n",
    "Digamos que você trabalhe em uma empresa de ecommerce\n",
    "\n",
    "No Brasil, o imposto sobre livros é zerado. De um ano para o outro, o governo criou um novo imposto que incide em 10% sobre o valor dos livros e agora você precisa alterar o registro dos preços dos livros da empresa para garantir que esse imposto vai ser repassado para o preço final do produto.\n",
    "\n",
    "Crie um código que recalcule o valor do livro da sua lista de produtos e ajuste na tabela.\n",
    "\n",
    "Além disso, calcule qual vai ser o impacto financeiro da criação desse imposto para a empresa (ou seja, quanto que o imposto vai aumentar de custo para a empresa)\n",
    "\n",
    "Obs: para facilitar, colocamos apenas 1 livro na lista, mas em breve vamos aprender um for que vai adaptar esse cenário para qualquer quantidade de livros na sua lista.\n",
    "\n",
    "Obs2: Seu código deve funcionar mesmo que não haja livros na lista de produtos da empresa"
   ]
  },
  {
   "cell_type": "code",
   "execution_count": 9,
   "id": "95a3e4c7",
   "metadata": {},
   "outputs": [],
   "source": [
    "produtos = ['computador', 'livro', 'tablet', 'celular', 'tv', 'ar condicionado', 'alexa', 'máquina de café', 'kindle']\n",
    "\n",
    "#cada item da lista dos produtos corresponde a quantidade de vendas no mês e preço, nessa ordem\n",
    "produtos_ecommerce = [\n",
    "    [10000, 2500],\n",
    "    [50000, 40],\n",
    "    [7000, 1200],\n",
    "    [20000, 1500],\n",
    "    [5800, 1300],\n",
    "    [7200, 2500],\n",
    "    [200, 800],\n",
    "    [3300, 700],\n",
    "    [1900, 400]\n",
    "]"
   ]
  },
  {
   "cell_type": "code",
   "execution_count": 10,
   "id": "afaed494",
   "metadata": {},
   "outputs": [
    {
     "name": "stdout",
     "output_type": "stream",
     "text": [
      "44.0\n",
      "Vamos pagar de imposto a mais: R$200,000.0\n"
     ]
    }
   ],
   "source": [
    "if 'livro' in produtos:\n",
    "    i_livro = produtos.index('livro')\n",
    "    total1 = produtos_ecommerce[i_livro][0] * produtos_ecommerce[i_livro][1]\n",
    "    produtos_ecommerce[i_livro][1] = produtos_ecommerce[i_livro][1] * 1.1\n",
    "    total = produtos_ecommerce[i_livro][0] * produtos_ecommerce[i_livro][1]\n",
    "    print(produtos_ecommerce[i_livro][1])\n",
    "    print('Vamos pagar de imposto a mais: R${:,}'.format(total - total1))\n",
    "    "
   ]
  },
  {
   "cell_type": "code",
   "execution_count": null,
   "id": "fd610862",
   "metadata": {},
   "outputs": [],
   "source": []
  }
 ],
 "metadata": {
  "kernelspec": {
   "display_name": "Python 3",
   "language": "python",
   "name": "python3"
  },
  "language_info": {
   "codemirror_mode": {
    "name": "ipython",
    "version": 3
   },
   "file_extension": ".py",
   "mimetype": "text/x-python",
   "name": "python",
   "nbconvert_exporter": "python",
   "pygments_lexer": "ipython3",
   "version": "3.8.8"
  }
 },
 "nbformat": 4,
 "nbformat_minor": 5
}
