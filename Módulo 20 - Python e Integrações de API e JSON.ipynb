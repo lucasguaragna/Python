{
 "cells": [
  {
   "cell_type": "markdown",
   "metadata": {},
   "source": [
    "# Python e API (Application Programming Interface)\n",
    "\n",
    "### O que é uma API?\n",
    "\n",
    "- É um conjunto de códigos para usar um serviço/site/aplicativo específico. Cada site/ferramenta tem sua própria API. É importante que você saiba ler as APIs que precisar para saber usar\n",
    "\n",
    "- Um dos padrões mais comuns em API é pegar informações em formato json, uma espécie de dicionário que precisa ser tratada no Python para podermos analisar\n",
    "\n",
    "- As possibilidades de API são infinitas, vamos fazer 2 exemplos aqui: Cotação de Moedas e Envio de SMS.\n",
    "\n",
    "- Sites como Google, Youtube, Facebook, Twitter, ArcGis e praticamente qualquer ferramenta/site grande tem uma API.\n",
    "\n",
    "### O que precisamos:\n",
    "\n",
    "- Quase sempre você precisa de uma conta para consumir uma API. Algumas APIs são abertas, como a https://docs.awesomeapi.com.br/api-de-moedas , mas em muitos casos (como veremos no caso do SMS) vamos precisar ter uma conta ativa para consumir a API\n",
    "\n",
    "- A Documentação da API (ou exemplos da internet) é a chave para conseguir usar uma API "
   ]
  },
  {
   "cell_type": "markdown",
   "metadata": {},
   "source": [
    "#### Pegar a Cotação Atual de Todas as Moedas "
   ]
  },
  {
   "cell_type": "code",
   "execution_count": 9,
   "metadata": {},
   "outputs": [
    {
     "name": "stdout",
     "output_type": "stream",
     "text": [
      "{'USD': {'code': 'USD', 'codein': 'BRL', 'name': 'Dólar Americano/Real Brasileiro', 'high': '5.5851', 'low': '5.5844', 'varBid': '0.0007', 'pctChange': '0.01', 'bid': '5.5846', 'ask': '5.5856', 'timestamp': '1634677201', 'create_date': '2021-10-19 18:00:01'}, 'USDT': {'code': 'USD', 'codein': 'BRLT', 'name': 'Dólar Americano/Real Brasileiro Turismo', 'high': '5.47', 'low': '5.45', 'varBid': '-0.015', 'pctChange': '-0.27', 'bid': '5.29', 'ask': '5.62', 'timestamp': '1622030940', 'create_date': '2021-05-26 09:09:00'}, 'CAD': {'code': 'CAD', 'codein': 'BRL', 'name': 'Dólar Canadense/Real Brasileiro', 'high': '4.518', 'low': '4.5156', 'varBid': '-0.001', 'pctChange': '-0.02', 'bid': '4.5146', 'ask': '4.5169', 'timestamp': '1634677540', 'create_date': '2021-10-19 18:05:40'}, 'GBP': {'code': 'GBP', 'codein': 'BRL', 'name': 'Libra Esterlina/Real Brasileiro', 'high': '7.7077', 'low': '7.7041', 'varBid': '0.0029', 'pctChange': '0.04', 'bid': '7.7028', 'ask': '7.707', 'timestamp': '1634677540', 'create_date': '2021-10-19 18:05:40'}, 'ARS': {'code': 'ARS', 'codein': 'BRL', 'name': 'Peso Argentino/Real Brasileiro', 'high': '0.0563', 'low': '0.0562', 'varBid': '0', 'pctChange': '0', 'bid': '0.0562', 'ask': '0.0562', 'timestamp': '1634677201', 'create_date': '2021-10-19 18:00:01'}, 'BTC': {'code': 'BTC', 'codein': 'BRL', 'name': 'Bitcoin/Real Brasileiro', 'high': '358', 'low': '340.005', 'varBid': '12102', 'pctChange': '3.53', 'bid': '355', 'ask': '356', 'timestamp': '1634677532', 'create_date': '2021-10-19 18:05:32'}, 'LTC': {'code': 'LTC', 'codein': 'BRL', 'name': 'Litecoin/Real Brasileiro', 'high': '1050', 'low': '1005', 'varBid': '10.76', 'pctChange': '1.05', 'bid': '1032.44', 'ask': '1037.99', 'timestamp': '1634677529', 'create_date': '2021-10-19 18:05:29'}, 'EUR': {'code': 'EUR', 'codein': 'BRL', 'name': 'Euro/Real Brasileiro', 'high': '6.4979', 'low': '6.4963', 'varBid': '0.0019', 'pctChange': '0.03', 'bid': '6.496', 'ask': '6.4994', 'timestamp': '1634677423', 'create_date': '2021-10-19 18:03:43'}, 'JPY': {'code': 'JPY', 'codein': 'BRL', 'name': 'Iene Japonês/Real Brasileiro', 'high': '0.04884', 'low': '0.04882', 'varBid': '0', 'pctChange': '0', 'bid': '0.04882', 'ask': '0.04885', 'timestamp': '1634677543', 'create_date': '2021-10-19 18:05:43'}, 'CHF': {'code': 'CHF', 'codein': 'BRL', 'name': 'Franco Suíço/Real Brasileiro', 'high': '6.0514', 'low': '6.0503', 'varBid': '0.002', 'pctChange': '0.03', 'bid': '6.0492', 'ask': '6.0529', 'timestamp': '1634677482', 'create_date': '2021-10-19 18:04:42'}, 'AUD': {'code': 'AUD', 'codein': 'BRL', 'name': 'Dólar Australiano/Real Brasileiro', 'high': '4.1743', 'low': '4.1726', 'varBid': '0.0026', 'pctChange': '0.06', 'bid': '4.1717', 'ask': '4.1764', 'timestamp': '1634677523', 'create_date': '2021-10-19 18:05:23'}, 'CNY': {'code': 'CNY', 'codein': 'BRL', 'name': 'Yuan Chinês/Real Brasileiro', 'high': '0.8788', 'low': '0.8574', 'varBid': '0.0176', 'pctChange': '2.05', 'bid': '0.875', 'ask': '0.8751', 'timestamp': '1634677263', 'create_date': '2021-10-19 18:01:03'}, 'ILS': {'code': 'ILS', 'codein': 'BRL', 'name': 'Novo Shekel Israelense/Real Brasileiro', 'high': '1.7463', 'low': '1.7126', 'varBid': '0.0246', 'pctChange': '1.43', 'bid': '1.7385', 'ask': '1.7388', 'timestamp': '1634677504', 'create_date': '2021-10-19 18:05:04'}, 'ETH': {'code': 'ETH', 'codein': 'BRL', 'name': 'Ethereum/Real Brasileiro', 'high': '1200.21', 'low': '1200.21', 'varBid': '0', 'pctChange': '0', 'bid': '1440.25', 'ask': '16999.75', 'timestamp': '1610415652', 'create_date': '2021-01-11 22:40:52'}, 'XRP': {'code': 'XRP', 'codein': 'BRL', 'name': 'XRP/Real Brasileiro', 'high': '6.08', 'low': '5.95', 'varBid': '0.01', 'pctChange': '0.15', 'bid': '6', 'ask': '6.01', 'timestamp': '1634677516', 'create_date': '2021-10-19 18:05:16'}, 'DOGE': {'code': 'DOGE', 'codein': 'BRL', 'name': 'Dogecoin/Real Brasileiro', 'high': '1.4', 'low': '1.34', 'varBid': '-0.02', 'pctChange': '-1.45', 'bid': '1.36', 'ask': '1.36', 'timestamp': '1634675157', 'create_date': '2021-10-19 17:25:57'}}\n"
     ]
    }
   ],
   "source": [
    "import requests # requisitar dados\n",
    "import json # tratar dados JSON\n",
    "from requests import get\n",
    "\n",
    "cotacoes = requests.get(\"https://economia.awesomeapi.com.br/json/all\")\n",
    "cotacoes_dic = cotacoes.json() # transformando em um dicionário python\n",
    "print(cotacoes_dic)"
   ]
  },
  {
   "cell_type": "markdown",
   "metadata": {},
   "source": [
    "#### Qual foi a última cotação do Dólar, do Euro e do BitCoin? (Sua resposta vai dar diferente do gabarito, porque estamos rodando o código em momentos diferentes, mas o seu código deve ser o mesmo/parecido)"
   ]
  },
  {
   "cell_type": "code",
   "execution_count": 13,
   "metadata": {},
   "outputs": [
    {
     "name": "stdout",
     "output_type": "stream",
     "text": [
      "Dólar: 5.5846\n",
      "Euro: 6.496\n",
      "Bitcoin: 355\n"
     ]
    }
   ],
   "source": [
    "print(\"Dólar: {}\".format(cotacoes_dic['USD']['bid']))\n",
    "print(\"Euro: {}\".format(cotacoes_dic['EUR']['bid']))\n",
    "print(\"Bitcoin: {}\".format(cotacoes_dic['BTC']['bid']))"
   ]
  },
  {
   "cell_type": "markdown",
   "metadata": {},
   "source": [
    "#### Pegar a cotação dos últimos 30 dias do dólar (Sua resposta vai dar diferente do gabarito, porque estamos rodando o código em momentos diferentes, mas o seu código deve ser o mesmo/parecido)"
   ]
  },
  {
   "cell_type": "code",
   "execution_count": 22,
   "metadata": {},
   "outputs": [
    {
     "name": "stdout",
     "output_type": "stream",
     "text": [
      "['5.2332', '5.0358', '5.5458', '5.6753', '5.5679', '5.6133', '5.5892', '5.6639', '5.7075', '5.7071', '5.6315', '5.7729', '5.7819', '5.7561', '5.6491', '5.6211', '5.5214', '5.5602', '5.5832', '5.6244', '5.6156', '5.5518', '5.5357', '5.672', '5.8025', '5.8755', '5.6908', '5.6693', '5.6193', '5.6761']\n",
      "['5.2332', '5.0358', '5.5458', '5.6753', '5.5679', '5.6133', '5.5892', '5.6639', '5.7075', '5.7071', '5.6315', '5.7729', '5.7819', '5.7561', '5.6491', '5.6211', '5.5214', '5.5602', '5.5832', '5.6244', '5.6156', '5.5518', '5.5357', '5.672', '5.8025', '5.8755', '5.6908', '5.6693', '5.6193', '5.6761']\n",
      "[5.2332, 5.0358, 5.5458, 5.6753, 5.5679, 5.6133, 5.5892, 5.6639, 5.7075, 5.7071, 5.6315, 5.7729, 5.7819, 5.7561, 5.6491, 5.6211, 5.5214, 5.5602, 5.5832, 5.6244, 5.6156, 5.5518, 5.5357, 5.672, 5.8025, 5.8755, 5.6908, 5.6693, 5.6193, 5.6761]\n"
     ]
    }
   ],
   "source": [
    "cotacoes_dolar30d = requests.get('https://economia.awesomeapi.com.br/json/daily/USD-BRL/30')\n",
    "cotacoes_dolar30d_dic = cotacoes_dolar30d.json()\n",
    "\n",
    "# Fazendo com For\n",
    "lista_cotacoes_dolar_for = []\n",
    "for item in cotacoes_dolar30d_dic:\n",
    "    lista_cotacoes_dolar_for.append(item['bid'])\n",
    "\n",
    "# Fazendo com List Comprehension\n",
    "lista_cotacoes_dolar_listcomprehension = [item ['bid'] for item in cotacoes_dolar30d_dic] # list comprehension\n",
    "\n",
    "print(lista_cotacoes_dolar_for)\n",
    "print(lista_cotacoes_dolar_listcomprehension)\n",
    "\n",
    "#podemos transformá-los em float:\n",
    "lista_cotacoes_dolar_listcomprehension = [float(item ['bid']) for item in cotacoes_dolar30d_dic] # list comprehension\n",
    "print(lista_cotacoes_dolar_listcomprehension)"
   ]
  },
  {
   "cell_type": "markdown",
   "metadata": {},
   "source": [
    "#### Pegar as cotações do BitCoin de Jan/20 a Out/20"
   ]
  },
  {
   "cell_type": "code",
   "execution_count": 37,
   "metadata": {},
   "outputs": [
    {
     "name": "stdout",
     "output_type": "stream",
     "text": [
      "[35750.0, 35150.0, 37025.0, 36836.7, 37415.0, 37158.0, 36652.1, 36800.0, 38000.1, 40050.0, 41050.0, 41212.0, 41715.0, 43392.0, 43070.0, 46424.7, 46610.0, 47626.0, 47900.0, 48553.0, 48852.0, 49700.0, 52500.0, 57700.0, 52609.1, 52499.0, 49225.0, 49700.0, 51488.8, 54450.0, 56208.0, 53609.0, 54207.4, 55300.0, 55651.1, 55760.8, 54831.8, 51440.0, 51400.0, 51600.0, 49560.0, 49735.0, 47625.1, 49000.2, 51700.3, 50650.0, 51500.0, 50865.1, 53600.0, 54001.0, 49500.4, 50400.6, 48800.4, 48820.6, 49133.5, 48096.8, 48201.0, 49350.0, 47000.0, 48100.1, 47788.9, 47750.0, 48501.4, 49679.0, 49290.6, 50405.0, 49700.0, 49750.0, 49782.0, 50710.0, 49759.1, 49800.0, 49755.0, 49915.1, 49678.2, 49746.8, 49840.0, 49960.0, 49800.0, 49208.8, 48815.5, 48993.1, 48850.0, 49890.0, 49900.1, 50360.1, 49890.0, 49905.9, 49750.0, 49920.0, 50041.3, 50073.4, 49868.0, 49320.0, 49702.1, 49651.8, 49680.0, 49516.5, 49143.0, 49321.0, 49850.0, 49951.1, 50400.2, 50402.0, 55300.0, 56161.0, 57490.0, 57330.0, 58950.0, 61298.1, 58296.3, 59800.0, 59951.0, 61902.2, 63302.0, 63140.0, 63715.0, 63700.0, 65303.8, 62300.0, 63120.0, 63210.3, 63905.0, 64280.0, 64270.3, 67501.0, 66453.3, 65800.0, 66655.0, 65657.4, 66112.0, 66100.0, 66360.9, 63606.0, 64655.2, 63599.9, 63016.2, 62700.0, 63449.5, 63900.0, 64500.0, 62300.0, 55561.0, 56615.0, 54799.0, 55400.0, 55230.0, 54163.0, 55436.6, 55100.0, 55850.0, 55850.8, 55301.0, 57716.0, 57200.0, 58150.0, 57802.1, 59500.0, 59000.0, 59550.0, 56900.0, 58000.1, 58002.3, 59200.0, 59722.2, 59852.0, 60423.1, 60600.1, 60889.1, 60855.0, 60493.9, 60151.0, 60010.0, 60635.4, 60400.0, 59630.0, 59890.0, 61199.5, 63143.5, 63050.0, 62887.5, 63177.8, 63614.9, 64023.0, 65000.0, 64201.1, 64500.0, 64910.0, 66011.3, 67601.0, 70010.0, 72001.0, 72900.0, 73300.0, 73400.3, 73527.6, 78740.0, 76214.1, 78180.7, 78133.4]\n"
     ]
    }
   ],
   "source": [
    "cotacoes_bitcoin = requests.get('https://economia.awesomeapi.com.br/json/daily/BTC-BRL/200?start_date=20200101&end_date=20201031')\n",
    "cotacoes_bitcoin_dic = cotacoes_bitcoin.json()\n",
    "\n",
    "# Fazendo com List Comprehension\n",
    "lista_cotacoes_btc = [float(item ['bid']) for item in cotacoes_bitcoin_dic] # list comprehension\n",
    "lista_cotacoes_btc.reverse()\n",
    "print(lista_cotacoes_btc)"
   ]
  },
  {
   "cell_type": "markdown",
   "metadata": {},
   "source": [
    "#### Gráfico com as cotações do BitCoin"
   ]
  },
  {
   "cell_type": "code",
   "execution_count": 38,
   "metadata": {},
   "outputs": [
    {
     "data": {
      "image/png": "[encoded data removed]",
      "text/plain": [
       "<Figure size 1080x360 with 1 Axes>"
      ]
     },
     "metadata": {
      "needs_background": "light"
     },
     "output_type": "display_data"
    }
   ],
   "source": [
    "import matplotlib.pyplot as plt\n",
    "plt.figure(figsize=(15,5))\n",
    "plt.plot(lista_cotacoes_btc)\n",
    "plt.show()"
   ]
  },
  {
   "cell_type": "markdown",
   "metadata": {},
   "source": [
    "# Python e API com Login\n",
    "\n",
    "### O 1º Passo de toda API com Login é criar uma conta e pegar suas credenciais\n",
    "\n",
    "### No seu código, o 1º passo é sempre estabelecer a conexão com a API, usando seu login e suas credenciais\n",
    "\n",
    "- Como cada API é uma ferramenta diferente, cada uma delas pode exigir que você faça algum tipo de configuração, que vai estar explicada na API. No nosso caso, teremos que validar um número e criar um número de envio\n",
    "\n",
    "- Depois, usamos os métodos da API normalmente para fazer o que queremos. No nosso caso, enviar um SMS"
   ]
  },
  {
   "cell_type": "markdown",
   "metadata": {},
   "source": [
    "#### 1. Vamos criar um login no Twilio\n",
    "\n",
    "https://www.twilio.com/docs/libraries/python"
   ]
  },
  {
   "cell_type": "markdown",
   "metadata": {},
   "source": [
    "#### 2. Depois do Login, vamos pegar 3 informações:\n",
    "\n",
    "- ID da Conta\n",
    "- Token\n",
    "- Número de Envio"
   ]
  },
  {
   "cell_type": "markdown",
   "metadata": {},
   "source": [
    "#### 3. Agora vamos validar um número porque no Twilio, enviar SMS para um número válido é de graça"
   ]
  },
  {
   "cell_type": "markdown",
   "metadata": {},
   "source": [
    "#### 4. Agora podemos fazer o nosso código de acordo com as orientações do Twilio"
   ]
  },
  {
   "cell_type": "code",
   "execution_count": 5,
   "metadata": {},
   "outputs": [
    {
     "ename": "ImportError",
     "evalue": "cannot import name 'Client' from 'twilio.rest' (unknown location)",
     "output_type": "error",
     "traceback": [
      "\u001b[1;31m---------------------------------------------------------------------------\u001b[0m",
      "\u001b[1;31mImportError\u001b[0m                               Traceback (most recent call last)",
      "\u001b[1;32m~\\AppData\\Local\\Temp/ipykernel_10844/2192802787.py\u001b[0m in \u001b[0;36m<module>\u001b[1;34m\u001b[0m\n\u001b[1;32m----> 1\u001b[1;33m \u001b[1;32mfrom\u001b[0m \u001b[0mtwilio\u001b[0m\u001b[1;33m.\u001b[0m\u001b[0mrest\u001b[0m \u001b[1;32mimport\u001b[0m \u001b[0mClient\u001b[0m\u001b[1;33m\u001b[0m\u001b[1;33m\u001b[0m\u001b[0m\n\u001b[0m\u001b[0;32m      2\u001b[0m \u001b[1;33m\u001b[0m\u001b[0m\n\u001b[0;32m      3\u001b[0m \u001b[0maccount_sid\u001b[0m \u001b[1;33m=\u001b[0m \u001b[1;34m\"ACbb3b96538ea72cb7cd49a2cc713bf17c\"\u001b[0m\u001b[1;33m\u001b[0m\u001b[1;33m\u001b[0m\u001b[0m\n\u001b[0;32m      4\u001b[0m \u001b[0mtoken\u001b[0m \u001b[1;33m=\u001b[0m \u001b[1;34m\"3bfc652a7f5c4470c806e4213e33d531\"\u001b[0m\u001b[1;33m\u001b[0m\u001b[1;33m\u001b[0m\u001b[0m\n\u001b[0;32m      5\u001b[0m \u001b[0mremetente\u001b[0m \u001b[1;33m=\u001b[0m \u001b[1;34m\"+13192846346\"\u001b[0m\u001b[1;33m\u001b[0m\u001b[1;33m\u001b[0m\u001b[0m\n",
      "\u001b[1;31mImportError\u001b[0m: cannot import name 'Client' from 'twilio.rest' (unknown location)"
     ]
    }
   ],
   "source": [
    "from twilio.rest import Client\n",
    "\n",
    "account_sid = \"ACbb3b96538ea72cb7cd49a2cc713bf17c\"\n",
    "token = \"3bfc652a7f5c4470c806e4213e33d531\"\n",
    "remetente = \"+13192846346\"\n",
    "destino = \"+5512981705707\"\n",
    "\n",
    "client = Client(account_sid, token)\n",
    "\n",
    "message = client.messages.create(to= destino, from_= remetente, body=\"Salve, irmão\")\n",
    "\n",
    "print(message.sid) "
   ]
  },
  {
   "cell_type": "markdown",
   "metadata": {},
   "source": [
    "# Gravação Mentoria API do Google Sheets com Python\n",
    "Caso queira continuar no tema de Python e APIs, fizemos há um tempo uma mentoria de cerca de 2hrs focada exclusivamente na API do Google Sheets, que é uma API bem chatinha de se integrar porque exige vários passos.\n",
    "\n",
    "Essa aula está no Módulo \"Gravação dos Encontros ao Vivo\", mas vou deixar o link aqui caso queira acessar agora.\n",
    "\n",
    "Link da Gravação: 8. https://hashtag.eadplataforma.com/lesson/detail/15/3937/\n",
    "\n",
    "Depois de assistir a aula, você pode voltar aqui e continuar o ritmo normal do curso."
   ]
  },
  {
   "cell_type": "markdown",
   "metadata": {},
   "source": [
    "# Gravação Mentoria de REST API com Python\n",
    "Caso queira se aprofundar em APIs, fizemos há um tempo uma mentoria de cerca de 2hrs focada exclusivamente na criação de APIs em Python usando o Flask e explicando o que é uma REST API\n",
    "\n",
    "Essa aula está no Módulo \"Gravação dos Encontros ao Vivo\", mas vou deixar o link aqui caso queira acessar agora.\n",
    "\n",
    "Link da Gravação: 11. https://hashtag.eadplataforma.com/lesson/detail/15/4057/ \n",
    "\n",
    "Depois de assistir a aula, você pode voltar aqui e continuar o ritmo normal do curso."
   ]
  },
  {
   "cell_type": "markdown",
   "metadata": {},
   "source": []
  }
 ],
 "metadata": {
  "interpreter": {
   "hash": "dac4a7dc7aaead1812ed6b3519bfb10130d315263bc0f6f1e81642f130540e65"
  },
  "kernelspec": {
   "display_name": "Python 3.9.7 64-bit (windows store)",
   "name": "python3"
  },
  "language_info": {
   "codemirror_mode": {
    "name": "ipython",
    "version": 3
   },
   "file_extension": ".py",
   "mimetype": "text/x-python",
   "name": "python",
   "nbconvert_exporter": "python",
   "pygments_lexer": "ipython3",
   "version": "3.9.7"
  },
  "orig_nbformat": 4
 },
 "nbformat": 4,
 "nbformat_minor": 2
}
