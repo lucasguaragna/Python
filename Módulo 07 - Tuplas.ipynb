{
 "cells": [
  {
   "cell_type": "markdown",
   "id": "183057d0",
   "metadata": {},
   "source": [
    "# Tuplas\n",
    "\n",
    "### Estrutura:\n",
    "tupla = (valor, valor, valor ...)\n",
    "<br>\n",
    "\n",
    "\n",
    "### Diferença\n",
    "Parece uma lista, mas é imutável.\n",
    "<br>\n",
    "\n",
    "\n",
    "### Vantagens:\n",
    "- Mais eficiente (em termos de performance)\n",
    "- Protege a base de dados (por ser imutável)\n",
    "- Muito usado para dados heterogêneos (diferentes formatos dentro da tupla)\n",
    "<br>\n",
    "\n",
    "\n",
    "### Criando Tuplas"
   ]
  },
  {
   "cell_type": "code",
   "execution_count": 2,
   "id": "93428aa2",
   "metadata": {},
   "outputs": [],
   "source": [
    "vendas = ('Lira', '25/08/2020', '15/02/1994', 2000, 'Estagiário')"
   ]
  },
  {
   "cell_type": "markdown",
   "id": "3e68f41a",
   "metadata": {},
   "source": [
    "### Acessando o valor de uma tupla"
   ]
  },
  {
   "cell_type": "code",
   "execution_count": 6,
   "id": "90da3c60",
   "metadata": {},
   "outputs": [
    {
     "name": "stdout",
     "output_type": "stream",
     "text": [
      "('Lira', '25/08/2020', '15/02/1994', 2000, 'Estagiário')\n"
     ]
    }
   ],
   "source": [
    "#Criaremos variáveis com nomes intuitivos para facilitar nosso código\n",
    "nome = vendas[0]\n",
    "data_contratacao = vendas[1]\n",
    "data_nascimento = vendas[2]\n",
    "salario = vendas[3]\n",
    "cargo = vendas[4]\n",
    "\n",
    "print(vendas)"
   ]
  },
  {
   "cell_type": "code",
   "execution_count": 9,
   "id": "613b19fa",
   "metadata": {},
   "outputs": [
    {
     "name": "stdout",
     "output_type": "stream",
     "text": [
      "('Lira', '25/08/2020', '15/02/1994', 2000, 'Estagiário')\n"
     ]
    }
   ],
   "source": [
    "#PODEMOS FAZER A MESMA COISA DESSA FORMA: ----------UNPACKING-------------\n",
    "nome, data_contratacao, data_nascimento, salario, cargo = vendas\n",
    "print(vendas)"
   ]
  },
  {
   "cell_type": "markdown",
   "id": "ea3c5b14",
   "metadata": {},
   "source": [
    "- o enumerate que vínhamos usando até agora, na verdade, cria uma tupla para a gente. Vamos ver na prática:"
   ]
  },
  {
   "cell_type": "code",
   "execution_count": 10,
   "id": "06777354",
   "metadata": {},
   "outputs": [
    {
     "name": "stdout",
     "output_type": "stream",
     "text": [
      "João vendeu 1000 unidades\n",
      "Lira vendeu 2000 unidades\n",
      "Ana vendeu 300 unidades\n",
      "Maria vendeu 300 unidades\n",
      "Paula vendeu 150 unidades\n"
     ]
    }
   ],
   "source": [
    "vendas = [1000, 2000, 300, 300, 150]\n",
    "funcionarios = ['João', 'Lira', 'Ana', 'Maria', 'Paula']\n",
    "\n",
    "for i, venda in enumerate(vendas):\n",
    "        print('{} vendeu {} unidades'.format(funcionarios[i], venda))"
   ]
  },
  {
   "cell_type": "code",
   "execution_count": 12,
   "id": "81e65f2a",
   "metadata": {},
   "outputs": [
    {
     "name": "stdout",
     "output_type": "stream",
     "text": [
      "(0, 1000)\n",
      "(1, 2000)\n",
      "(2, 300)\n",
      "(3, 300)\n",
      "(4, 150)\n"
     ]
    }
   ],
   "source": [
    "for item in enumerate(vendas):\n",
    "    print(item) #o enumerate gera tuplas"
   ]
  },
  {
   "cell_type": "code",
   "execution_count": 13,
   "id": "52055ae3",
   "metadata": {},
   "outputs": [
    {
     "name": "stdout",
     "output_type": "stream",
     "text": [
      "1000\n",
      "2000\n",
      "300\n",
      "300\n",
      "150\n"
     ]
    }
   ],
   "source": [
    "for item in enumerate(vendas):\n",
    "    i, venda = item # Fazendo o UNPACKING\n",
    "    print(venda)"
   ]
  },
  {
   "cell_type": "markdown",
   "id": "89baff05",
   "metadata": {},
   "source": [
    "# Aplicação de Tupla - Lista de Tuplas\n",
    "\n",
    "### Estrutura:\n",
    "\n",
    "Além de casos como o do enumerate, em que usamos uma função para transformar itens em tuplas porque isso ajuda o nosso código, temos também listas de tuplas como algo comum dentro do Python."
   ]
  },
  {
   "cell_type": "markdown",
   "id": "1423db33",
   "metadata": {},
   "source": [
    "lista = [\n",
    "    tupla1,\n",
    "    tupla2,\n",
    "    tupla3,\n",
    "    ]\n",
    "    \n",
    "ou seja\n",
    "\n",
    "lista = [\n",
    "    (valor1, valor2, valor3),\n",
    "    (valor4, valor5, valor6),\n",
    "    (valor7, valor8, valor9),\n",
    "    ]"
   ]
  },
  {
   "cell_type": "markdown",
   "id": "31e32b12",
   "metadata": {},
   "source": [
    "### Exemplo:\n",
    "\n",
    "Digamos que você está analisando as vendas do Banco de Dados de um e-commerce.\n",
    "\n",
    "Em um determinado dia, você extraiu as vendas do Banco de Dados e elas vieram nesse formato:"
   ]
  },
  {
   "cell_type": "code",
   "execution_count": 18,
   "id": "63697fd1",
   "metadata": {},
   "outputs": [],
   "source": [
    "vendas = [\n",
    "    ('20/08/2020', 'iphone x', 'azul', '128gb', 350, 4000),\n",
    "    ('20/08/2020', 'iphone x', 'prata', '128gb', 1500, 4000),\n",
    "    ('20/08/2020', 'ipad', 'prata', '256gb', 127, 6000),\n",
    "    ('20/08/2020', 'ipad', 'prata', '128gb', 981, 5000),\n",
    "    ('21/08/2020', 'iphone x', 'azul', '128gb', 397, 4000),\n",
    "    ('21/08/2020', 'iphone x', 'prata', '128gb', 1017, 4000),\n",
    "    ('21/08/2020', 'ipad', 'prata', '256gb', 50, 6000),\n",
    "    ('21/08/2020', 'ipad', 'prata', '128gb', 4000, 5000),\n",
    "]"
   ]
  },
  {
   "cell_type": "markdown",
   "id": "d37164e6",
   "metadata": {},
   "source": [
    "- Qual foi o faturamento de IPhone no dia 20/08/2020?"
   ]
  },
  {
   "cell_type": "code",
   "execution_count": 28,
   "id": "69e86c02",
   "metadata": {},
   "outputs": [
    {
     "name": "stdout",
     "output_type": "stream",
     "text": [
      "O faturamento de Iphone no dia 20/08/2020 é de R$7,400,000\n"
     ]
    }
   ],
   "source": [
    "# faturamento = vendas[0][4] * vendas[0][5]\n",
    "# print(faturamento)\n",
    "# FICA MUITO CONFUSO: É MAIS FÁCIL FAZER O UNPACKING:\n",
    "faturamento = 0\n",
    "for tupla in vendas:\n",
    "    data, produto, cor, capacidade, unidades, valor_unitario = tupla\n",
    "    if produto == 'iphone x' and data == '20/08/2020':\n",
    "        faturamento += unidades * valor_unitario\n",
    "print('O faturamento de Iphone no dia 20/08/2020 é de R${:,}'.format(faturamento))"
   ]
  },
  {
   "cell_type": "markdown",
   "id": "3b173589",
   "metadata": {},
   "source": [
    "- Qual foi o produto mais vendido (em unidades) no dia 21/08/2020?\n"
   ]
  },
  {
   "cell_type": "code",
   "execution_count": 30,
   "id": "3f80e6ef",
   "metadata": {},
   "outputs": [
    {
     "name": "stdout",
     "output_type": "stream",
     "text": [
      "O produto mais vendido, no dia 21/08/2020, foi o ipad com 4000 unidades\n"
     ]
    }
   ],
   "source": [
    "# Variáveis auxiliares\n",
    "produto_mais_vendido = '' \n",
    "qtde_produto_mais_vendido = 0\n",
    "# Percorrer as tuplas e fazer nosso código\n",
    "for tupla in vendas:\n",
    "    data, produto, cor, capacidade, unidades, valor_unitario = tupla\n",
    "    if data == '21/08/2020':\n",
    "        if unidades > qtde_produto_mais_vendido:\n",
    "            produto_mais_vendido = produto\n",
    "            qtde_produto_mais_vendido = unidades\n",
    "print('O produto mais vendido, no dia 21/08/2020, foi o {} com {} unidades'.format(produto_mais_vendido, qtde_produto_mais_vendido))            "
   ]
  },
  {
   "cell_type": "markdown",
   "id": "81afe516",
   "metadata": {},
   "source": [
    "# Exercícios\n",
    "\n",
    "São exercícios bem parecidos com os que fizemos com listas. Mas na tupla, podemos não só trabalhar com índices, mas fazer o \"unpacking\" das tuplas, o que pode facilitar nossos códigos.\n",
    "\n",
    "## 1. Análise de Vendas\n",
    "\n",
    "Nesse exercício vamos fazer uma \"análise simples\" de atingimento de Meta.\n",
    "\n",
    "Temos uma lista com os vendedores e os valores de vendas e queremos identificar (printar) quais os vendedores que bateram a meta e qual foi o valor que eles venderam."
   ]
  },
  {
   "cell_type": "code",
   "execution_count": 41,
   "id": "688b2714",
   "metadata": {},
   "outputs": [
    {
     "name": "stdout",
     "output_type": "stream",
     "text": [
      "João bateu a meta. Valor total vendido: R$15,000\n",
      "Julia bateu a meta. Valor total vendido: R$27,000\n",
      "Ana bateu a meta. Valor total vendido: R$10,300\n"
     ]
    }
   ],
   "source": [
    "meta = 10000\n",
    "vendas = [\n",
    "    ('João', 15000),\n",
    "    ('Julia', 27000),\n",
    "    ('Marcus', 9900),\n",
    "    ('Maria', 3750),\n",
    "    ('Ana', 10300),\n",
    "    ('Alon', 7870),\n",
    "]\n",
    "\n",
    "# Percorrer a lista vendas (for) e realizar o unpacking da tupla (nome, qtde_vendas = tupla)\n",
    "for tuplas in vendas:\n",
    "    nome, valor = tuplas\n",
    "    if valor >= meta:\n",
    "        print('{} bateu a meta. Valor total vendido: R${:,}'.format(nome, valor))\n"
   ]
  },
  {
   "cell_type": "markdown",
   "id": "27fdc13c",
   "metadata": {},
   "source": [
    "## 2. Comparação com Ano Anterior\n",
    "\n",
    "Digamos que você está analisando as vendas de produtos de um ecommerce e quer identificar quais produtos tiveram no ano de 2020 mais vendas do que no ano de 2019, para reportar isso para a diretoria.\n",
    "\n",
    "Sua resposta pode ser um print de cada produto, qual foi a venda de 2019, a venda de 2020 e o % de crescimento de 2020 para 2019.\n",
    "\n",
    "Lembrando, para calcular o % de crescimento de um produto de um ano para o outro, podemos fazer: (vendas_produto2020/vendas_produto2019 - 1)\n",
    "\n",
    "A lógica da tupla é: (produto, vendas2019, vendas2020)"
   ]
  },
  {
   "cell_type": "code",
   "execution_count": 48,
   "id": "8ae177eb",
   "metadata": {},
   "outputs": [
    {
     "name": "stdout",
     "output_type": "stream",
     "text": [
      "O produto \"iphone\" teve mais vendas em 2020 (951642 vendas) do que em 2019 (558147 vendas). Crescimento: 70.50%\n",
      "O produto \"tv\" teve mais vendas em 2020 (787604 vendas) do que em 2019 (405252 vendas). Crescimento: 94.35%\n",
      "O produto \"máquina de café\" teve mais vendas em 2020 (867660 vendas) do que em 2019 (718654 vendas). Crescimento: 20.73%\n",
      "O produto \"notebook dell\" teve mais vendas em 2020 (694913 vendas) do que em 2019 (422760 vendas). Crescimento: 64.38%\n",
      "O produto \"notebook hp\" teve mais vendas em 2020 (539704 vendas) do que em 2019 (154753 vendas). Crescimento: 248.75%\n",
      "O produto \"microsoft surface\" teve mais vendas em 2020 (667179 vendas) do que em 2019 (438508 vendas). Crescimento: 52.15%\n",
      "O produto \"webcam\" teve mais vendas em 2020 (295633 vendas) do que em 2019 (237467 vendas). Crescimento: 24.49%\n",
      "O produto \"caixa de som\" teve mais vendas em 2020 (725316 vendas) do que em 2019 (489705 vendas). Crescimento: 48.11%\n",
      "O produto \"microfone\" teve mais vendas em 2020 (644622 vendas) do que em 2019 (328311 vendas). Crescimento: 96.34%\n",
      "O produto \"câmera canon\" teve mais vendas em 2020 (994303 vendas) do que em 2019 (591120 vendas). Crescimento: 68.21%\n"
     ]
    }
   ],
   "source": [
    "vendas_produtos = [\n",
    "    ('iphone', 558147, 951642),\n",
    "    ('galaxy', 712350, 244295),\n",
    "    ('ipad', 573823, 26964), \n",
    "    ('tv', 405252, 787604), \n",
    "    ('máquina de café', 718654, 867660),\n",
    "    ('kindle', 531580, 78830),\n",
    "    ('geladeira', 973139, 710331),\n",
    "    ('adega', 892292, 646016),\n",
    "    ('notebook dell', 422760, 694913),\n",
    "    ('notebook hp', 154753, 539704),\n",
    "    ('notebook asus', 887061, 324831),\n",
    "    ('microsoft surface', 438508, 667179),\n",
    "    ('webcam', 237467, 295633),\n",
    "    ('caixa de som', 489705, 725316),\n",
    "    ('microfone', 328311, 644622),\n",
    "    ('câmera canon', 591120, 994303),\n",
    "]\n",
    "\n",
    "# Percorrer a lista de tuplas (for) e realizar o unpaking das tuplas:\n",
    "for produto, vendas2019, vendas2020 in vendas_produtos:\n",
    "    if vendas2020 > vendas2019:\n",
    "        print('O produto \"{}\" teve mais vendas em 2020 ({} vendas) do que em 2019 ({} vendas). Crescimento: {:.2%}'.format(produto, vendas2020, vendas2019, vendas2020/vendas2019 - 1))"
   ]
  },
  {
   "cell_type": "code",
   "execution_count": null,
   "id": "6e237201",
   "metadata": {},
   "outputs": [],
   "source": []
  }
 ],
 "metadata": {
  "kernelspec": {
   "display_name": "Python 3",
   "language": "python",
   "name": "python3"
  },
  "language_info": {
   "codemirror_mode": {
    "name": "ipython",
    "version": 3
   },
   "file_extension": ".py",
   "mimetype": "text/x-python",
   "name": "python",
   "nbconvert_exporter": "python",
   "pygments_lexer": "ipython3",
   "version": "3.8.8"
  }
 },
 "nbformat": 4,
 "nbformat_minor": 5
}
