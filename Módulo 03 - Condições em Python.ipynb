{
 "cells": [
  {
   "cell_type": "markdown",
   "id": "e4c9c1ae",
   "metadata": {},
   "source": []
  },
  {
   "cell_type": "markdown",
   "id": "73044f98",
   "metadata": {},
   "source": [
    "# Ordem de execução dos programas \n",
    "errado: <br>\n",
    "print(faturamento)<br>\n",
    "faturamento = 522<br>\n",
    "**portanto, a ordem das coisas influencia, assim como no C**<br>\n",
    "\n",
    "# Tipos de Variáveis em Python\n",
    "**int** = inteiro <br>\n",
    "**string** = texto <br>\n",
    "**float** = números com casas decimais (ponto flutuante) <br>\n",
    "**bool** ou **boolean** = True ou False <br>\n",
    "Obs: variáveis em Python não são declaradas explicitamente, mas isso não significa que você deve ficar mudando o tempo todo. Cuirado com os nomes restritos (https://drive.google.com/file/d/1T-XfUziGpKWEUiitbomIHfzL1oxV07mn/view) <br>\n",
    "\n",
    "podemos descobrir o tipo de variável utilizando a função: type(variável) <br>\n",
    "\n",
    "# Misturando os tipos de variáveis (concatenar texto)\n"
   ]
  },
  {
   "cell_type": "code",
   "execution_count": null,
   "id": "6d9dcb19",
   "metadata": {},
   "outputs": [],
   "source": []
  },
  {
   "cell_type": "code",
   "execution_count": 7,
   "id": "3c669d2b",
   "metadata": {},
   "outputs": [
    {
     "ename": "TypeError",
     "evalue": "can only concatenate str (not \"int\") to str",
     "output_type": "error",
     "traceback": [
      "\u001b[1;31m---------------------------------------------------------------------------\u001b[0m",
      "\u001b[1;31mTypeError\u001b[0m                                 Traceback (most recent call last)",
      "\u001b[1;32m<ipython-input-7-d985ab35dfa0>\u001b[0m in \u001b[0;36m<module>\u001b[1;34m\u001b[0m\n\u001b[0;32m      1\u001b[0m \u001b[0mfaturamento\u001b[0m \u001b[1;33m=\u001b[0m \u001b[1;36m1500\u001b[0m\u001b[1;33m\u001b[0m\u001b[1;33m\u001b[0m\u001b[0m\n\u001b[1;32m----> 2\u001b[1;33m \u001b[0mprint\u001b[0m\u001b[1;33m(\u001b[0m\u001b[1;34m'o faturamento da loja foi'\u001b[0m \u001b[1;33m+\u001b[0m \u001b[0mfaturamento\u001b[0m\u001b[1;33m)\u001b[0m \u001b[1;31m#errado\u001b[0m\u001b[1;33m\u001b[0m\u001b[1;33m\u001b[0m\u001b[0m\n\u001b[0m",
      "\u001b[1;31mTypeError\u001b[0m: can only concatenate str (not \"int\") to str"
     ]
    }
   ],
   "source": [
    "faturamento = 1500\n",
    "print('o faturamento da loja foi' + faturamento) #errado"
   ]
  },
  {
   "cell_type": "code",
   "execution_count": 8,
   "id": "202c68c3",
   "metadata": {},
   "outputs": [
    {
     "data": {
      "text/plain": [
       "int"
      ]
     },
     "execution_count": 8,
     "metadata": {},
     "output_type": "execute_result"
    }
   ],
   "source": [
    "#Só podemos concatenar string com string, int com int, tipo de variável com tipo de variável.\n",
    "type(faturamento) #descobrindo o tipo da variável"
   ]
  },
  {
   "cell_type": "code",
   "execution_count": 9,
   "id": "665a0d08",
   "metadata": {},
   "outputs": [
    {
     "name": "stdout",
     "output_type": "stream",
     "text": [
      "o faturamento da loja foi de 1500R$\n"
     ]
    }
   ],
   "source": [
    "#podemos transformar o numero inteiro em string dessa forma:\n",
    "print('o faturamento da loja foi de ' + str(faturamento) + 'R$')"
   ]
  },
  {
   "cell_type": "markdown",
   "id": "332ac0fe",
   "metadata": {},
   "source": [
    "# Método format()\n",
    "Esse método deixa o texto mais organizado e o tratamento de dados já é feito de uma forma automática"
   ]
  },
  {
   "cell_type": "code",
   "execution_count": 10,
   "id": "41a4075f",
   "metadata": {},
   "outputs": [
    {
     "name": "stdout",
     "output_type": "stream",
     "text": [
      "o faturamento da loja foi 2000\n"
     ]
    }
   ],
   "source": [
    "faturamento = 2000\n",
    "custo = 500\n",
    "lucro = faturamento - custo\n",
    "\n",
    "print('o faturamento da loja foi {}'.format(faturamento))"
   ]
  },
  {
   "cell_type": "code",
   "execution_count": 11,
   "id": "6db450eb",
   "metadata": {},
   "outputs": [
    {
     "name": "stdout",
     "output_type": "stream",
     "text": [
      "o faturamento da loja foi 2000. O custo da loja foi 500. Assim, o luro da loja foi 1500\n"
     ]
    }
   ],
   "source": [
    "#podemos utilizar mais de uma variável\n",
    "print('o faturamento da loja foi {}. O custo da loja foi {}. Assim, o luro da loja foi {}'.format(faturamento, custo, lucro))"
   ]
  },
  {
   "cell_type": "markdown",
   "id": "b717c6ba",
   "metadata": {},
   "source": [
    "# Condições no Python: If"
   ]
  },
  {
   "cell_type": "markdown",
   "id": "f69c347e",
   "metadata": {},
   "source": [
    "if condição:\n",
    "    o que fazer caso a condição seja verdadeira #considerar a identação sempre!"
   ]
  },
  {
   "cell_type": "markdown",
   "id": "2b6a6fae",
   "metadata": {},
   "source": [
    "### Exemplo Real (informações 100% hipotéticas e inventadas):\n",
    "\n",
    "Digamos que você trabalha na Amazon (que tem centenas de milhares, se não milhões de produtos) e está analisando o resultado de vendas dos produtos.\n",
    "\n",
    "Você precisa criar um programa que vai analisar o resultado de vendas dos produtos da Amazon em um mês. Para simplificar vamos pensar em um único produto: um Iphone.\n",
    "\n",
    "Meta de Vendas do Iphone = 50.000 unidades<br>\n",
    "Quantidade vendida no Mês = 65.300 unidades\n",
    "\n",
    "O seu programa deve avisar (usaremos o print por enquanto) caso o produto tenha batido a meta do mês. Então devemos fazer:<br>\n",
    "- Caso o produto tenha batido a meta, devemos exibir a mensagem: \"Batemos a meta de vendas de Iphone, vendemos {} unidades\" \n",
    "- Se ele não bateu a meta do mês, o seu programa não deve fazer nada"
   ]
  },
  {
   "cell_type": "code",
   "execution_count": 20,
   "id": "8cbb197a",
   "metadata": {},
   "outputs": [
    {
     "name": "stdout",
     "output_type": "stream",
     "text": [
      "Batemos a meta de vendas de Iphone. Vendemos, no total: 70000 unidades\n"
     ]
    }
   ],
   "source": [
    "meta = 50000\n",
    "qtdd_vendas = 70000\n",
    "\n",
    "if qtdd_vendas > meta:\n",
    "    print('Batemos a meta de vendas de Iphone. Vendemos, no total: {} unidades'.format(qtdd_vendas))"
   ]
  },
  {
   "cell_type": "markdown",
   "id": "b6184aa9",
   "metadata": {},
   "source": [
    "### Tratando a condição falsa:\n",
    "Quando usamos o if, nem sempre queremos apenas analisar o caso verdadeiro, em boa parte das vezes queremos fazer alguma coisa caso a condição seja verdadeira e fazer outra coisa caso a condição seja falsa.\n",
    "\n",
    "Nesse caso usaremos:"
   ]
  },
  {
   "cell_type": "code",
   "execution_count": 22,
   "id": "0336fae9",
   "metadata": {},
   "outputs": [
    {
     "name": "stdout",
     "output_type": "stream",
     "text": [
      "Batemos a meta de vendas de Iphone. Vendemos, no total: 70000 unidades\n"
     ]
    }
   ],
   "source": [
    "if qtdd_vendas > meta:\n",
    "    print('Batemos a meta de vendas de Iphone. Vendemos, no total: {} unidades'.format(qtdd_vendas))\n",
    "else:\n",
    "    print('Infelizmente, não batemos a nossa meta. Nossa meta era de {} unidades, mas vendemos {} unidades'.format(meta, qtdd_vendas))"
   ]
  },
  {
   "cell_type": "markdown",
   "id": "3039a008",
   "metadata": {},
   "source": [
    "Voltando ao nosso Exemplo Real da Amazon e do Iphone, agora nossa programa deve avisar nos 2 casos:\n",
    "- Caso o produto tenha batido a meta, devemos exibir a mensagem: \"Batemos a meta de vendas de Iphone, vendemos {} unidades\" \n",
    "- Se ele não bateu a meta do mês, devemos exibir a mensagem: \"Infelizmente não batemos a meta, vendemos {} unidades. A meta era de {} unidades\""
   ]
  },
  {
   "cell_type": "markdown",
   "id": "d7281851",
   "metadata": {},
   "source": [
    "# Blocos e identação\n",
    "## Estrutura\n",
    "Sempre que usamos o if ou qualquer outra estrutura no Python, devemos usar a identação para dizer ao programa onde a estrutura começa e onde ela termina <br>\n",
    "isso vai ajudar muito quando tivermos mais de uma condição ao mesmo tempo e quando tivermos várias ações para fazer dentro de um if"
   ]
  },
  {
   "cell_type": "markdown",
   "id": "881cf6ca",
   "metadata": {},
   "source": [
    "if condicao:\n",
    "    alguma coisa\n",
    "    outra coisa\n",
    "    outra coisa mais\n",
    "    outra coisa ainda mais\n",
    "else:\n",
    "    uma coisa\n",
    "    uma coisa mais\n",
    "    coisa final"
   ]
  },
  {
   "cell_type": "markdown",
   "id": "c3814fce",
   "metadata": {},
   "source": [
    "## Exemplo\n",
    "Vamos fazer um novo exemplo abaixo:\n",
    "\n",
    "Digamos que você precisa criar um programa para um fundo de investimentos conseguir avaliar o resultado de uma carteira de ações e o quanto de taxa deverá ser pago.\n",
    "\n",
    "A regra desse fundo de investimentos é:\n",
    "\n",
    "- O fundo se compromete a entregar no mínimo 5% de retorno ao ano.\n",
    "- Caso o fundo não consiga entregar os 5% de retorno, ele não pode cobrar taxa dos seus investidores.\n",
    "- Caso o fundo consiga entregar mais de 5% de retorno, ele irá cobrar 2% de taxa dos seus investidores.\n",
    "- Caso o fundo consiga mais de 20% de retorno, ele irá cobrar 4% de taxa dos seus investidores."
   ]
  },
  {
   "cell_type": "code",
   "execution_count": 25,
   "id": "dbd4fbce",
   "metadata": {},
   "outputs": [
    {
     "name": "stdout",
     "output_type": "stream",
     "text": [
      "a taxa foi de 0.04\n"
     ]
    }
   ],
   "source": [
    "meta = .05\n",
    "taxa = 0\n",
    "rendimento = 0.25\n",
    "\n",
    "if rendimento > meta:\n",
    "    if rendimento > .20:\n",
    "        taxa = .04\n",
    "        print('a taxa foi de {}'.format(taxa))\n",
    "    else:\n",
    "        taxa =.02\n",
    "        print('a taxa foi de {}'.format(taxa))\n",
    "else:\n",
    "    taxa = 0\n",
    "    print('a taxa foi de {}'.format(taxa))"
   ]
  },
  {
   "cell_type": "markdown",
   "id": "b75ae29a",
   "metadata": {},
   "source": [
    "### Cuidado importante: repetição de código\n",
    "Sempre que possível, evite repetir códigos. <br> \n",
    "De forma geral: se você está repedindo um código, existe uma forma melhor de fazê-lo <br>\n",
    "Mais a frente, no curso, isso será discutido melhor."
   ]
  },
  {
   "cell_type": "markdown",
   "id": "a09f1d1b",
   "metadata": {},
   "source": [
    "# Elif\n"
   ]
  },
  {
   "cell_type": "markdown",
   "id": "e4ec4ab5",
   "metadata": {},
   "source": [
    "if condição:\n",
    "    o que fazer se a condição 1 for verdadeira\n",
    "elif condição_2:\n",
    "    o que fazer se a condição 1 for falsa e a condição 2 for verdadeira\n",
    "else:\n",
    "    o que fazer se a condição 1 e a condição 2 forem falsas"
   ]
  },
  {
   "cell_type": "markdown",
   "id": "3f8a9d24",
   "metadata": {},
   "source": [
    "### Exemplo:\n",
    "\n",
    "Vamos criar um programa para analisar o bônus dos funcionários de uma empresa (pode parecer \"simples\", mas uma empresa como a Amazon tem 900.000 funcionários)\n",
    "\n",
    "Para os cargos de vendedores, a regra do bônus é de acordo com a meta de vendas da pessoa:\n",
    "\n",
    "- Se ela vendeu abaixo da meta dela, ela não ganha bônus.\n",
    "- Se ela vendeu acima da meta dela, ela ganha como bônus 3% do valor que ela vendeu.\n",
    "- Se ela vendeu mais do que o dobro da meta dela, ela ganha como bônus 7% do valor que ela vendeu.\n",
    "\n",
    "Vamos criar um programa para avaliar uma pessoa que tinha como meta de vendas 20.000 reais e calcular o bônus dela de acordo com o valor de vendas que ela tiver."
   ]
  },
  {
   "cell_type": "code",
   "execution_count": 27,
   "id": "9ec5d268",
   "metadata": {},
   "outputs": [
    {
     "name": "stdout",
     "output_type": "stream",
     "text": [
      "o Colaborador ganhou 1470.0000000000002 de bônus\n"
     ]
    }
   ],
   "source": [
    "meta = 20000\n",
    "vendas = 21000\n",
    "\n",
    "if vendas < meta:\n",
    "    print('o Colaborador não recebeu bônus algum.')\n",
    "elif vendas > meta:\n",
    "    bonus = .07 * vendas\n",
    "    print('o Colaborador ganhou {} de bônus'.format(bonus))\n",
    "else:\n",
    "    bonus = .03 * vendas\n",
    "    print('o Colaborador ganhou {} de bônus'.format(bonus))"
   ]
  },
  {
   "cell_type": "markdown",
   "id": "d39ab13e",
   "metadata": {},
   "source": [
    "# Comparadores"
   ]
  },
  {
   "cell_type": "markdown",
   "id": "0085863b",
   "metadata": {},
   "source": [
    "==    igual\n",
    "!=    diferente\n",
    ">     maior que (>= maior ou igual)\n",
    "<     menor que (<= menor ou igual)\n",
    "in    texto existe dentro de outro texto \n",
    "not   verifica o contrário da comparação\n",
    "\n",
    "Obs: Se em alguma condição você não quiser fazer nada, você pode simplesmente escrever:\n",
    "pass"
   ]
  },
  {
   "cell_type": "code",
   "execution_count": 28,
   "id": "ccefca72",
   "metadata": {},
   "outputs": [
    {
     "name": "stdout",
     "output_type": "stream",
     "text": [
      "Programa 1\n",
      "Os faturamentos são diferentes\n"
     ]
    }
   ],
   "source": [
    "faturamento_loja_1 = 2500\n",
    "faturamento_loja_2 = 2200\n",
    "email = \"liragmail.com\"\n",
    "\n",
    "print('Programa 1')\n",
    "if faturamento_loja_1 == faturamento_loja_2:\n",
    "    print('Os faturamentos são iguais')\n",
    "else:\n",
    "    print('Os faturamentos são diferentes')"
   ]
  },
  {
   "cell_type": "code",
   "execution_count": 29,
   "id": "008cc744",
   "metadata": {},
   "outputs": [
    {
     "name": "stdout",
     "output_type": "stream",
     "text": [
      "Programa 2\n",
      "Esse não é o email do Lira\n"
     ]
    }
   ],
   "source": [
    "print('Programa 2')\n",
    "if email != 'lira@gmail.com':\n",
    "    print('Esse não é o email do Lira')\n",
    "else:\n",
    "    print('Email errado')"
   ]
  },
  {
   "cell_type": "code",
   "execution_count": 30,
   "id": "f0f47675",
   "metadata": {},
   "outputs": [
    {
     "name": "stdout",
     "output_type": "stream",
     "text": [
      "Programa 3\n",
      "Insira seu e-mail:lucasguaragna99@gmail.com\n"
     ]
    }
   ],
   "source": [
    "print('Programa 3')\n",
    "email_usuario = input('Insira seu e-mail:')\n",
    "if not '@' in email_usuario:\n",
    "    print('Email Inválido')\n",
    "else:\n",
    "    pass # pass seria o break no python"
   ]
  },
  {
   "cell_type": "markdown",
   "id": "830a35a2",
   "metadata": {},
   "source": [
    "# Exercícios com if"
   ]
  },
  {
   "cell_type": "markdown",
   "id": "3d6824e7",
   "metadata": {},
   "source": [
    "## 1. Cálculo de Bônus\n",
    "\n",
    "- Crie um programa que calcule e dê um print no bônus que os funcionários devem receber segundo a regra:\n",
    "\n",
    "A meta é 1000 vendas.<br> \n",
    "Se o valor de vendas for maior ou igual a meta, o valor do bônus do funcionário é 10% do valor de vendas.<br>\n",
    "Caso contrário o valor de bônus do funcionário é 0.<br>\n",
    "Print o bônus dos 3 funcionários"
   ]
  },
  {
   "cell_type": "code",
   "execution_count": 34,
   "id": "a4f9dae2",
   "metadata": {},
   "outputs": [
    {
     "name": "stdout",
     "output_type": "stream",
     "text": [
      "O funcionário 1 ganhou 100.0 de bônus\n",
      "O funcionário 2 não ganhou nenhum bônus\n",
      "O funcionário 3 ganhou 270.0 de bônus\n"
     ]
    }
   ],
   "source": [
    "vendas_funcionario1 = 1000\n",
    "vendas_funcionario2 = 770\n",
    "vendas_funcionario3 = 2700\n",
    "\n",
    "meta = 1000\n",
    "\n",
    "if vendas_funcionario1 >= meta:\n",
    "    bonus = .1 * vendas_funcionario1\n",
    "    print('O funcionário 1 ganhou {} de bônus'.format(bonus))\n",
    "else:\n",
    "    print('O funcionário 1 não ganhou nenhum bônus')\n",
    "    \n",
    "if vendas_funcionario2 >= meta:\n",
    "    bonus = .1 * vendas_funcionario2\n",
    "    print('O funcionário 2 ganhou {} de bônus'.format(bonus))\n",
    "else:\n",
    "    print('O funcionário 2 não ganhou nenhum bônus')\n",
    "    \n",
    "if vendas_funcionario1 >= meta:\n",
    "    bonus = .1 * vendas_funcionario3\n",
    "    print('O funcionário 3 ganhou {} de bônus'.format(bonus))\n",
    "else:\n",
    "    print('O funcionário 3 não ganhou nenhum bônus')"
   ]
  },
  {
   "cell_type": "markdown",
   "id": "0221723c",
   "metadata": {},
   "source": [
    "## 2. Cálculo de bônus com uma nova regra\n",
    "\n",
    "- Agora, crie um novo código que calcule e dê um print no bônus dos funcionários novamente. Porém há uma nova regra nesse 2º caso:\n",
    "\n",
    "A meta é 1000 vendas<br>\n",
    "Agora, os funcionários que venderem muito acima da meta ganham mais bônus do que os outros. Então o bônus é definido da seguinte forma:<br>\n",
    "\n",
    "- Se vendas funcionário for maior ou igual a 2000, então o bônus é de 15% sobre o valor de vendas\n",
    "- Se vendas funcionário for menor do que 2000 e maior ou igual a 1000, então o bônus é de 10% sobre o valor de vendas\n",
    "- Se vendas funcionário for menos do que 1000 então o bônus do funcionário é de 0.\n",
    "\n",
    "Use as mesmas variáveis de vendas_funcionários"
   ]
  },
  {
   "cell_type": "code",
   "execution_count": null,
   "id": "300c8059",
   "metadata": {},
   "outputs": [],
   "source": [
    "#crie seu código aqui\n",
    "#obs: há 2 formas de fazer, com if dentro de if ou então com if e elif. Escolha a que você preferir"
   ]
  },
  {
   "cell_type": "code",
   "execution_count": 45,
   "id": "8734dc07",
   "metadata": {},
   "outputs": [
    {
     "name": "stdout",
     "output_type": "stream",
     "text": [
      "O funcionário 1 receberá 100.0 de bônus\n",
      "O funcionário 2 receberá 0 de bônus\n",
      "O funcionário 3 receberá 405.0 de bônus\n"
     ]
    }
   ],
   "source": [
    "meta = 1000\n",
    "#FUNCIONÁRIO 1\n",
    "#Se vendas funcionário for maior ou igual a 2000, então o bônus é de 15% sobre o valor de vendas\n",
    "if vendas_funcionario1 >= 2000:\n",
    "    bonus = .15 * vendas_funcionario1\n",
    "    print('O funcionário 1 receberá {} de bônus'.format(bonus))\n",
    "    \n",
    "#Se vendas funcionário for menor do que 2000 e maior ou igual a 1000, então o bônus é de 10% sobre o valor de vendas\n",
    "elif vendas_funcionario1 < 2000 and vendas_funcionario1 >= 1000:\n",
    "    bonus = .10 * vendas_funcionario1\n",
    "    print('O funcionário 1 receberá {} de bônus'.format(bonus))\n",
    "    \n",
    "#Se vendas funcionário for menos do que 1000 então o bônus do funcionário é de 0.\n",
    "else:\n",
    "    bonus = 0\n",
    "    print('O funcionário 1 receberá {} de bônus'.format(bonus))\n",
    "    \n",
    "#FUNCIONÁRIO 2\n",
    "    #Se vendas funcionário for maior ou igual a 2000, então o bônus é de 15% sobre o valor de vendas\n",
    "if vendas_funcionario2 >= 2000:\n",
    "    bonus = .15 * vendas_funcionario2\n",
    "    print('O funcionário 2 receberá {} de bônus'.format(bonus))\n",
    "    \n",
    "#Se vendas funcionário for menor do que 2000 e maior ou igual a 1000, então o bônus é de 10% sobre o valor de vendas\n",
    "elif vendas_funcionario2 < 2000 and vendas_funcionario2 >= 1000:\n",
    "    bonus = .10 * vendas_funcionario2\n",
    "    print('O funcionário 2 receberá {} de bônus'.format(bonus))\n",
    "    \n",
    "#Se vendas funcionário for menos do que 1000 então o bônus do funcionário é de 0.\n",
    "else:\n",
    "    bonus = 0\n",
    "    print('O funcionário 2 receberá {} de bônus'.format(bonus))\n",
    "    \n",
    "#FUNCIONÁRIO 3\n",
    "    #Se vendas funcionário for maior ou igual a 2000, então o bônus é de 15% sobre o valor de vendas\n",
    "if vendas_funcionario3 >= 2000:\n",
    "    bonus = .15 * vendas_funcionario3\n",
    "    print('O funcionário 3 receberá {} de bônus'.format(bonus))\n",
    "    \n",
    "#Se vendas funcionário for menor do que 2000 e maior ou igual a 1000, então o bônus é de 10% sobre o valor de vendas\n",
    "elif vendas_funcionario3 < 2000 and vendas_funcionario3 >= 1000:\n",
    "    bonus = .10 * vendas_funcionario3\n",
    "    print('O funcionário 3 receberá {} de bônus'.format(bonus))\n",
    "    \n",
    "#Se vendas funcionário for menos do que 1000 então o bônus do funcionário é de 0.\n",
    "else:\n",
    "    bonus = 0\n",
    "    print('O funcionário 3 receberá {} de bônus'.format(bonus))\n",
    "    "
   ]
  },
  {
   "cell_type": "markdown",
   "id": "25356c4c",
   "metadata": {},
   "source": [
    "# Casos com várias condições/comparações\n",
    "Nesse caso, podemos combinar condições com o **and** e o **or**"
   ]
  },
  {
   "cell_type": "markdown",
   "id": "e6b0eb50",
   "metadata": {},
   "source": [
    "### Exemplo\n",
    "\n",
    "Vamos voltar ao exemplo de cálculo de meta de vendas dos funcionários. Muitas empresas atribuem bonificação do salário dos funcionários de acordo com o resultado do funcionário e também com o resultado da empresa como um todo.\n",
    "\n",
    "Nesse caso, a regra funciona da seguinte forma:\n",
    "- Se o funcionário vendeu mais do que a meta de vendas e a loja bateu a meta de vendas da loja, o funcionário ganha 3% do que ele vendeu em forma de bônus.\n",
    "- Caso o funcionário tenha batido a meta de vendas individual dele, mas a loja não tenha batido a meta de vendas da loja como um todo, o funcionário não ganha bônus."
   ]
  },
  {
   "cell_type": "code",
   "execution_count": 48,
   "id": "070a8af4",
   "metadata": {},
   "outputs": [
    {
     "name": "stdout",
     "output_type": "stream",
     "text": [
      "O funcionário teve um bônus de 450.0\n"
     ]
    }
   ],
   "source": [
    "meta_funcionario = 10000\n",
    "meta_loja = 250000\n",
    "vendas_funcionario = 15000\n",
    "vendas_loja = 280000\n",
    "\n",
    "if vendas_funcionario >= meta_funcionario and vendas_loja >= meta_loja:\n",
    "    bonus = .03 * vendas_funcionario\n",
    "    print('O funcionário teve um bônus de {}'.format(bonus))\n",
    "else:\n",
    "    print('O funcionário não ganhou bônus')\n",
    "    "
   ]
  },
  {
   "cell_type": "markdown",
   "id": "24a4fa2e",
   "metadata": {},
   "source": [
    "### Outro exemplo\n",
    "\n",
    "Agora vamos levar essa análise mais a fundo.\n",
    "\n",
    "Nessa empresa, existe um outro caso também que garante que o funcionário ganhe um bônus, independente das vendas que ele fez naquele mês.\n",
    "\n",
    "Todo mês os diretores da empresa fazem uma avaliação qualitativa de todos os funcionários. Nessa avaliação os diretores dão uma nota de 0 a 10 para cada funcionário. Se a nota do funcionário for 9 ou 10, ele também ganha o bônus de 3% do valor de vendas. (os bônus não são cumulativos)"
   ]
  },
  {
   "cell_type": "code",
   "execution_count": 50,
   "id": "1fdecde8",
   "metadata": {},
   "outputs": [
    {
     "name": "stdout",
     "output_type": "stream",
     "text": [
      "O bônus do funcionário foi de 450.0\n"
     ]
    }
   ],
   "source": [
    "nota_funcionario = 9\n",
    "meta_nota = 9\n",
    "\n",
    "if nota_funcionario >= meta_nota or (vendas_funcionario >= meta_funcionario and vendas_loja >= meta_loja):\n",
    "    bonus = .03 * vendas_funcionario\n",
    "    print('O bônus do funcionário foi de {}'.format(bonus))\n",
    "else:\n",
    "    print('O funcionário não ganhou bônus')"
   ]
  },
  {
   "cell_type": "markdown",
   "id": "a4fd91c1",
   "metadata": {},
   "source": [
    "# Comparações Contraintuitivas\n",
    "Existem algumas comparações no Python que não são tão intuitivas quando vemos pela primeira vez, mas que são muito usadas, principalmente, por programadores mais experientes <br>\n",
    "É bom sabermos alguns exemplos e buscar sempre entender o que aquela comparação está buscando verificar."
   ]
  },
  {
   "cell_type": "markdown",
   "id": "45f4e502",
   "metadata": {},
   "source": [
    "### Exemplo 1\n",
    "Digamos que você está construindo um sistema de controle de vendas e precisa de algumas informações para fazer o cálculo do resultado da loja no fim de um mês"
   ]
  },
  {
   "cell_type": "code",
   "execution_count": 51,
   "id": "92e372ed",
   "metadata": {},
   "outputs": [
    {
     "name": "stdout",
     "output_type": "stream",
     "text": [
      "Qual foi o faturamento da loja nesse mês?\n",
      "Qual foi o custo da loja nesse mês?\n"
     ]
    },
    {
     "ename": "ValueError",
     "evalue": "invalid literal for int() with base 10: ''",
     "output_type": "error",
     "traceback": [
      "\u001b[1;31m---------------------------------------------------------------------------\u001b[0m",
      "\u001b[1;31mValueError\u001b[0m                                Traceback (most recent call last)",
      "\u001b[1;32m<ipython-input-51-2b054606f09b>\u001b[0m in \u001b[0;36m<module>\u001b[1;34m\u001b[0m\n\u001b[0;32m      2\u001b[0m \u001b[0mcusto\u001b[0m \u001b[1;33m=\u001b[0m \u001b[0minput\u001b[0m\u001b[1;33m(\u001b[0m\u001b[1;34m'Qual foi o custo da loja nesse mês?'\u001b[0m\u001b[1;33m)\u001b[0m\u001b[1;33m\u001b[0m\u001b[1;33m\u001b[0m\u001b[0m\n\u001b[0;32m      3\u001b[0m \u001b[1;33m\u001b[0m\u001b[0m\n\u001b[1;32m----> 4\u001b[1;33m \u001b[0mlucro\u001b[0m \u001b[1;33m=\u001b[0m \u001b[0mint\u001b[0m\u001b[1;33m(\u001b[0m\u001b[0mfaturamento\u001b[0m\u001b[1;33m)\u001b[0m \u001b[1;33m-\u001b[0m \u001b[0mint\u001b[0m\u001b[1;33m(\u001b[0m\u001b[0mcusto\u001b[0m\u001b[1;33m)\u001b[0m \u001b[1;31m#Repare que antes de calcularmos, precisamos mudar o tipo de variável string -> int\u001b[0m\u001b[1;33m\u001b[0m\u001b[1;33m\u001b[0m\u001b[0m\n\u001b[0m",
      "\u001b[1;31mValueError\u001b[0m: invalid literal for int() with base 10: ''"
     ]
    }
   ],
   "source": [
    "faturamento = input('Qual foi o faturamento da loja nesse mês?')\n",
    "custo = input('Qual foi o custo da loja nesse mês?')\n",
    "\n",
    "lucro = int(faturamento) - int(custo) #Repare que antes de calcularmos, precisamos mudar o tipo de variável string -> int"
   ]
  },
  {
   "cell_type": "markdown",
   "id": "150cff5e",
   "metadata": {},
   "source": [
    "**Caso nenhum dado seja inserido pelo usuário, teremos o erro acima**<br>\n",
    "quando um texto não é preenchido, ele fica preenchido, automaticamente, com '' <br>\n",
    "podemos, então, usar uma condição: if faturamento == ''   ou somente if faturamento"
   ]
  },
  {
   "cell_type": "code",
   "execution_count": 53,
   "id": "8da0cebb",
   "metadata": {},
   "outputs": [
    {
     "name": "stdout",
     "output_type": "stream",
     "text": [
      "Qual foi o faturamento da loja nesse mês?1\n",
      "Qual foi o custo da loja nesse mês?1\n",
      "O lucro da loja foi de 0 e o custo foi de 1\n"
     ]
    }
   ],
   "source": [
    "faturamento = input('Qual foi o faturamento da loja nesse mês?')\n",
    "custo = input('Qual foi o custo da loja nesse mês?')\n",
    "\n",
    "if faturamento and custo: #se o faturamento e o custo estiverem preenchidos corretamente\n",
    "    lucro = int(faturamento) - int(custo)\n",
    "    print('O lucro da loja foi de {} e o custo foi de {}'.format(lucro, custo))\n",
    "else:\n",
    "    print('Preencha o faturamento e o lucro corretamente')\n"
   ]
  },
  {
   "cell_type": "markdown",
   "id": "caec3584",
   "metadata": {},
   "source": [
    "## Resumo\n",
    "Algumas comparações contraintuitivas muito usadas:\n",
    "\n",
    "- If 0\n",
    "- If ''\n",
    "\n",
    "Temos outras também, mas serão apresentadas mais a frente no curso."
   ]
  },
  {
   "cell_type": "markdown",
   "id": "31836aa3",
   "metadata": {},
   "source": [
    "# Exercício\n"
   ]
  },
  {
   "cell_type": "markdown",
   "id": "18941a3c",
   "metadata": {},
   "source": [
    "## 1. Criando um mini sistema de controle de estoque\n",
    "\n",
    "- Crie um sistema para ser usado pelo time de controle de estoque de um centro de distribuição.\n",
    "- Imagine que ao fim de todo dia, o time conta quantas unidades de produto existem no estoque. Se tivermos um estoque abaixo do estoque permitido para aquela categoria do produto, o time deve ser avisado (print) para fazer um novo pedido daquele produto.\n",
    "- Cada categoria de produto tem um estoque mínimo diferente, segundo a regra abaixo:\n",
    "\n",
    "- alimentos -> Estoque mínimo: 50\n",
    "- bebidas -> Estoque mínimo: 75\n",
    "- limpeza -> Estoque mínimo: 30\n",
    "\n",
    "Para isso vamos criar um programa que pede 3 inputs do usuário: nome do produto, categoria e quantidade atual em estoque.\n",
    "\n",
    "Se o produto tiver abaixo do estoque mínimo da categoria dele, o programa deve printar a mensagem \"Solicitar {produto} à equipe de compras, temos apenas {unidades} em estoque\"\n",
    "\n",
    "Exemplo: Se o usuário preenche os inputs com: bebidas, dolly, 90, o programa não deve exibir nenhuma mensagem.<br>\n",
    "Agora, se o usuário preenche os inputs com: bebidas, guaraná, 60, o programa deve exibir a mensagem \"Solicitar guaraná à equipe de compras, temos apenas 60 unidades em estoque.\n",
    "\n",
    "Obs: lembre de usar o int() para transformar o número inserido pelo usuário no input de string para int.<br>\n",
    "Obs2: Caso o usuário não preencha alguma das 3 informações, o programa deve exibir uma mensagem para avisá-lo de preencher corretamente."
   ]
  },
  {
   "cell_type": "code",
   "execution_count": 3,
   "id": "7f610862",
   "metadata": {},
   "outputs": [
    {
     "name": "stdout",
     "output_type": "stream",
     "text": [
      "Qual o nome do produto?\n",
      "Qual a categoria do produto? (alimentos, bebidas ou limpeza)\n",
      "Qual a quantidade atual no estoque deste produto?\n",
      "Preencha o formulário adequadamente\n"
     ]
    }
   ],
   "source": [
    "#Se tivermos um estoque abaixo do estoque permitido para aquela categoria do produto, o time deve ser avisado (print) para fazer um novo pedido daquele produto\n",
    "est_min_alimentos = 50\n",
    "est_min_bebidas = 75\n",
    "est_min_limpeza = 30\n",
    "\n",
    "#perguntando ao usuário\n",
    "nome_produto = input('Qual o nome do produto?')\n",
    "categoria = input('Qual a categoria do produto? (alimentos, bebidas ou limpeza)')\n",
    "qtdd = input('Qual a quantidade atual no estoque deste produto?')\n",
    "\n",
    "#código\n",
    "if nome_produto and categoria and qtdd: #caso essas variáveis estejam preenchidas:\n",
    "    qtdd = int(qtdd)\n",
    "    if categoria == 'alimentos':\n",
    "        if qtdd < est_min_alimentos:\n",
    "            print('Solicitar {} à equipe de compras, temos apenas {} em estoque'.format(nome_produto, qtdd))\n",
    "        elif qtdd >= est_min_alimentos:\n",
    "            print('Não é necessário realizar a compra de {}'.format(nome_produto))  \n",
    "    if categoria == 'bebidas':\n",
    "        if qtdd < est_min_bebidas:\n",
    "            print('Solicitar {} à equipe de compras, temos apenas {} em estoque'.format(nome_produto, qtdd))\n",
    "        elif qtdd >= est_min_bebidas:\n",
    "            print('Não é necessário realizar a compra de {}'.format(nome_produto))\n",
    "    if categoria == 'limpeza':\n",
    "        if qtdd < est_min_limpeza:\n",
    "            print('Solicitar {} à equipe de compras, temos apenas {} em estoque'.format(nome_produto, qtdd))\n",
    "        elif int(qtdd) >= est_min_limpeza:\n",
    "            print('Não é necessário realizar a compra de {}'.format(nome_produto))\n",
    "else:\n",
    "    print('Preencha o formulário adequadamente')"
   ]
  },
  {
   "cell_type": "markdown",
   "id": "0ffd7f22",
   "metadata": {},
   "source": [
    "# "
   ]
  }
 ],
 "metadata": {
  "kernelspec": {
   "display_name": "Python 3",
   "language": "python",
   "name": "python3"
  },
  "language_info": {
   "codemirror_mode": {
    "name": "ipython",
    "version": 3
   },
   "file_extension": ".py",
   "mimetype": "text/x-python",
   "name": "python",
   "nbconvert_exporter": "python",
   "pygments_lexer": "ipython3",
   "version": "3.8.8"
  }
 },
 "nbformat": 4,
 "nbformat_minor": 5
}
