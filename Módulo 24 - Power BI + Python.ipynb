{
 "cells": [
  {
   "cell_type": "markdown",
   "metadata": {},
   "source": [
    "# Integração de Python com Power BI\n",
    "\n",
    "### 2 Formas de Fazer:\n",
    "\n",
    "1. Usar o Python para fazer os tratamentos de bases de dados, criar colunas, etc. para importar para o Power BI depois -> biblioteca pandas -> exatamente como aprendemos no módulo de pandas\n",
    "\n",
    "2. (O que vamos focar aqui). Usar scripts em Python diretamente dentro do Power BI"
   ]
  },
  {
   "cell_type": "markdown",
   "metadata": {},
   "source": [
    "Obs: Você precisa do Power BI instalado no seu computador para isso funcionar. Caso não tenha ele instalado, na descrição tem o link ensinando a baixar e instalar gratuitamente."
   ]
  },
  {
   "cell_type": "markdown",
   "metadata": {},
   "source": [
    "### O que conseguimos fazer?\n",
    "\n",
    "Basicamente, tudo o que temos feito no Python você consegue jogar para dentro do Power BI. Isso porque o Power BI tem um executor de scripts em Python, o que significa que ele roda nossos códigos lá dentro.\n",
    "\n",
    "- Um dos maiores usos para Python no Power BI é a biblioteca do pandas, dado que ela trabalha com tabelas e o Power BI também.\n",
    "- Além disso, as bibliotecas de visuais/gráficos também são muito úteis\n",
    "\n",
    "### Como usar o Python no Power BI - 3 opções:\n",
    "\n",
    "    1 - Como fonte de Dados\n",
    "    2 - Para editar uma tabela no Editor de Consultas (Power Query)\n",
    "    3 - Para criar um visual"
   ]
  },
  {
   "cell_type": "markdown",
   "metadata": {},
   "source": [
    "### Antes de começar, configurações importantes\n",
    "\n",
    "Arquivo -> Opções -> Scripts do Python:\n",
    "- Verificar se o campo \"Diretório base do Python\" está onde você instalou o python no ambiente virtual\n",
    "- Se não estiver (provavelmente não vai estar), ajeitar manualmente"
   ]
  },
  {
   "cell_type": "markdown",
   "metadata": {},
   "source": [
    "### Pequeno teste"
   ]
  },
  {
   "cell_type": "code",
   "execution_count": null,
   "metadata": {},
   "outputs": [],
   "source": [
    "import pandas as pd\n",
    "vendas_df = pd.read_csv()"
   ]
  },
  {
   "cell_type": "code",
   "execution_count": null,
   "metadata": {},
   "outputs": [],
   "source": []
  }
 ],
 "metadata": {
  "interpreter": {
   "hash": "dac4a7dc7aaead1812ed6b3519bfb10130d315263bc0f6f1e81642f130540e65"
  },
  "kernelspec": {
   "display_name": "Python 3.9.7 64-bit (windows store)",
   "name": "python3"
  },
  "language_info": {
   "codemirror_mode": {
    "name": "ipython",
    "version": 3
   },
   "file_extension": ".py",
   "mimetype": "text/x-python",
   "name": "python",
   "nbconvert_exporter": "python",
   "pygments_lexer": "ipython3",
   "version": "3.9.7"
  },
  "orig_nbformat": 4
 },
 "nbformat": 4,
 "nbformat_minor": 2
}
