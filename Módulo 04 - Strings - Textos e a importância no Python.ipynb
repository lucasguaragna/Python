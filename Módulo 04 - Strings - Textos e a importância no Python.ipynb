{
 "cells": [
  {
   "cell_type": "markdown",
   "id": "5322c659",
   "metadata": {},
   "source": [
    "# Por que aprender strings e a importância para o Python"
   ]
  },
  {
   "cell_type": "markdown",
   "id": "5469cebf",
   "metadata": {},
   "source": [
    "**Se entendermos bem como funcionam as strings, facilitaremos o aprendizado de \"Listas\", uma vez que quando criamos uma string, armazenamos cada caracter em uma posição de uma lista**"
   ]
  },
  {
   "cell_type": "markdown",
   "id": "52434744",
   "metadata": {},
   "source": [
    "# Item, índice e tamanho de string"
   ]
  },
  {
   "cell_type": "markdown",
   "id": "1f17e1ff",
   "metadata": {},
   "source": [
    "0 1 2 3 4 5 6 7 8 9 10 11 12 13\n",
    "l i r a @ g m a i l .  c  o  m\n",
    "\n",
    "Pegar um item de uma string: texto[índice]\n",
    "Pegar o tamanho de um texto: len(texto)"
   ]
  },
  {
   "cell_type": "code",
   "execution_count": 3,
   "id": "e7181bd4",
   "metadata": {},
   "outputs": [
    {
     "name": "stdout",
     "output_type": "stream",
     "text": [
      "14\n",
      "@\n"
     ]
    }
   ],
   "source": [
    "email = 'lira@gmail.com'\n",
    "nome = 'João Lira'\n",
    "\n",
    "#se quisermos saber quantos caracteres temos em uma string:\n",
    "print(len(email))\n",
    "\n",
    "#se quisermos saber o que tem armazenado em um índice:\n",
    "print(email[4])"
   ]
  },
  {
   "cell_type": "code",
   "execution_count": null,
   "id": "b87a4576",
   "metadata": {},
   "outputs": [],
   "source": []
  },
  {
   "cell_type": "markdown",
   "id": "c107585e",
   "metadata": {},
   "source": [
    "# Índice negativo (-n) e Pedaço de string (:)"
   ]
  },
  {
   "cell_type": "markdown",
   "id": "93cff8e2",
   "metadata": {},
   "source": [
    "Texto: lira@gmail.com\n",
    "\n",
    "-14 -13 -12 -11 -10 -9 -8 -7 -6 -5 -4 -3 -2 -1\n",
    "  l   i   r   a   @  g  m  a  i  l  .  c  o  m\n",
    "  0   1   2   3   4  5  6  7  8  9 10 11 12 13\n",
    "  \n",
    "Para pegar um texto de trás para frente: texto[índice] -> onde índice é negativo\n",
    "Para pegar o pedaço de um texto use : (dois pontos). texto[:indice] ou texto[indice:] ou ainda texto[indice:indice]"
   ]
  },
  {
   "cell_type": "code",
   "execution_count": 11,
   "id": "bcfa4a37",
   "metadata": {},
   "outputs": [
    {
     "name": "stdout",
     "output_type": "stream",
     "text": [
      "m\n",
      "li\n",
      "ra@gmail.com\n",
      "ira\n",
      "gmail.com\n"
     ]
    }
   ],
   "source": [
    "email = 'lira@gmail.com'\n",
    "nome = 'João Paulo Lira'\n",
    "\n",
    "print(email[-1]) # imprimir o último item da lista\n",
    "\n",
    "print(email[:2]) # imprime antes índice 2\n",
    "\n",
    "print(email[2:]) # imprime depois do índice 2\n",
    "\n",
    "print(email[1:4]) # imprime um pedaço entre os índices 1 e 4\n",
    "\n",
    "#podemos descobrir qual é o servidor do email: procurar itens após o @ - isso também serve para códigos padrão\n",
    "print(email[5:])\n"
   ]
  },
  {
   "cell_type": "markdown",
   "id": "00bd5ea6",
   "metadata": {},
   "source": [
    "Exercícios para Fixação: <br>\n",
    "Basta completar os prints de forma correta"
   ]
  },
  {
   "cell_type": "code",
   "execution_count": 15,
   "id": "acb0c4cb",
   "metadata": {},
   "outputs": [
    {
     "name": "stdout",
     "output_type": "stream",
     "text": [
      "Tamanho do e-mail 14 caracteres\n",
      "Primeiro Caractere l\n",
      "Último Caractere m\n",
      "Servidor do email gmail.com\n",
      "gmail.com\n"
     ]
    }
   ],
   "source": [
    "print('Tamanho do e-mail ' + str(len(email)) + ' caracteres')\n",
    "print('Primeiro Caractere ' + email[0])\n",
    "print('Último Caractere ' + email[-1])\n",
    "print('Servidor do email ' + email[5:])\n",
    "\n",
    "posicao=email.index('@')\n",
    "\n",
    "print(email[posicao+1:])"
   ]
  },
  {
   "cell_type": "markdown",
   "id": "e031689b",
   "metadata": {},
   "source": [
    "# Operações com Strings"
   ]
  },
  {
   "cell_type": "markdown",
   "id": "e64f28e1",
   "metadata": {},
   "source": [
    "str -> transforma número em string<br>\n",
    "in -> verifica se um texto está contido dentro do outro<br>\n",
    "operador + -> concatenar string<br>\n",
    "format e {} -> substitui valores<br>\n",
    "%s -> substitui textos<br>\n",
    "%d -> substitui números decimais<br>"
   ]
  },
  {
   "cell_type": "code",
   "execution_count": 16,
   "id": "760df378",
   "metadata": {},
   "outputs": [],
   "source": [
    "faturamento = 1000\n",
    "custo = 500\n",
    "lucro = faturamento - custo"
   ]
  },
  {
   "cell_type": "markdown",
   "id": "f13e432a",
   "metadata": {},
   "source": [
    "**Uso do str() e do concatenar com +**"
   ]
  },
  {
   "cell_type": "code",
   "execution_count": 20,
   "id": "7fc132c2",
   "metadata": {},
   "outputs": [
    {
     "name": "stdout",
     "output_type": "stream",
     "text": [
      "o faturamento da loja foi de: 1000\n"
     ]
    }
   ],
   "source": [
    "print('o faturamento da loja foi de: ' + str(faturamento)) #problema do método: temos que lembrar de formatar com o str() e se o texto for grande demais, complica."
   ]
  },
  {
   "cell_type": "markdown",
   "id": "18c95ed0",
   "metadata": {},
   "source": [
    "**Uso do Format**"
   ]
  },
  {
   "cell_type": "code",
   "execution_count": 24,
   "id": "9e7b252d",
   "metadata": {},
   "outputs": [
    {
     "name": "stdout",
     "output_type": "stream",
     "text": [
      "O faturamento da loja foi de: 1000\n",
      "O faturamento, o custo e o lucro foram de, respectivamente: 1000, 500 e 500\n",
      "O faturamento, o custo e o lucro foram de, respectivamente: 1000, 500 e 500. Lembrando, o faturamento foi de: 1000\n"
     ]
    }
   ],
   "source": [
    "print('O faturamento da loja foi de: {}'.format(faturamento))\n",
    "\n",
    "print('O faturamento, o custo e o lucro foram de, respectivamente: {}, {} e {}'.format(faturamento, custo, lucro))\n",
    "\n",
    "#podemos repetir o valor nomeando os índices segundo o format(0, 1, 2).\n",
    "print('O faturamento, o custo e o lucro foram de, respectivamente: {0}, {1} e {2}. Lembrando, o faturamento foi de: {0}'.format(faturamento, custo, lucro))"
   ]
  },
  {
   "cell_type": "markdown",
   "id": "ddd8f1b7",
   "metadata": {},
   "source": [
    "**Uso do %s e %d**"
   ]
  },
  {
   "cell_type": "code",
   "execution_count": 27,
   "id": "76a002b3",
   "metadata": {},
   "outputs": [
    {
     "name": "stdout",
     "output_type": "stream",
     "text": [
      "O faturamento foi de 1000\n",
      "O faturamento, custo e lucro foram de, respectivamente: 1000, 500 e 500\n"
     ]
    }
   ],
   "source": [
    "print('O faturamento foi de %d' % faturamento)\n",
    "print('O faturamento, custo e lucro foram de, respectivamente: %d, %d e %d'% (faturamento, custo, lucro))"
   ]
  },
  {
   "cell_type": "markdown",
   "id": "460921ef",
   "metadata": {},
   "source": [
    "**Uso do in (mais exercícios nas próximas aulas)**"
   ]
  },
  {
   "cell_type": "code",
   "execution_count": 29,
   "id": "caf91684",
   "metadata": {},
   "outputs": [
    {
     "name": "stdout",
     "output_type": "stream",
     "text": [
      "True\n",
      "False\n"
     ]
    }
   ],
   "source": [
    "print('@' in 'lira@gmail.com')\n",
    "print('@' in 'lira.gmail.com')"
   ]
  },
  {
   "cell_type": "markdown",
   "id": "7962e69f",
   "metadata": {},
   "source": [
    "# 'Fómulas' de Texto - Métodos de String"
   ]
  },
  {
   "cell_type": "markdown",
   "id": "f92c316c",
   "metadata": {},
   "source": [
    "## Estrutura:\n",
    "\n",
    "- Normalmente usamos a estrutura texto.método() para fazer as modificações que queremos\n",
    "- Alguns métodos pedem \"argumentos\", que são informações que temos que passar para a fórmula (método) para ela funcionar. Esses argumentos são passados dentro do parênteses\n",
    "\n",
    "## Como usar:\n",
    "\n",
    "Não decore os métodos, os que você for mais usando com o tempo você vai decorar o que precisar.\n",
    "\n",
    "Mas a dica é: use essa lista para consulta e busque entender como os métodos funcionam e suas aplicações, para poder consultar e usar quando precisar."
   ]
  },
  {
   "cell_type": "markdown",
   "id": "f60a27d2",
   "metadata": {},
   "source": [
    "- **capitalize() -> Coloca a 1ª letra Maiúscula**"
   ]
  },
  {
   "cell_type": "markdown",
   "id": "df625d84",
   "metadata": {},
   "source": [
    "       \n",
    "      Uso: \n",
    "        texto = 'lira'\n",
    "        print(texto.capitalize())\n",
    "    Resultado: \n",
    "        'Lira'"
   ]
  },
  {
   "cell_type": "markdown",
   "id": "0aad11fb",
   "metadata": {},
   "source": [
    "- **casefold() -> Transforma todas as letras em minúsculas (existe lower() mas o casefold é melhor normalmente)**"
   ]
  },
  {
   "cell_type": "markdown",
   "id": "c645eb48",
   "metadata": {},
   "source": [
    "    Uso: \n",
    "        texto = 'Lira'\n",
    "        print(texto.casefold())\n",
    "    Resultado: \n",
    "        'lira'"
   ]
  },
  {
   "cell_type": "markdown",
   "id": "b36f9314",
   "metadata": {},
   "source": [
    "- **count()\t-> Quantidade de vezes que um valor aparece na string**"
   ]
  },
  {
   "cell_type": "markdown",
   "id": "a0949ddb",
   "metadata": {},
   "source": [
    "    Uso:\n",
    "        texto = 'lira@yahoo.com.br'\n",
    "        print(texto.count('.'))\n",
    "    Resultado:\n",
    "        2"
   ]
  },
  {
   "cell_type": "markdown",
   "id": "52ac48e7",
   "metadata": {},
   "source": [
    "- **endswith() -> Verifica se o texto termina com um valor específico e dá como resposta True ou False**"
   ]
  },
  {
   "cell_type": "markdown",
   "id": "c69a41ae",
   "metadata": {},
   "source": [
    "    Uso:\n",
    "        texto = 'lira@gmail.com'\n",
    "        print(texto.endswith('gmail.com'))\n",
    "    Resultado:\n",
    "        True"
   ]
  },
  {
   "cell_type": "markdown",
   "id": "11938157",
   "metadata": {},
   "source": [
    "- **find() -> Procura um texto dentro de outro texto e dá como resposta a posição do texto encontrado**"
   ]
  },
  {
   "cell_type": "markdown",
   "id": "a9fc8ff2",
   "metadata": {},
   "source": [
    "    Uso:\n",
    "        texto = 'lira@gmail.com'\n",
    "        print(texto.find('@'))\n",
    "    Resultado:\n",
    "        4\n",
    "    Obs: lembrando como funciona a posição nas strings, então o @ está na posição 4\n",
    "    l i r a @ g m a i l  .  c  o  m\n",
    "    0 1 2 3 4 5 6 7 8 9 10 11 12 13"
   ]
  },
  {
   "cell_type": "markdown",
   "id": "199fdb63",
   "metadata": {},
   "source": [
    "- **format() -> Formata uma string de acordo com os valores passados. Já usamos bastante ao longo do programa.**"
   ]
  },
  {
   "cell_type": "markdown",
   "id": "68b8477b",
   "metadata": {},
   "source": [
    "    Uso:\n",
    "        faturamento = 1000\n",
    "        print('O faturamento da loja foi de {} reais'.format(faturamento))\n",
    "    Resultado:\n",
    "        'O faturamento da loja foi de 1000 reais'"
   ]
  },
  {
   "cell_type": "markdown",
   "id": "c6f91ca0",
   "metadata": {},
   "source": [
    "- **isalnum() -> Verifica se um texto é todo feito com caracteres alfanuméricos (letras e números) -> letras com acento ou ç são considerados letras para essa função.**"
   ]
  },
  {
   "cell_type": "markdown",
   "id": "9113d128",
   "metadata": {},
   "source": [
    "    Uso:\n",
    "        texto = 'João123'\n",
    "        print(texto.isalnum())\n",
    "    Resultado:\n",
    "        True\n",
    "    Obs: se o texto fosse 'Jo~ao' ou então 'Joao#' o resultado seria False \n",
    "  "
   ]
  },
  {
   "cell_type": "markdown",
   "id": "e7caf140",
   "metadata": {},
   "source": [
    "- **isalpha() -> Verifica se um texto é todo feito de letras.**"
   ]
  },
  {
   "cell_type": "markdown",
   "id": "3a26befd",
   "metadata": {},
   "source": [
    "    Uso:\n",
    "        texto = 'João'\n",
    "        print(texto.isalpha())\n",
    "    Resultado:\n",
    "        True\n",
    "    Obs: nesse caso se o texto fosse 'Joao123' o resultado seria False, porque 123 não são letras."
   ]
  },
  {
   "cell_type": "markdown",
   "id": "b661b06f",
   "metadata": {},
   "source": [
    "- **isnumeric()\t-> Verifica se um texto é todo feito por números.**"
   ]
  },
  {
   "cell_type": "markdown",
   "id": "753b1b34",
   "metadata": {},
   "source": [
    "    Uso:\n",
    "        texto = '123'\n",
    "        print(texto.isnumeric())\n",
    "    Resultado:\n",
    "        True\n",
    "    Obs: existem os métodos isdigit() e isdecimal() que tem variações pontuais em caracteres especiais tipo textos com frações e potências, mas para 99% dos casos eles não vão ser necessários."
   ]
  },
  {
   "cell_type": "markdown",
   "id": "fc001eed",
   "metadata": {},
   "source": [
    "- **replace() -> Substitui um texto por um outro texto em uma string.**"
   ]
  },
  {
   "cell_type": "markdown",
   "id": "555f4c57",
   "metadata": {},
   "source": [
    "    Uso:\n",
    "        texto = '1000.00'\n",
    "        print(texto.replace('.', ','))\n",
    "    Resultado\n",
    "        '1000,00'\n",
    "    Obs: o replace precisa de 2 argumentos para funcionar. O 1º é o texto que você quer trocar. O 2º é o texto que você quer colocar no lugar daquele texto que você está tirando."
   ]
  },
  {
   "cell_type": "markdown",
   "id": "5e61a397",
   "metadata": {},
   "source": [
    "- **split()\t-> Separa uma string de acordo com um delimitador em vários textos diferentes.**"
   ]
  },
  {
   "cell_type": "markdown",
   "id": "d813be43",
   "metadata": {},
   "source": [
    "    Uso:\n",
    "        texto = 'lira@gmail.com'\n",
    "        print(texto.split('@'))\n",
    "    Resultado:\n",
    "        ['lira', 'gmail.com']\n"
   ]
  },
  {
   "cell_type": "markdown",
   "id": "b421a250",
   "metadata": {},
   "source": [
    "- **splitlines() -> separa um texto em vários textos de acordo com os \"enters\" do texto**"
   ]
  },
  {
   "cell_type": "markdown",
   "id": "e3e4b264",
   "metadata": {},
   "source": [
    "    Uso:\n",
    "        texto = '''Olá, bom dia\n",
    "        Venho por meio desse e-mail lhe informar o faturamento da loja no dia de hoje.\n",
    "        Faturamento = R$2.500,00\n",
    "        '''\n",
    "        print(texto.splitlines())\n",
    "    Resultado:\n",
    "        ['Olá, bom dia', 'Venho por meio desse e-mail lhe informar o faturamento da loja no dia de hoje.', 'Faturamento = R$2.500,00']"
   ]
  },
  {
   "cell_type": "markdown",
   "id": "5d0dbab6",
   "metadata": {},
   "source": [
    "- **startswith() -> Verifica se a string começa com determinado texto**"
   ]
  },
  {
   "cell_type": "markdown",
   "id": "e05db397",
   "metadata": {},
   "source": [
    "    Uso:\n",
    "        texto = 'BEB123453'\n",
    "        print(texto.startswith('BEB'))\n",
    "    Resultado:\n",
    "        True"
   ]
  },
  {
   "cell_type": "markdown",
   "id": "964daad2",
   "metadata": {},
   "source": [
    "- **strip()\t-> Retira caracteres indesejados dos textos. Por padrão, retira espaços \"extras\" no início e no final**"
   ]
  },
  {
   "cell_type": "markdown",
   "id": "95bb0866",
   "metadata": {},
   "source": [
    "    Uso:\n",
    "        texto = ' BEB123453 '\n",
    "        print(texto.strip())\n",
    "    Resultado:\n",
    "        'BEB123453'"
   ]
  },
  {
   "cell_type": "markdown",
   "id": "9833efc5",
   "metadata": {},
   "source": [
    "- **title() -> Coloca a 1ª letra de cada palavra em maiúscula**"
   ]
  },
  {
   "cell_type": "markdown",
   "id": "af41f47b",
   "metadata": {},
   "source": [
    "    Uso:\n",
    "        texto = 'joão paulo lira'\n",
    "        print(texto.title())\n",
    "    Resultado:\n",
    "        'João Paulo Lira'"
   ]
  },
  {
   "cell_type": "markdown",
   "id": "f94cfd8b",
   "metadata": {},
   "source": [
    "- **upper()\t-> Coloca o texto todo em letra maiúscula**"
   ]
  },
  {
   "cell_type": "markdown",
   "id": "1799afee",
   "metadata": {},
   "source": [
    "    Uso:\n",
    "        texto = 'beb12343'\n",
    "        print(texto.upper())\n",
    "    Resultado:\n",
    "        'BEB12343'"
   ]
  },
  {
   "cell_type": "markdown",
   "id": "b7df949e",
   "metadata": {},
   "source": [
    "## Exercitando"
   ]
  },
  {
   "cell_type": "code",
   "execution_count": 31,
   "id": "983caaa6",
   "metadata": {},
   "outputs": [
    {
     "name": "stdout",
     "output_type": "stream",
     "text": [
      "['Olá, bom dia', '        Venho por meio desse e-mail lhe informar o faturamento da loja no dia de hoje.', '        Faturamento = R$2.500,00', '        ']\n"
     ]
    }
   ],
   "source": [
    "texto = '''Olá, bom dia\n",
    "        Venho por meio desse e-mail lhe informar o faturamento da loja no dia de hoje.\n",
    "        Faturamento = R$2.500,00\n",
    "        '''\n",
    "print(texto.splitlines())"
   ]
  },
  {
   "cell_type": "markdown",
   "id": "9d20b85b",
   "metadata": {},
   "source": [
    "# Exercícios\n",
    "\n",
    "## 1. Cadastro de CPF\n",
    "\n",
    "Crie um programa para cadastro de CPF de clientes que recebe o CPF em um input box apenas com números.\n",
    "\n",
    "Ex: 'Insira seu CPF (digite apenas números)'\n",
    "\n",
    "Caso o usuário digite algo diferente de números ou digite menos de 11 caracteres (tamanho do CPF brasileiro), o programa deve exibir uma mensagem de \"Digite seu CPF corretamente e digite apenas números\""
   ]
  },
  {
   "cell_type": "code",
   "execution_count": 3,
   "id": "7d41e2f2",
   "metadata": {},
   "outputs": [
    {
     "name": "stdout",
     "output_type": "stream",
     "text": [
      "Insira seu CPF (digite apenas números)49841251876\n",
      "49841251876\n"
     ]
    }
   ],
   "source": [
    "# Pedir ao usuario o CPF\n",
    "cpf = input('Insira seu CPF (digite apenas números)')\n",
    "\n",
    "#quantidade de números do CPF: 11.\n",
    "if len(cpf) == 11 and cpf.isnumeric(): #se tem 11 caracteres e se é numérico\n",
    "    print(cpf)\n",
    "else:\n",
    "    print('Digite seu CPF corretamente e digite apenas números')\n"
   ]
  },
  {
   "cell_type": "markdown",
   "id": "1cac44b5",
   "metadata": {},
   "source": [
    "## 2. Melhorando nosso Cadastro de CPF\n",
    "\n",
    "Agora, além das validações anteriores, vamos criar um input que permita que o usuário insira pontos, traços e inclusive espaços vazios.\n",
    "\n",
    "Nosso programa deve \"tratar\" o que o usuário inserir para padronizar o CPF dele em apenas números.\n",
    "\n",
    "A verificação de tamanho do CPF com 11 caracteres continua válida, mas ela só deve ser feita depois de retirar todos os pontos, traços e espaços do CPF que o cliente inserir e, uma vez retirados pontos, traços e espaços, devem sobrar apenas números no CPF. Qualquer outro caractere deve ser considerado inválido.\n",
    "\n",
    "No final, nosso programa deve exibir uma mensagem para o usuário, caso ele tenha inserido o CPF inválido ou então apenas deve printar o CPF correto já só com número."
   ]
  },
  {
   "cell_type": "code",
   "execution_count": 10,
   "id": "6e5eb8b2",
   "metadata": {},
   "outputs": [
    {
     "name": "stdout",
     "output_type": "stream",
     "text": [
      "Insira seu CPF498.412.518-76\n",
      "49841251876\n"
     ]
    }
   ],
   "source": [
    "# Pedir ao usuario o CPF\n",
    "cpf = input('Insira seu CPF')\n",
    "\n",
    "# Tratar o CPF\n",
    "# Espaços no início e no final\n",
    "cpf = cpf.strip()\n",
    "\n",
    "# Tirar os pontos (.)\n",
    "cpf = cpf.replace('.', '')\n",
    "\n",
    "# Tirar os traços (-)\n",
    "cpf = cpf.replace('-','')\n",
    "\n",
    "# Quantidade de números do CPF: 11.\n",
    "if len(cpf) == 11 and cpf.isnumeric(): #se tem 11 caracteres e se é numérico\n",
    "    print(cpf)\n",
    "else:\n",
    "    print('Digite seu CPF corretamente e digite apenas números')\n"
   ]
  },
  {
   "cell_type": "markdown",
   "id": "00fe8b21",
   "metadata": {},
   "source": [
    "## 3. Cadastro de e-mails\n",
    "\n",
    "- A Hashtag sempre se comunica com seus clientes por e-mail. Para isso, a gente tem em cada página um cadastro de nome e e-mail. Nesse cadastro, nosso sistema verifica se o e-mail que a pessoa inseriu é um e-mail válido, verificando se ele tem '@' e se depois do '@' tem algum ponto, afinal:\n",
    "\n",
    "- liragmail.com NÃO é um e-mail válido\n",
    "- lira@gmail NÃO é um e-mail válido\n",
    "- lira@gmail.com é um e-mail válido\n",
    "\n",
    "Crie um programa que permita o cadastro de nome e e-mail de uma pessoa (por meio de inputs) e que verifique:\n",
    "1. Se nome e e-mail foram preenchidos, caso contrário ele deve avisar para preencher todos os dados corretamente\n",
    "2. Se o e-mail contém '@' e se depois do '@' existe algum '.', caso contrário ele deve exibir uma mensagem de e-mail inválido\n",
    "\n",
    "Obs: Pode te ajudar lembrar do método .find da aula de Métodos de String. Você pode testar o que ele dá como resposta caso ele não encontre um item dentro da string"
   ]
  },
  {
   "cell_type": "code",
   "execution_count": 11,
   "id": "fa85bf68",
   "metadata": {},
   "outputs": [
    {
     "name": "stdout",
     "output_type": "stream",
     "text": [
      "Digite o seu nomeLucas\n",
      "Digite o seu e-maillucasguaragna99@gmail.com\n",
      "Cadastro concluído\n"
     ]
    }
   ],
   "source": [
    "nome = input('Digite o seu nome')\n",
    "email = input('Digite o seu e-mail')\n",
    "\n",
    "#print(email.find('@')) - se a resposta for -1, não existe um @ na string em questão \n",
    "\n",
    "if nome and email: # se o nome e email estiverem preenchidos\n",
    "    pos_a = email.find('@') # Encontrar a posição do @ e armazenar em pos_a\n",
    "    servidor = email[pos_a:] # O servidor de email será encontrado depois da posição do @\n",
    "    if pos_a != -1 and '.' in servidor:\n",
    "        print('Cadastro concluído')\n",
    "    else: \n",
    "        print('Digite seu nome e e-mail corretamente')\n",
    "else:\n",
    "    print('Digite seu nome e e-mail corretamente')"
   ]
  },
  {
   "cell_type": "markdown",
   "id": "c5578e42",
   "metadata": {},
   "source": [
    "# Format - Aula de consulta\n",
    "### Como usar o format para criar formatações personalizadas em prints e textos"
   ]
  },
  {
   "cell_type": "markdown",
   "id": "d15992b5",
   "metadata": {},
   "source": [
    ":<      Alinha o texto à esquerda (se tiver espaço na tela para isso)\n",
    ":>      Alinha o texto à direita (se tiver espaço na tela para isso)\n",
    ":^      Alinha o texto ao centro (se tiver espaço na tela para isso)\n",
    ":+      Coloca o sinal sempre na frente do número (independente se é positivo ou negativo)\n",
    ":,      Coloca a vírgula como separador de milhar\n",
    ":_      Coloca o _ como separador de milhar\n",
    ":e      Formato Científico\n",
    ":f      Número com quantidade fixa de casas decimais\n",
    ":x      Formato HEX minúscula (para cores)\n",
    ":X      Formato HEX maiúscula (para cores)\n",
    ":%      Formato Percentual"
   ]
  },
  {
   "cell_type": "code",
   "execution_count": null,
   "id": "1c313e89",
   "metadata": {},
   "outputs": [],
   "source": [
    "print('Faturamento foi de {}'.format(1000))"
   ]
  },
  {
   "cell_type": "markdown",
   "id": "0643e316",
   "metadata": {},
   "source": [
    "- **Exemplo de Alinhamento**"
   ]
  },
  {
   "cell_type": "code",
   "execution_count": 16,
   "id": "78f6137c",
   "metadata": {},
   "outputs": [
    {
     "name": "stdout",
     "output_type": "stream",
     "text": [
      "Meu e-mail não é lucas@gmail.com               , fechou?\n",
      "Meu e-mail não é                lucas@gmail.com, fechou?\n"
     ]
    }
   ],
   "source": [
    "email = 'lucas@gmail.com'\n",
    "print('Meu e-mail não é {:<30}, fechou?'.format(email)) #caixa de 30 caracteres alinhado na esquerda\n",
    "print('Meu e-mail não é {:>30}, fechou?'.format(email)) #caixa de 30 caracteres alinhado na direita"
   ]
  },
  {
   "cell_type": "markdown",
   "id": "6b3b0b30",
   "metadata": {},
   "source": [
    "- **Exemplo de Edição de Sinal**"
   ]
  },
  {
   "cell_type": "code",
   "execution_count": 17,
   "id": "0d985694",
   "metadata": {},
   "outputs": [
    {
     "name": "stdout",
     "output_type": "stream",
     "text": [
      "Faturamento foi de +270, o lucro foi de -230\n"
     ]
    }
   ],
   "source": [
    "custo = 500\n",
    "faturamento = 270\n",
    "lucro = faturamento - custo\n",
    "print('Faturamento foi de {:+}, o lucro foi de {:+}'.format(faturamento, lucro)) # Mostra sempre o sinal do número"
   ]
  },
  {
   "cell_type": "markdown",
   "id": "0b2be14d",
   "metadata": {},
   "source": [
    "- **Exemplo de Separador de Milhar**"
   ]
  },
  {
   "cell_type": "code",
   "execution_count": 23,
   "id": "c3374925",
   "metadata": {},
   "outputs": [
    {
     "name": "stdout",
     "output_type": "stream",
     "text": [
      "Faturamento foi de 27,000 e o lucro foi de -23,000\n"
     ]
    }
   ],
   "source": [
    "custo = 50000\n",
    "faturamento = 27000\n",
    "lucro = faturamento - custo\n",
    "print('Faturamento foi de {:,} e o lucro foi de {:,}'.format(faturamento, lucro))"
   ]
  },
  {
   "cell_type": "markdown",
   "id": "be78c427",
   "metadata": {},
   "source": [
    "- **Formato com casas Decimais fixas**"
   ]
  },
  {
   "cell_type": "code",
   "execution_count": 24,
   "id": "993737b7",
   "metadata": {},
   "outputs": [
    {
     "name": "stdout",
     "output_type": "stream",
     "text": [
      "Faturamento foi de 27000.00 e o lucro foi de -23000.00\n"
     ]
    }
   ],
   "source": [
    "custo = 50000\n",
    "faturamento = 27000\n",
    "lucro = faturamento - custo\n",
    "print('Faturamento foi de {:.2f} e o lucro foi de {:.2f}'.format(faturamento, lucro))"
   ]
  },
  {
   "cell_type": "markdown",
   "id": "9f2e9f6a",
   "metadata": {},
   "source": [
    "- **Formato Percentual**"
   ]
  },
  {
   "cell_type": "code",
   "execution_count": 26,
   "id": "ebdcb9fb",
   "metadata": {},
   "outputs": [
    {
     "name": "stdout",
     "output_type": "stream",
     "text": [
      "Faturamento foi de 27000.00 e a margem foi de -85.19%\n"
     ]
    }
   ],
   "source": [
    "custo = 50000\n",
    "faturamento = 27000\n",
    "lucro = faturamento - custo\n",
    "margem = lucro / faturamento\n",
    "print('Faturamento foi de {:.2f} e a margem foi de {:.2%}'.format(faturamento, margem))"
   ]
  },
  {
   "cell_type": "markdown",
   "id": "175c6063",
   "metadata": {},
   "source": [
    "- **Formato Moeda -> Combinação de Formatos**\n",
    "\n",
    "Existem módulos/bibliotecas que vão facilitar isso, caso a gente queira, mas vamos ver como usar módulos mais a frente do curso. Por enquanto, se você precisar, pode fazer substituições em string"
   ]
  },
  {
   "cell_type": "code",
   "execution_count": 28,
   "id": "cb7b05b8",
   "metadata": {},
   "outputs": [
    {
     "name": "stdout",
     "output_type": "stream",
     "text": [
      "Faturamento foi de R$27,000.00 e lucro foi R$-23,000.00\n",
      "R$-23.000,00\n"
     ]
    }
   ],
   "source": [
    "custo = 50000\n",
    "faturamento = 27000\n",
    "lucro = faturamento - custo\n",
    "print('Faturamento foi de R${:,.2f} e lucro foi R${:,.2f}'.format(faturamento, lucro))\n",
    "\n",
    "#Para colocarmos no formato BR:\n",
    "lucro_texto = 'R${:_.2f}'.format(lucro)\n",
    "print(lucro_texto.replace('.',',').replace('_','.'))"
   ]
  },
  {
   "cell_type": "markdown",
   "id": "9d76b81f",
   "metadata": {},
   "source": [
    "- **Função round() para arredondar números, caso seja necessário**"
   ]
  },
  {
   "cell_type": "code",
   "execution_count": 29,
   "id": "51a3963c",
   "metadata": {},
   "outputs": [
    {
     "name": "stdout",
     "output_type": "stream",
     "text": [
      "Imposto sobre o preço é de 15.8\n"
     ]
    }
   ],
   "source": [
    "imposto = 0.15758\n",
    "preco = 100\n",
    "valor_imposto = round(preco * imposto, 1)\n",
    "print('Imposto sobre o preço é de {}'.format(valor_imposto))"
   ]
  }
 ],
 "metadata": {
  "kernelspec": {
   "display_name": "Python 3",
   "language": "python",
   "name": "python3"
  },
  "language_info": {
   "codemirror_mode": {
    "name": "ipython",
    "version": 3
   },
   "file_extension": ".py",
   "mimetype": "text/x-python",
   "name": "python",
   "nbconvert_exporter": "python",
   "pygments_lexer": "ipython3",
   "version": "3.8.8"
  }
 },
 "nbformat": 4,
 "nbformat_minor": 5
}
