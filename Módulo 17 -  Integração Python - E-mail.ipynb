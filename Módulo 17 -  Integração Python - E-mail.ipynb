{
 "cells": [
  {
   "cell_type": "markdown",
   "id": "cb73208c",
   "metadata": {},
   "source": [
    "# Integração Python com E-mail\n",
    "\n",
    "### 2 formas de integrar:\n",
    "\n",
    "- Gmail\n",
    "- Outlook\n",
    "\n",
    "Vamos primeiro falar do método Gmail e depois do Outlook. Eles são bem diferentes, então você não precisa saber um para usar o outro."
   ]
  },
  {
   "cell_type": "markdown",
   "id": "94a08f37",
   "metadata": {},
   "source": [
    "### Método Gmail\n",
    "\n",
    "- Você precisa liberar o seu e-mail para esse tipo de atividade. (ou criar um e-mail novo)<br>\n",
    "https://myaccount.google.com/lesssecureapps\n",
    "- Como tudo no Python, existem várias bibliotecas que podem ajudar nisso, usaremos a yagmail porque ela simplifica muito a nossa vida\n",
    "- Precisamos instalar o Yagmail"
   ]
  },
  {
   "cell_type": "markdown",
   "id": "79a6e57c",
   "metadata": {},
   "source": [
    "# Integração Python com Gmail - Usando yagmail\n",
    "\n",
    "### 2 métodos principais\n",
    "\n",
    "- yagmail.smtp (smtp é o padrão de segurança do Gmail)"
   ]
  },
  {
   "cell_type": "raw",
   "id": "57368576",
   "metadata": {},
   "source": [
    "usuario = yagmail.SMTP(user='usuario@gmail.com', password='senha')"
   ]
  },
  {
   "cell_type": "markdown",
   "id": "d0a6338f",
   "metadata": {},
   "source": [
    "- .send"
   ]
  },
  {
   "cell_type": "raw",
   "id": "2d12c93a",
   "metadata": {},
   "source": [
    "usuario.send(to='destinatario', subject='assunto', contents='conteúdo do email')"
   ]
  },
  {
   "cell_type": "markdown",
   "id": "3b9c639d",
   "metadata": {},
   "source": [
    "### Enviando E-mail"
   ]
  },
  {
   "cell_type": "code",
   "execution_count": 3,
   "id": "3e42d81b",
   "metadata": {},
   "outputs": [
    {
     "data": {
      "text/plain": [
       "{}"
      ]
     },
     "execution_count": 3,
     "metadata": {},
     "output_type": "execute_result"
    }
   ],
   "source": [
    "import yagmail\n",
    "\n",
    "\n",
    "usuario = yagmail.SMTP(user = 'SEU E-MAIL', password = 'INSERIR SENHA')\n",
    "usuario.send(to = 'lucasguaragna99@gmail.com', subject = 'Meu primeiro E-mail no Python', contents = 'teste')"
   ]
  },
  {
   "cell_type": "markdown",
   "id": "38b3d927",
   "metadata": {},
   "source": [
    "### Enviando E-mail com Anexo(s)"
   ]
  },
  {
   "cell_type": "code",
   "execution_count": 4,
   "id": "c35f70c8",
   "metadata": {},
   "outputs": [
    {
     "data": {
      "text/plain": [
       "{}"
      ]
     },
     "execution_count": 4,
     "metadata": {},
     "output_type": "execute_result"
    }
   ],
   "source": [
    "usuario.send(to = 'lucasguaragna99@gmail.com', subject = 'Relatório Financeiro', \\\n",
    "             contents = 'Prezado Lira,\\n, Segue em anexo o relatório financeiro\\nAtenciosamente, teste Lucas',\\\n",
    "             attachments = 'Financeiro.xlsx')"
   ]
  },
  {
   "cell_type": "markdown",
   "id": "74dd6b15",
   "metadata": {},
   "source": [
    "### Cópia, mais de 1 destinatário e outras variações"
   ]
  },
  {
   "cell_type": "code",
   "execution_count": 8,
   "id": "59329a2d",
   "metadata": {},
   "outputs": [
    {
     "data": {
      "text/plain": [
       "{}"
      ]
     },
     "execution_count": 8,
     "metadata": {},
     "output_type": "execute_result"
    }
   ],
   "source": [
    "usuario.send(to = ['lucasguaragna99@gmail.com', 'testeguaragna@gmail.com'],\\\n",
    "             cc = 'testeguaragna@gmail.com',\\\n",
    "             subject = 'Meu primeiro E-mail no Python', contents = 'teste')\n",
    "# cc -> cópia\n",
    "# bc -> cópia oculta"
   ]
  },
  {
   "cell_type": "markdown",
   "id": "0cb46777",
   "metadata": {},
   "source": [
    "### Personalizando o texto do e-mail\n",
    "\n",
    "- Com Python normal"
   ]
  },
  {
   "cell_type": "code",
   "execution_count": 9,
   "id": "5683beb5",
   "metadata": {},
   "outputs": [
    {
     "data": {
      "text/plain": [
       "{}"
      ]
     },
     "execution_count": 9,
     "metadata": {},
     "output_type": "execute_result"
    }
   ],
   "source": [
    "# primeira forma: lista de frases\n",
    "corpo_email = [\n",
    "    'Fala, Lucas',\n",
    "    'Enviei esse email para passar o relatório de vendas do ano passado',\n",
    "    'Atenciosamente,',\n",
    "    'Lucas'\n",
    "]\n",
    "corpo_email = '\\n'.join(corpo_email) # separando cada item da lista por um '\\n' (enter)\n",
    "\n",
    "# segunda forma: string de varias linhas\n",
    "corpo_email2 = '''\n",
    "Fala Lucas, tranquilo?\n",
    "Enviei esse email para passar o relatório de vendas do ano passado\n",
    "Atenciosamente,\n",
    "Lucas\n",
    "'''\n",
    "\n",
    "usuario.send(to = 'lucasguaragna99@gmail.com', subject = 'Meu primeiro E-mail no Python', contents = corpo_email)\n",
    "usuario.send(to = 'lucasguaragna99@gmail.com', subject = 'Meu primeiro E-mail no Python', contents = corpo_email2)"
   ]
  },
  {
   "cell_type": "markdown",
   "id": "0d40eb8a",
   "metadata": {},
   "source": [
    "- Com HTML"
   ]
  },
  {
   "cell_type": "code",
   "execution_count": 10,
   "id": "8bd2525e",
   "metadata": {},
   "outputs": [
    {
     "data": {
      "text/plain": [
       "{}"
      ]
     },
     "execution_count": 10,
     "metadata": {},
     "output_type": "execute_result"
    }
   ],
   "source": [
    "corpo_texto = '''\n",
    "<p> Fala <b> Lucas </b> , tranquilo? </p>\n",
    "<p> Enviei esse email para passar o relatório de vendas do ano passado </b>\n",
    "<p> Att. </p>\n",
    "<p> Lucas </p>\n",
    "'''\n",
    "usuario.send(to = 'lucasguaragna99@gmail.com', subject = 'Meu primeiro E-mail no Python', contents = corpo_texto)"
   ]
  },
  {
   "cell_type": "markdown",
   "id": "80178d9c",
   "metadata": {},
   "source": [
    "# Integração Python com Outlook\n",
    "\n",
    "### Funciona para qualquer e-mail: corporativo, gmail, hotmail, etc.\n",
    "\n",
    "- Passo 1: Importar win32 e inicializar o outlook"
   ]
  },
  {
   "cell_type": "code",
   "execution_count": 8,
   "id": "d9190cce",
   "metadata": {},
   "outputs": [],
   "source": [
    "import win32com.client as win32\n",
    "outlook = win32.Dispatch('outlook.application')"
   ]
  },
  {
   "cell_type": "markdown",
   "id": "b5691d48",
   "metadata": {},
   "source": [
    "- Passo 2: Escrever o e-mail e disparar"
   ]
  },
  {
   "cell_type": "code",
   "execution_count": 9,
   "id": "d58b1885",
   "metadata": {},
   "outputs": [],
   "source": [
    "mail = outlook.CreateItem(0)\n",
    "mail.To = 'joaoprlira@gmail.com'\n",
    "mail.CC = 'email@gmail.com'\n",
    "mail.BCC = 'email@gmail.com'\n",
    "mail.Subject = 'Email vindo do Outlook'\n",
    "mail.Body = 'Texto do E-mail'\n",
    "#ou mail.HTMLBody = '<p>Corpo do Email em HTML</p>'\n",
    "\n",
    "# Anexos (pode colocar quantos quiser):\n",
    "attachment  = r'C:\\Users\\joaop\\Google Drive\\Python Impressionador\\Financeiro.xlsx'\n",
    "mail.Attachments.Add(attachment)\n",
    "\n",
    "mail.Send()"
   ]
  },
  {
   "cell_type": "markdown",
   "id": "5900c430",
   "metadata": {},
   "source": [
    "# Desafio Python e E-mail\n",
    "\n",
    "### Descrição\n",
    "\n",
    "Digamos que você trabalha em uma indústria e está responsável pela área de inteligência de negócio.\n",
    "\n",
    "Todo dia, você, a equipe ou até mesmo um programa, gera um report diferente para cada área da empresa:\n",
    "- Financeiro\n",
    "- Logística\n",
    "- Manutenção\n",
    "- Marketing\n",
    "- Operações\n",
    "- Produção\n",
    "- Vendas\n",
    "\n",
    "Cada um desses reports deve ser enviado por e-mail para o Gerente de cada Área.\n",
    "\n",
    "Crie um programa que faça isso automaticamente. A relação de Gerentes (com seus respectivos e-mails) e áreas está no arquivo 'Enviar E-mails.xlsx'.\n",
    "\n",
    "Dica: Use o pandas read_excel para ler o arquivo dos e-mails que isso vai facilitar."
   ]
  },
  {
   "cell_type": "code",
   "execution_count": 3,
   "id": "55a6199b",
   "metadata": {},
   "outputs": [],
   "source": [
    "import pandas as pd\n",
    "import win32com.client as win32\n",
    "\n",
    "outlook = win32.Dispatch('outlook.application')\n",
    "\n",
    "# Lendo a base de dados dos gerentes\n",
    "gerentes_df = pd.read_excel('Enviar E-mails.xlsx')\n",
    "#gerentes_df.info()\n",
    "\n",
    "for i, email in enumerate(gerentes_df['E-mail']):\n",
    "    gerente = gerentes_df.loc[i, 'Gerente']\n",
    "    area = gerentes_df.loc[i, 'Relatório']\n",
    "    \n",
    "    mail = outlook.CreateItem(0)\n",
    "    mail.To = email\n",
    "    mail.Subject = 'Relatório de {}'.format(area)\n",
    "    mail.Body = '''\n",
    "    Prezado {}, \n",
    "    Segue em anexo o Relatório de {}, conforme solicitado.\n",
    "    Qualquer dúvida estou à disposição.\n",
    "    Att.,\n",
    "    '''.format(gerente, area)\n",
    "    attachment  = r'C:\\Users\\lucas\\OneDrive\\Documentos\\Cursos\\Hashtag Treinamentos- Python Impressionador\\Programas\\{}.xlsx'.format(area)\n",
    "    mail.Attachments.Add(attachment)\n",
    "\n",
    "    mail.Send()"
   ]
  },
  {
   "cell_type": "markdown",
   "id": "77912ef8",
   "metadata": {},
   "source": [
    "# Localizar Email e Anexo com Python\n",
    "Podemos localizar o que quisermos dentro da nossa caixa de entrada do e-mail"
   ]
  },
  {
   "cell_type": "code",
   "execution_count": null,
   "id": "d9b960a7",
   "metadata": {},
   "outputs": [],
   "source": [
    "from imap_tools import MailBox, AND\n",
    "\n",
    "# pegar emails de um remetente para um destinatário\n",
    "username = \"seu_email\"\n",
    "password = \"senha\"\n",
    "\n",
    "# lista de imaps: https://www.systoolsgroup.com/imap/\n",
    "meu_email = MailBox('imap.gmail.com').login(username, password)\n",
    "\n",
    "# criterios: https://github.com/ikvk/imap_tools#search-criteria\n",
    "lista_emails = meu_email.fetch(AND(from_=\"remetente\", to=\"destinatario\")) \n",
    "for email in lista_emails:\n",
    "    print(email.subject)\n",
    "    print(email.text)\n",
    "\n",
    "\n",
    "# pegar emails com um anexo específico\n",
    "lista_emails = meu_email.fetch(AND(from_=\"remetente\"))\n",
    "for email in lista_emails:\n",
    "    if len(email.attachments) > 0:\n",
    "        for anexo in email.attachments:\n",
    "            if \"TituloAnexo\" in anexo.filename:\n",
    "                print(anexo.content_type)\n",
    "                print(anexo.payload)\n",
    "                with open(\"Teste.xlsx\", 'wb') as arquivo_excel:\n",
    "                    arquivo_excel.write(anexo.payload)"
   ]
  }
 ],
 "metadata": {
  "kernelspec": {
   "display_name": "Python 3",
   "language": "python",
   "name": "python3"
  },
  "language_info": {
   "codemirror_mode": {
    "name": "ipython",
    "version": 3
   },
   "file_extension": ".py",
   "mimetype": "text/x-python",
   "name": "python",
   "nbconvert_exporter": "python",
   "pygments_lexer": "ipython3",
   "version": "3.8.8"
  }
 },
 "nbformat": 4,
 "nbformat_minor": 5
}
