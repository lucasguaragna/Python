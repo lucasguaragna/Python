{
 "cells": [
  {
   "cell_type": "markdown",
   "id": "9d8cc90c",
   "metadata": {},
   "source": [
    "# Meu primeiro programa, bora pra cima, Hashtag (13/08/2021)"
   ]
  },
  {
   "cell_type": "markdown",
   "id": "adba1b4f",
   "metadata": {},
   "source": [
    "O exponencial é expresso por ** <br>\n",
    "Mode: resto da divisão é expresso por % <br>\n",
    "Operações matemáticas seguem a mesma ordem de prioridade: parêntesis <br>\n",
    "**Concatenar string**: (\"meu nome é\" + \"Lucas\") <br>\n",
    "**Comparar strings**: (\"Lucas\" **in** \"lucas\") = False ou ('Lucas' **in** 'Lucas') = True <br>\n",
    "Podemos fazer perguntas usando o \"input()\". Podemos armazená-la em uma variável para utilização posterior."
   ]
  },
  {
   "cell_type": "code",
   "execution_count": 6,
   "id": "7c1cd02e",
   "metadata": {},
   "outputs": [
    {
     "name": "stdout",
     "output_type": "stream",
     "text": [
      "qual o seu nome?Lucas\n",
      "qual o seu sobrenome?Guaragna\n",
      "Lucas Guaragna\n"
     ]
    }
   ],
   "source": [
    "#Exemplo de utilização de Input()\n",
    "nome = input('qual o seu nome?')\n",
    "sobrenome = input('qual o seu sobrenome?')\n",
    "print(nome + ' ' + sobrenome)"
   ]
  },
  {
   "cell_type": "markdown",
   "id": "fa1219f5",
   "metadata": {},
   "source": [
    "**Como abrir exercícios do nosso pc**: devemos abrir o jupyter e procurar o arquivo por ele"
   ]
  },
  {
   "cell_type": "markdown",
   "id": "2a4c7a40",
   "metadata": {},
   "source": [
    "**Os exercícios do módulo ficarão salvos na pasta do curso**"
   ]
  },
  {
   "cell_type": "markdown",
   "id": "65769c85",
   "metadata": {},
   "source": [
    "# Alguns problemas com o print() <br>\n",
    "Nunca use print com = <br>\n",
    "print = algum_valor"
   ]
  },
  {
   "cell_type": "code",
   "execution_count": null,
   "id": "07996cbd",
   "metadata": {},
   "outputs": [],
   "source": []
  }
 ],
 "metadata": {
  "kernelspec": {
   "display_name": "Python 3",
   "language": "python",
   "name": "python3"
  },
  "language_info": {
   "codemirror_mode": {
    "name": "ipython",
    "version": 3
   },
   "file_extension": ".py",
   "mimetype": "text/x-python",
   "name": "python",
   "nbconvert_exporter": "python",
   "pygments_lexer": "ipython3",
   "version": "3.8.8"
  }
 },
 "nbformat": 4,
 "nbformat_minor": 5
}
